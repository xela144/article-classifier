{
 "cells": [
  {
   "cell_type": "code",
   "execution_count": 2,
   "metadata": {},
   "outputs": [
    {
     "data": {
      "text/plain": [
       "['\\x85']"
      ]
     },
     "execution_count": 2,
     "metadata": {},
     "output_type": "execute_result"
    }
   ],
   "source": [
    "import locale\n",
    "\n",
    "#from matplotlib import pyplot as plt\n",
    "import numpy as np\n",
    "\n",
    "from db import psqlServer\n",
    "sv = psqlServer()\n",
    "\n",
    "control_chars = [chr(0x85)]\n",
    "locale.setlocale(locale.LC_ALL, 'C')\n",
    "\n"
   ]
  },
  {
   "cell_type": "code",
   "execution_count": 3,
   "metadata": {},
   "outputs": [],
   "source": [
    "def normalize_text(text):\n",
    "    norm_text = text.lower()\n",
    "    # Replace breaks with spaces\n",
    "    norm_text = norm_text.replace('<br />', ' ')\n",
    "    # Pad punctuation with spaces on both sides\n",
    "    for char in ['.', '\"', ',', '(', ')', '!', '?', ';', ':']:\n",
    "        norm_text = norm_text.replace(char, ' ' + char + ' ')\n",
    "    return norm_text"
   ]
  },
  {
   "cell_type": "code",
   "execution_count": null,
   "metadata": {},
   "outputs": [],
   "source": []
  },
  {
   "cell_type": "code",
   "execution_count": 2,
   "metadata": {},
   "outputs": [],
   "source": [
    "AI = \"arx_AI\"        # artificial intelligence\n",
    "FA = \"arx_math_FA\"   # functional analysis\n",
    "GR = \"arx_GRQC\"      # general relativity and quantum cosmology\n",
    "LG = \"arx\"           # learning\n",
    "NT = \"arx_math_NT\"   # number theory"
   ]
  },
  {
   "cell_type": "code",
   "execution_count": 3,
   "metadata": {},
   "outputs": [
    {
     "name": "stdout",
     "output_type": "stream",
     "text": [
      "116060\n"
     ]
    }
   ],
   "source": [
    "# How many items in all tables?\n",
    "UNION = \" UNION ALL \"\n",
    "SEL_C = \"SELECT COUNT(*) as FOO FROM \"\n",
    "sum_statement = \"SELECT SUM(FOO) FROM (\"\n",
    "sum_statement += SEL_C + AI\n",
    "sum_statement += UNION + SEL_C + FA \n",
    "sum_statement += UNION + SEL_C + GR \n",
    "sum_statement += UNION + SEL_C + LG \n",
    "sum_statement += UNION + SEL_C + NT\n",
    "sum_statement += \") as B;\"\n",
    "\n",
    "total = sv.execute(sum_statement)[0]['sum']\n",
    "print(total)"
   ]
  },
  {
   "cell_type": "code",
   "execution_count": 4,
   "metadata": {},
   "outputs": [
    {
     "name": "stdout",
     "output_type": "stream",
     "text": [
      "AI:13000\n",
      "FA:16000\n",
      "GR:50000\n",
      "LG:15060\n",
      "NT:22000\n"
     ]
    }
   ],
   "source": [
    "# Per table\n",
    "SEL_C = \"SELECT COUNT(*) FROM \"\n",
    "total_AI = sv.execute(SEL_C + AI)[0]['count']\n",
    "total_FA = sv.execute(SEL_C + FA)[0]['count']\n",
    "total_GR = sv.execute(SEL_C + GR)[0]['count']\n",
    "total_LG = sv.execute(SEL_C + LG)[0]['count']\n",
    "total_NT = sv.execute(SEL_C + NT)[0]['count']\n",
    "\n",
    "print(\"AI:{}\".format(total_AI))\n",
    "print(\"FA:{}\".format(total_FA))\n",
    "print(\"GR:{}\".format(total_GR))\n",
    "print(\"LG:{}\".format(total_LG))\n",
    "print(\"NT:{}\".format(total_NT))"
   ]
  },
  {
   "cell_type": "code",
   "execution_count": 101,
   "metadata": {},
   "outputs": [],
   "source": [
    "# Get some rows from the AI table\n",
    "rows = sv.execute(\"SELECT * FROM arx LIMIT 10000\")\n",
    "corpus = [x['abstract'] for x in rows]\n",
    "labels = [x['has_journal_ref'] for x in rows]\n",
    "\n",
    "rows2 = sv.execute(\"SELECT abstract FROM arx_math_FA LIMIT 10000\")\n",
    "corpus += [x['abstract'] for x in rows2]\n",
    "\n",
    "rows3 = sv.execute(\"SELECT abstract FROM arx_GRQC LIMIT 30000\")\n",
    "corpus += [x['abstract'] for x in rows3]\n"
   ]
  },
  {
   "cell_type": "code",
   "execution_count": 102,
   "metadata": {},
   "outputs": [],
   "source": [
    "corpus_n = []\n",
    "jj = 0\n",
    "for corp in corpus:\n",
    "    corpus_n.append(u\"_*{0} {1}\\n\".format(jj, normalize_text(corp)))\n",
    "    jj += 1"
   ]
  },
  {
   "cell_type": "code",
   "execution_count": 103,
   "metadata": {},
   "outputs": [
    {
     "data": {
      "text/plain": [
       "50000"
      ]
     },
     "execution_count": 103,
     "metadata": {},
     "output_type": "execute_result"
    }
   ],
   "source": [
    "len(corpus_n)"
   ]
  },
  {
   "cell_type": "code",
   "execution_count": 77,
   "metadata": {},
   "outputs": [],
   "source": [
    "import gensim\n",
    "from collections import namedtuple\n"
   ]
  },
  {
   "cell_type": "code",
   "execution_count": 104,
   "metadata": {},
   "outputs": [],
   "source": [
    "SentimentDocument = namedtuple('SentimentDocument', 'words tags split sentiment')\n",
    "alldocs = []\n",
    "for line_no, line in enumerate(corpus_n):\n",
    "    tokens = gensim.utils.to_unicode(corpus_n[line_no]).split()\n",
    "    words = tokens[1:]\n",
    "    tags = [line_no]\n",
    "    split = ['train', 'test', 'extra', 'extra'][line_no//12500]\n",
    "    sentiment = [1.0, 0.0, 1.0, 0.0, None, None, None, None][line_no//6750]\n",
    "    alldocs.append(SentimentDocument(words, tags, split, sentiment))\n"
   ]
  },
  {
   "cell_type": "code",
   "execution_count": 105,
   "metadata": {},
   "outputs": [
    {
     "data": {
      "text/plain": [
       "50000"
      ]
     },
     "execution_count": 105,
     "metadata": {},
     "output_type": "execute_result"
    }
   ],
   "source": [
    "len(alldocs)"
   ]
  },
  {
   "cell_type": "code",
   "execution_count": 106,
   "metadata": {},
   "outputs": [
    {
     "name": "stdout",
     "output_type": "stream",
     "text": [
      "50000 docs: 12500 train-sentiment, 12500 test-sentiment\n"
     ]
    }
   ],
   "source": [
    "train_docs = [doc for doc in alldocs if doc.split == 'train']\n",
    "test_docs = [doc for doc in alldocs if doc.split == 'test']\n",
    "doc_list = alldocs[:]  # For reshuffling per pass\n",
    "\n",
    "print('%d docs: %d train-sentiment, %d test-sentiment' % (len(doc_list), len(train_docs), len(test_docs)))"
   ]
  },
  {
   "cell_type": "code",
   "execution_count": 107,
   "metadata": {},
   "outputs": [],
   "source": [
    "from gensim.models import Doc2Vec\n",
    "import gensim.models.doc2vec\n",
    "from collections import OrderedDict\n",
    "import multiprocessing"
   ]
  },
  {
   "cell_type": "code",
   "execution_count": 108,
   "metadata": {},
   "outputs": [],
   "source": [
    "cores = multiprocessing.cpu_count()\n",
    "assert gensim.models.doc2vec.FAST_VERSION > -1, \"This will be painfully slow otherwise\""
   ]
  },
  {
   "cell_type": "code",
   "execution_count": 109,
   "metadata": {},
   "outputs": [],
   "source": [
    "simple_models = [\n",
    "    # PV-DM w/ concatenation - window=5 (both sides) approximates paper's 10-word total window size\n",
    "    Doc2Vec(dm=1, dm_concat=1, size=100, window=5, negative=5, hs=0, min_count=2, workers=cores),\n",
    "    # PV-DBOW \n",
    "    Doc2Vec(dm=0, size=100, negative=5, hs=0, min_count=2, workers=cores),\n",
    "    # PV-DM w/ average\n",
    "    Doc2Vec(dm=1, dm_mean=1, size=100, window=10, negative=5, hs=0, min_count=2, workers=cores),\n",
    "]"
   ]
  },
  {
   "cell_type": "code",
   "execution_count": 110,
   "metadata": {},
   "outputs": [],
   "source": [
    "simple_models[0].build_vocab(alldocs)"
   ]
  },
  {
   "cell_type": "code",
   "execution_count": 111,
   "metadata": {},
   "outputs": [
    {
     "name": "stdout",
     "output_type": "stream",
     "text": [
      "Doc2Vec(dm/c,d100,n5,w5,mc2,s0.001,t8)\n",
      "Doc2Vec(dbow,d100,n5,mc2,s0.001,t8)\n",
      "Doc2Vec(dm/m,d100,n5,w10,mc2,s0.001,t8)\n"
     ]
    }
   ],
   "source": [
    "print(simple_models[0])\n",
    "for model in simple_models[1:]:\n",
    "    \"\"\"Reuse shareable structures from other_model.\"\"\"\n",
    "    model.reset_from(simple_models[0])\n",
    "    print(model)"
   ]
  },
  {
   "cell_type": "code",
   "execution_count": 112,
   "metadata": {},
   "outputs": [],
   "source": [
    "models_by_name = OrderedDict((str(model), model) for model in simple_models)\n",
    "from gensim.test.test_doc2vec import ConcatenatedDoc2Vec\n",
    "models_by_name['dbow+dmm'] = ConcatenatedDoc2Vec([simple_models[1], simple_models[2]])\n",
    "models_by_name['dbow+dmc'] = ConcatenatedDoc2Vec([simple_models[1], simple_models[0]])"
   ]
  },
  {
   "cell_type": "code",
   "execution_count": 113,
   "metadata": {},
   "outputs": [
    {
     "data": {
      "text/plain": [
       "OrderedDict([('Doc2Vec(dm/c,d100,n5,w5,mc2,s0.001,t8)',\n",
       "              <gensim.models.doc2vec.Doc2Vec at 0x12e2ed4e0>),\n",
       "             ('Doc2Vec(dbow,d100,n5,mc2,s0.001,t8)',\n",
       "              <gensim.models.doc2vec.Doc2Vec at 0x12e2ed588>),\n",
       "             ('Doc2Vec(dm/m,d100,n5,w10,mc2,s0.001,t8)',\n",
       "              <gensim.models.doc2vec.Doc2Vec at 0x12e2ed630>),\n",
       "             ('dbow+dmm',\n",
       "              <gensim.test.test_doc2vec.ConcatenatedDoc2Vec at 0x12ef4ac88>),\n",
       "             ('dbow+dmc',\n",
       "              <gensim.test.test_doc2vec.ConcatenatedDoc2Vec at 0x12ef4ac50>)])"
      ]
     },
     "execution_count": 113,
     "metadata": {},
     "output_type": "execute_result"
    }
   ],
   "source": [
    "models_by_name"
   ]
  },
  {
   "cell_type": "code",
   "execution_count": 114,
   "metadata": {},
   "outputs": [],
   "source": [
    "\n",
    "# Predictive Evaluation Methods\n",
    "\n",
    "# Let's define some helper methods for evaluating the performance of our Doc2vec\n",
    "# using paragraph vectors. We will classify document sentiments using a logistic \n",
    "# regression model based on our paragraph embeddings. We will compare the error \n",
    "# rates based on word embeddings from our various Doc2vec models.\n",
    "import numpy as np\n",
    "import statsmodels.api as sm\n",
    "from random import sample\n",
    "\n",
    "# For timing\n",
    "from contextlib import contextmanager\n",
    "from timeit import default_timer\n",
    "import time \n"
   ]
  },
  {
   "cell_type": "code",
   "execution_count": 115,
   "metadata": {},
   "outputs": [],
   "source": [
    "@contextmanager\n",
    "def elapsed_timer():\n",
    "    start = default_timer()\n",
    "    elapser = lambda: default_timer() - start\n",
    "    yield lambda: elapser()\n",
    "    end = default_timer()\n",
    "    elapser = lambda: end-start\n",
    "    \n",
    "def logistic_predictor_from_data(train_targets, train_regressors):\n",
    "    logit = sm.Logit(train_targets, train_regressors)\n",
    "    predictor = logit.fit(disp=0)\n",
    "    # print(predictor.summary())\n",
    "    return predictor\n",
    "\n",
    "def error_rate_for_model(test_model, train_set, test_set, infer=False, infer_steps=3, infer_alpha=0.1, infer_subsample=0.1):\n",
    "    \"\"\"Report error rate on test_doc sentiments, using supplied model and train_docs\"\"\"\n",
    "\n",
    "    train_targets, train_regressors = zip(*[(doc.sentiment, test_model.docvecs[doc.tags[0]]) for doc in train_set])\n",
    "    train_regressors = sm.add_constant(train_regressors)\n",
    "    predictor = logistic_predictor_from_data(train_targets, train_regressors)\n",
    "\n",
    "    test_data = test_set\n",
    "    if infer:\n",
    "        if infer_subsample < 1.0:\n",
    "            test_data = sample(test_data, int(infer_subsample * len(test_data)))\n",
    "        test_regressors = [test_model.infer_vector(doc.words, steps=infer_steps, alpha=infer_alpha) for doc in test_data]\n",
    "    else:\n",
    "        test_regressors = [test_model.docvecs[doc.tags[0]] for doc in test_docs]\n",
    "    test_regressors = sm.add_constant(test_regressors)\n",
    "    \n",
    "    # Predict & evaluate\n",
    "    test_predictions = predictor.predict(test_regressors)\n",
    "    corrects = sum(np.rint(test_predictions) == [doc.sentiment for doc in test_data])\n",
    "    errors = len(test_predictions) - corrects\n",
    "    error_rate = float(errors) / len(test_predictions)\n",
    "    return (error_rate, errors, len(test_predictions), predictor)"
   ]
  },
  {
   "cell_type": "code",
   "execution_count": 116,
   "metadata": {},
   "outputs": [],
   "source": [
    "\n",
    "# Bulk Training\n",
    "\n",
    "# We use an explicit multiple-pass, alpha-reduction approach as sketched in \n",
    "# this gensim doc2vec blog post with added shuffling of corpus on each pass.\n",
    "# https://rare-technologies.com/doc2vec-tutorial/\n",
    "from collections import defaultdict\n",
    "best_error = defaultdict(lambda: 1.0)  # To selectively print only best errors achieved"
   ]
  },
  {
   "cell_type": "code",
   "execution_count": 117,
   "metadata": {
    "scrolled": false
   },
   "outputs": [
    {
     "name": "stdout",
     "output_type": "stream",
     "text": [
      "START 2017-11-29 23:33:24.361381\n",
      "*0.488720 : 1 passes : Doc2Vec(dm/c,d100,n5,w5,mc2,s0.001,t8) 10.2s 0.5s\n",
      "*0.483200 : 1 passes : Doc2Vec(dm/c,d100,n5,w5,mc2,s0.001,t8)_inferred 10.2s 2.0s\n",
      "*0.638880 : 1 passes : Doc2Vec(dbow,d100,n5,mc2,s0.001,t8) 4.6s 0.5s\n",
      "*0.648800 : 1 passes : Doc2Vec(dbow,d100,n5,mc2,s0.001,t8)_inferred 4.6s 1.0s\n",
      "*0.572080 : 1 passes : Doc2Vec(dm/m,d100,n5,w10,mc2,s0.001,t8) 7.7s 0.5s\n",
      "*0.618400 : 1 passes : Doc2Vec(dm/m,d100,n5,w10,mc2,s0.001,t8)_inferred 7.7s 1.2s\n",
      "*0.612000 : 1 passes : dbow+dmm 0.0s 1.2s\n",
      "*0.644800 : 1 passes : dbow+dmm_inferred 0.0s 2.2s\n",
      "*0.635600 : 1 passes : dbow+dmc 0.0s 0.9s\n",
      "*0.660000 : 1 passes : dbow+dmc_inferred 0.0s 3.0s\n",
      "Completed pass 1 at alpha 0.025000\n",
      " 0.503680 : 2 passes : Doc2Vec(dm/c,d100,n5,w5,mc2,s0.001,t8) 10.0s 0.5s\n",
      "*0.538560 : 2 passes : Doc2Vec(dbow,d100,n5,mc2,s0.001,t8) 4.5s 0.5s\n",
      " 0.582240 : 2 passes : Doc2Vec(dm/m,d100,n5,w10,mc2,s0.001,t8) 7.6s 0.5s\n",
      "*0.538400 : 2 passes : dbow+dmm 0.0s 0.9s\n",
      "*0.538400 : 2 passes : dbow+dmc 0.0s 1.0s\n",
      "Completed pass 2 at alpha 0.023800\n",
      " 0.526240 : 3 passes : Doc2Vec(dm/c,d100,n5,w5,mc2,s0.001,t8) 9.8s 0.5s\n",
      "*0.536720 : 3 passes : Doc2Vec(dbow,d100,n5,mc2,s0.001,t8) 4.5s 0.5s\n",
      " 0.586880 : 3 passes : Doc2Vec(dm/m,d100,n5,w10,mc2,s0.001,t8) 7.5s 0.5s\n",
      "*0.535280 : 3 passes : dbow+dmm 0.0s 1.0s\n",
      "*0.536160 : 3 passes : dbow+dmc 0.0s 1.0s\n",
      "Completed pass 3 at alpha 0.022600\n",
      " 0.533920 : 4 passes : Doc2Vec(dm/c,d100,n5,w5,mc2,s0.001,t8) 9.8s 0.5s\n",
      "*0.534880 : 4 passes : Doc2Vec(dbow,d100,n5,mc2,s0.001,t8) 4.4s 0.8s\n",
      " 0.587360 : 4 passes : Doc2Vec(dm/m,d100,n5,w10,mc2,s0.001,t8) 7.3s 0.5s\n",
      "*0.534080 : 4 passes : dbow+dmm 0.0s 1.0s\n",
      "*0.535040 : 4 passes : dbow+dmc 0.0s 1.0s\n",
      "Completed pass 4 at alpha 0.021400\n",
      " 0.537760 : 5 passes : Doc2Vec(dm/c,d100,n5,w5,mc2,s0.001,t8) 9.5s 0.5s\n",
      " 0.589600 : 5 passes : Doc2Vec(dm/c,d100,n5,w5,mc2,s0.001,t8)_inferred 9.5s 2.0s\n",
      " 0.536400 : 5 passes : Doc2Vec(dbow,d100,n5,mc2,s0.001,t8) 4.4s 0.5s\n",
      "*0.535200 : 5 passes : Doc2Vec(dbow,d100,n5,mc2,s0.001,t8)_inferred 4.4s 1.0s\n",
      " 0.587440 : 5 passes : Doc2Vec(dm/m,d100,n5,w10,mc2,s0.001,t8) 7.4s 0.5s\n",
      " 0.618400 : 5 passes : Doc2Vec(dm/m,d100,n5,w10,mc2,s0.001,t8)_inferred 7.4s 1.2s\n",
      " 0.534560 : 5 passes : dbow+dmm 0.0s 1.0s\n",
      "*0.542400 : 5 passes : dbow+dmm_inferred 0.0s 2.3s\n",
      " 0.536800 : 5 passes : dbow+dmc 0.0s 1.0s\n",
      "*0.512800 : 5 passes : dbow+dmc_inferred 0.0s 3.1s\n",
      "Completed pass 5 at alpha 0.020200\n",
      " 0.532400 : 6 passes : Doc2Vec(dm/c,d100,n5,w5,mc2,s0.001,t8) 9.5s 0.5s\n",
      " 0.537600 : 6 passes : Doc2Vec(dbow,d100,n5,mc2,s0.001,t8) 4.5s 0.5s\n",
      " 0.586880 : 6 passes : Doc2Vec(dm/m,d100,n5,w10,mc2,s0.001,t8) 7.4s 0.8s\n",
      " 0.535840 : 6 passes : dbow+dmm 0.0s 1.0s\n",
      " 0.537520 : 6 passes : dbow+dmc 0.0s 0.9s\n",
      "Completed pass 6 at alpha 0.019000\n",
      " 0.530480 : 7 passes : Doc2Vec(dm/c,d100,n5,w5,mc2,s0.001,t8) 9.7s 0.5s\n",
      " 0.536080 : 7 passes : Doc2Vec(dbow,d100,n5,mc2,s0.001,t8) 4.5s 0.5s\n",
      " 0.584080 : 7 passes : Doc2Vec(dm/m,d100,n5,w10,mc2,s0.001,t8) 7.7s 0.5s\n",
      " 0.534800 : 7 passes : dbow+dmm 0.0s 1.0s\n",
      " 0.536480 : 7 passes : dbow+dmc 0.0s 1.0s\n",
      "Completed pass 7 at alpha 0.017800\n",
      " 0.526480 : 8 passes : Doc2Vec(dm/c,d100,n5,w5,mc2,s0.001,t8) 9.5s 0.5s\n",
      " 0.536720 : 8 passes : Doc2Vec(dbow,d100,n5,mc2,s0.001,t8) 4.5s 0.5s\n",
      " 0.581360 : 8 passes : Doc2Vec(dm/m,d100,n5,w10,mc2,s0.001,t8) 7.6s 0.5s\n",
      " 0.535120 : 8 passes : dbow+dmm 0.0s 1.0s\n",
      " 0.536000 : 8 passes : dbow+dmc 0.0s 1.0s\n",
      "Completed pass 8 at alpha 0.016600\n",
      " 0.532080 : 9 passes : Doc2Vec(dm/c,d100,n5,w5,mc2,s0.001,t8) 9.6s 0.5s\n",
      " 0.536720 : 9 passes : Doc2Vec(dbow,d100,n5,mc2,s0.001,t8) 4.8s 0.5s\n",
      " 0.577840 : 9 passes : Doc2Vec(dm/m,d100,n5,w10,mc2,s0.001,t8) 7.5s 0.8s\n",
      " 0.535600 : 9 passes : dbow+dmm 0.0s 1.0s\n",
      " 0.536560 : 9 passes : dbow+dmc 0.0s 1.0s\n",
      "Completed pass 9 at alpha 0.015400\n",
      " 0.531760 : 10 passes : Doc2Vec(dm/c,d100,n5,w5,mc2,s0.001,t8) 9.4s 0.5s\n",
      " 0.550400 : 10 passes : Doc2Vec(dm/c,d100,n5,w5,mc2,s0.001,t8)_inferred 9.4s 2.0s\n",
      " 0.536720 : 10 passes : Doc2Vec(dbow,d100,n5,mc2,s0.001,t8) 4.7s 0.5s\n",
      " 0.539200 : 10 passes : Doc2Vec(dbow,d100,n5,mc2,s0.001,t8)_inferred 4.7s 1.0s\n",
      " 0.575520 : 10 passes : Doc2Vec(dm/m,d100,n5,w10,mc2,s0.001,t8) 7.9s 0.5s\n",
      "*0.610400 : 10 passes : Doc2Vec(dm/m,d100,n5,w10,mc2,s0.001,t8)_inferred 7.9s 1.3s\n",
      " 0.535760 : 10 passes : dbow+dmm 0.0s 1.0s\n",
      " 0.548000 : 10 passes : dbow+dmm_inferred 0.0s 2.3s\n",
      " 0.536400 : 10 passes : dbow+dmc 0.0s 1.0s\n",
      " 0.532800 : 10 passes : dbow+dmc_inferred 0.0s 3.1s\n",
      "Completed pass 10 at alpha 0.014200\n",
      " 0.536160 : 11 passes : Doc2Vec(dm/c,d100,n5,w5,mc2,s0.001,t8) 9.7s 0.5s\n",
      " 0.536720 : 11 passes : Doc2Vec(dbow,d100,n5,mc2,s0.001,t8) 4.7s 0.5s\n",
      "*0.569920 : 11 passes : Doc2Vec(dm/m,d100,n5,w10,mc2,s0.001,t8) 7.5s 0.8s\n",
      " 0.534320 : 11 passes : dbow+dmm 0.0s 1.0s\n",
      " 0.536080 : 11 passes : dbow+dmc 0.0s 1.0s\n",
      "Completed pass 11 at alpha 0.013000\n",
      " 0.535840 : 12 passes : Doc2Vec(dm/c,d100,n5,w5,mc2,s0.001,t8) 9.2s 0.5s\n",
      " 0.536480 : 12 passes : Doc2Vec(dbow,d100,n5,mc2,s0.001,t8) 4.5s 0.5s\n",
      "*0.569920 : 12 passes : Doc2Vec(dm/m,d100,n5,w10,mc2,s0.001,t8) 7.6s 0.5s\n",
      " 0.536560 : 12 passes : dbow+dmm 0.0s 1.0s\n",
      " 0.537360 : 12 passes : dbow+dmc 0.0s 1.0s\n",
      "Completed pass 12 at alpha 0.011800\n",
      " 0.535840 : 13 passes : Doc2Vec(dm/c,d100,n5,w5,mc2,s0.001,t8) 9.2s 0.5s\n",
      " 0.537360 : 13 passes : Doc2Vec(dbow,d100,n5,mc2,s0.001,t8) 4.6s 0.5s\n",
      "*0.569200 : 13 passes : Doc2Vec(dm/m,d100,n5,w10,mc2,s0.001,t8) 7.6s 0.5s\n",
      " 0.535680 : 13 passes : dbow+dmm 0.0s 1.0s\n",
      " 0.536560 : 13 passes : dbow+dmc 0.0s 1.0s\n",
      "Completed pass 13 at alpha 0.010600\n",
      " 0.537040 : 14 passes : Doc2Vec(dm/c,d100,n5,w5,mc2,s0.001,t8) 9.3s 0.5s\n",
      " 0.537040 : 14 passes : Doc2Vec(dbow,d100,n5,mc2,s0.001,t8) 4.5s 0.5s\n",
      "*0.567120 : 14 passes : Doc2Vec(dm/m,d100,n5,w10,mc2,s0.001,t8) 7.4s 0.8s\n",
      " 0.536160 : 14 passes : dbow+dmm 0.0s 1.0s\n",
      " 0.537040 : 14 passes : dbow+dmc 0.0s 1.0s\n",
      "Completed pass 14 at alpha 0.009400\n",
      " 0.533760 : 15 passes : Doc2Vec(dm/c,d100,n5,w5,mc2,s0.001,t8) 9.2s 0.5s\n",
      " 0.540800 : 15 passes : Doc2Vec(dm/c,d100,n5,w5,mc2,s0.001,t8)_inferred 9.2s 1.9s\n",
      " 0.537360 : 15 passes : Doc2Vec(dbow,d100,n5,mc2,s0.001,t8) 4.8s 0.5s\n",
      " 0.556800 : 15 passes : Doc2Vec(dbow,d100,n5,mc2,s0.001,t8)_inferred 4.8s 1.1s\n",
      "*0.566320 : 15 passes : Doc2Vec(dm/m,d100,n5,w10,mc2,s0.001,t8) 7.5s 0.5s\n",
      " 0.610400 : 15 passes : Doc2Vec(dm/m,d100,n5,w10,mc2,s0.001,t8)_inferred 7.5s 1.3s\n",
      " 0.536080 : 15 passes : dbow+dmm 0.0s 1.0s\n",
      "*0.518400 : 15 passes : dbow+dmm_inferred 0.0s 2.1s\n",
      " 0.536880 : 15 passes : dbow+dmc 0.0s 1.0s\n",
      " 0.529600 : 15 passes : dbow+dmc_inferred 0.0s 3.0s\n",
      "Completed pass 15 at alpha 0.008200\n",
      " 0.535200 : 16 passes : Doc2Vec(dm/c,d100,n5,w5,mc2,s0.001,t8) 9.0s 0.5s\n",
      " 0.536960 : 16 passes : Doc2Vec(dbow,d100,n5,mc2,s0.001,t8) 4.6s 0.5s\n",
      "*0.564720 : 16 passes : Doc2Vec(dm/m,d100,n5,w10,mc2,s0.001,t8) 7.5s 0.8s\n",
      " 0.535840 : 16 passes : dbow+dmm 0.0s 1.0s\n",
      " 0.536640 : 16 passes : dbow+dmc 0.0s 1.0s\n",
      "Completed pass 16 at alpha 0.007000\n",
      " 0.533840 : 17 passes : Doc2Vec(dm/c,d100,n5,w5,mc2,s0.001,t8) 9.1s 0.5s\n",
      " 0.536720 : 17 passes : Doc2Vec(dbow,d100,n5,mc2,s0.001,t8) 4.5s 0.5s\n",
      "*0.564000 : 17 passes : Doc2Vec(dm/m,d100,n5,w10,mc2,s0.001,t8) 7.5s 0.5s\n",
      " 0.535680 : 17 passes : dbow+dmm 0.0s 0.9s\n",
      " 0.536160 : 17 passes : dbow+dmc 0.0s 1.0s\n",
      "Completed pass 17 at alpha 0.005800\n",
      " 0.534160 : 18 passes : Doc2Vec(dm/c,d100,n5,w5,mc2,s0.001,t8) 9.7s 0.5s\n",
      " 0.537200 : 18 passes : Doc2Vec(dbow,d100,n5,mc2,s0.001,t8) 4.4s 0.5s\n",
      "*0.563520 : 18 passes : Doc2Vec(dm/m,d100,n5,w10,mc2,s0.001,t8) 7.5s 0.5s\n",
      " 0.535680 : 18 passes : dbow+dmm 0.0s 1.0s\n",
      " 0.536400 : 18 passes : dbow+dmc 0.0s 0.9s\n",
      "Completed pass 18 at alpha 0.004600\n",
      " 0.535200 : 19 passes : Doc2Vec(dm/c,d100,n5,w5,mc2,s0.001,t8) 8.9s 0.5s\n",
      " 0.537360 : 19 passes : Doc2Vec(dbow,d100,n5,mc2,s0.001,t8) 4.4s 0.5s\n",
      "*0.563280 : 19 passes : Doc2Vec(dm/m,d100,n5,w10,mc2,s0.001,t8) 7.3s 0.8s\n",
      " 0.535600 : 19 passes : dbow+dmm 0.0s 0.9s\n",
      " 0.536640 : 19 passes : dbow+dmc 0.0s 1.0s\n",
      "Completed pass 19 at alpha 0.003400\n",
      " 0.534400 : 20 passes : Doc2Vec(dm/c,d100,n5,w5,mc2,s0.001,t8) 9.2s 0.5s\n",
      " 0.553600 : 20 passes : Doc2Vec(dm/c,d100,n5,w5,mc2,s0.001,t8)_inferred 9.2s 1.8s\n",
      " 0.537200 : 20 passes : Doc2Vec(dbow,d100,n5,mc2,s0.001,t8) 4.6s 0.6s\n",
      "*0.516800 : 20 passes : Doc2Vec(dbow,d100,n5,mc2,s0.001,t8)_inferred 4.6s 1.0s\n",
      "*0.562320 : 20 passes : Doc2Vec(dm/m,d100,n5,w10,mc2,s0.001,t8) 7.4s 0.5s\n",
      "*0.603200 : 20 passes : Doc2Vec(dm/m,d100,n5,w10,mc2,s0.001,t8)_inferred 7.4s 1.2s\n"
     ]
    },
    {
     "name": "stdout",
     "output_type": "stream",
     "text": [
      " 0.535920 : 20 passes : dbow+dmm 0.0s 1.0s\n",
      " 0.524800 : 20 passes : dbow+dmm_inferred 0.0s 2.1s\n",
      " 0.536480 : 20 passes : dbow+dmc 0.0s 1.0s\n",
      " 0.568800 : 20 passes : dbow+dmc_inferred 0.0s 2.9s\n",
      "Completed pass 20 at alpha 0.002200\n",
      "END 2017-11-29 23:42:34.765542\n"
     ]
    }
   ],
   "source": [
    "from random import shuffle\n",
    "import datetime\n",
    "\n",
    "alpha, min_alpha, passes = (0.025, 0.001, 20)\n",
    "alpha_delta = (alpha - min_alpha) / passes\n",
    "\n",
    "print(\"START %s\" % datetime.datetime.now())\n",
    "\n",
    "for epoch in range(passes):\n",
    "    shuffle(doc_list)  # Shuffling gets best results\n",
    "    \n",
    "    for name, train_model in models_by_name.items():\n",
    "        # Train\n",
    "        duration = 'na'\n",
    "        train_model.alpha, train_model.min_alpha = alpha, alpha\n",
    "        with elapsed_timer() as elapsed:\n",
    "            train_model.train(doc_list, total_examples=len(doc_list), epochs=1)\n",
    "            duration = '%.1f' % elapsed()\n",
    "            \n",
    "        # Evaluate\n",
    "        eval_duration = ''\n",
    "        with elapsed_timer() as eval_elapsed:\n",
    "            err, err_count, test_count, predictor = error_rate_for_model(train_model, train_docs, test_docs)\n",
    "        eval_duration = '%.1f' % eval_elapsed()\n",
    "        best_indicator = ' '\n",
    "        if err <= best_error[name]:\n",
    "            best_error[name] = err\n",
    "            best_indicator = '*' \n",
    "        print(\"%s%f : %i passes : %s %ss %ss\" % (best_indicator, err, epoch + 1, name, duration, eval_duration))\n",
    "\n",
    "        if ((epoch + 1) % 5) == 0 or epoch == 0:\n",
    "            eval_duration = ''\n",
    "            with elapsed_timer() as eval_elapsed:\n",
    "                infer_err, err_count, test_count, predictor = error_rate_for_model(train_model, train_docs, test_docs, infer=True)\n",
    "            eval_duration = '%.1f' % eval_elapsed()\n",
    "            best_indicator = ' '\n",
    "            if infer_err < best_error[name + '_inferred']:\n",
    "                best_error[name + '_inferred'] = infer_err\n",
    "                best_indicator = '*'\n",
    "            print(\"%s%f : %i passes : %s %ss %ss\" % (best_indicator, infer_err, epoch + 1, name + '_inferred', duration, eval_duration))\n",
    "\n",
    "    print('Completed pass %i at alpha %f' % (epoch + 1, alpha))\n",
    "    alpha -= alpha_delta\n",
    "    \n",
    "print(\"END %s\" % str(datetime.datetime.now()))"
   ]
  },
  {
   "cell_type": "code",
   "execution_count": 118,
   "metadata": {},
   "outputs": [
    {
     "name": "stdout",
     "output_type": "stream",
     "text": [
      "Err rate Model\n",
      "0.483200 Doc2Vec(dm/c,d100,n5,w5,mc2,s0.001,t8)_inferred\n",
      "0.488720 Doc2Vec(dm/c,d100,n5,w5,mc2,s0.001,t8)\n",
      "0.512800 dbow+dmc_inferred\n",
      "0.516800 Doc2Vec(dbow,d100,n5,mc2,s0.001,t8)_inferred\n",
      "0.518400 dbow+dmm_inferred\n",
      "0.534080 dbow+dmm\n",
      "0.534880 Doc2Vec(dbow,d100,n5,mc2,s0.001,t8)\n",
      "0.535040 dbow+dmc\n",
      "0.562320 Doc2Vec(dm/m,d100,n5,w10,mc2,s0.001,t8)\n",
      "0.603200 Doc2Vec(dm/m,d100,n5,w10,mc2,s0.001,t8)_inferred\n"
     ]
    }
   ],
   "source": [
    "# Print best error rates achieved\n",
    "print(\"Err rate Model\")\n",
    "for rate, name in sorted((rate, name) for name, rate in best_error.items()):\n",
    "    print(\"%f %s\" % (rate, name))\n"
   ]
  },
  {
   "cell_type": "code",
   "execution_count": 119,
   "metadata": {},
   "outputs": [
    {
     "name": "stdout",
     "output_type": "stream",
     "text": [
      "for doc 35334...\n",
      "Doc2Vec(dm/c,d100,n5,w5,mc2,s0.001,t8):\n",
      " [(35334, 0.6501778364181519), (33847, 0.481913298368454), (43271, 0.43218374252319336)]\n",
      "Doc2Vec(dbow,d100,n5,mc2,s0.001,t8):\n",
      " [(35334, 0.8711211681365967), (31036, 0.657839298248291), (28962, 0.6364432573318481)]\n",
      "Doc2Vec(dm/m,d100,n5,w10,mc2,s0.001,t8):\n",
      " [(35334, 0.7825267314910889), (35903, 0.7280257940292358), (20915, 0.7196958661079407)]\n"
     ]
    }
   ],
   "source": [
    "doc_id = np.random.randint(simple_models[0].docvecs.count)  # Pick random doc; re-run cell for more examples\n",
    "print('for doc %d...' % doc_id)\n",
    "for model in simple_models:\n",
    "    inferred_docvec = model.infer_vector(alldocs[doc_id].words)\n",
    "    print('%s:\\n %s' % (model, model.docvecs.most_similar([inferred_docvec], topn=3)))"
   ]
  },
  {
   "cell_type": "code",
   "execution_count": 120,
   "metadata": {},
   "outputs": [
    {
     "name": "stdout",
     "output_type": "stream",
     "text": [
      "TARGET (31796): «we show that that vector field-based models of the ether generically do not have a hamiltonian that is bounded from below in a flat spacetime . we also demonstrate that these models possess multiple light cones in flat or curved spacetime , and that the non-lightlike characteristic is associated with an ether degree of freedom that will tend to form shocks . since the field equations ( and propagation speed ) of this mode is singular when the timelike component of the ether vector field vanishes , we demonstrate that linearized analyses about such configurations cannot be trusted to produce robust approximations to the theory .»\n",
      "\n",
      "SIMILAR/DISSIMILAR DOCS PER MODEL Doc2Vec(dm/c,d100,n5,w5,mc2,s0.001,t8):\n",
      "\n",
      "MOST (38283, 0.5256327390670776): «recently hertog , horowitz , and maeda ( hhm ) ( hep-th/0310054 ) have proposed that cosmic censorship can be violated in the ads/cft context . they argue that for certain initial data there is insufficient energy available to make a black hole whose horizon is big enough to cloak the singularity that forms . we have investigated this proposal in the models hhm discuss and have thus far been unable to find initial data that provably satisfy this criterion , despite our development of an improved lower bound on the size of the singular region . this is consistent with recent numerical results ( hep-th/0402109 ) . for certain initial data , the energies of our configurations are not far above the lower bound on the requisite black hole mass , and so it is possible that in the exact time development naked singularities do form . we go on to argue that the finite radius cut-off ads_5 situation discussed by hhm displays instabilities when the full 10d theory is considered . we propose an ads_3 example that may well be free of this instability .»\n",
      "\n",
      "MEDIAN (35432, -0.010180599987506866): «in this article we compute the black hole entropy by finding a classical central charge of the virasoro algebra of a liouville theory using the cardy formula . this is done by performing a dimensional reduction of the einstein hilbert action with the ansatz of spherical symmetry and writing the metric in conformally flat form . we obtain two coupled field equations . using the near horizon approximation the field equation for the conformal factor decouples . the one concerning the conformal factor is a liouville equation , it posses the symmetry induced by a virasoro algebra . we argue that it describes the microstates of the black hole , namely the generators of this symmetry do not change the thermodynamical properties of the black hole .»\n",
      "\n",
      "LEAST (3399, -0.4723541736602783): «independent component analysis ( ica ) is an effective unsupervised tool to learn statistically independent representation . however , ica is not only sensitive to whitening but also difficult to learn an over-complete basis . consequently , ica with soft reconstruction cost ( rica ) was presented to learn sparse representations with over-complete basis even on unwhitened data . whereas rica is infeasible to represent the data with nonlinear structure due to its intrinsic linearity . in addition , rica is essentially an unsupervised method and can not utilize the class information . in this paper , we propose a kernel ica model with reconstruction constraint ( krica ) to capture the nonlinear features . to bring in the class information , we further extend the unsupervised krica to a supervised one by introducing a discrimination constraint , namely d-krica . this constraint leads to learn a structured basis consisted of basis vectors from different basis subsets corresponding to different class labels . then each subset will sparsely represent well for its own class but not for the others . furthermore , data samples belonging to the same class will have similar representations , and thereby the learned sparse representations can take more discriminative power . experimental results validate the effectiveness of krica and d-krica for image classification .»\n",
      "\n"
     ]
    }
   ],
   "source": [
    "\n",
    "import random\n",
    "\n",
    "doc_id = np.random.randint(simple_models[0].docvecs.count)  # pick random doc, re-run cell for more examples\n",
    "model = random.choice(simple_models)  # and a random model\n",
    "sims = model.docvecs.most_similar(doc_id, topn=model.docvecs.count)  # get *all* similar documents\n",
    "print(u'TARGET (%d): «%s»\\n' % (doc_id, ' '.join(alldocs[doc_id].words)))\n",
    "print(u'SIMILAR/DISSIMILAR DOCS PER MODEL %s:\\n' % model)\n",
    "for label, index in [('MOST', 0), ('MEDIAN', len(sims)//2), ('LEAST', len(sims) - 1)]:\n",
    "    print(u'%s %s: «%s»\\n' % (label, sims[index], ' '.join(alldocs[sims[index][0]].words)))\n",
    "\n"
   ]
  },
  {
   "cell_type": "code",
   "execution_count": null,
   "metadata": {},
   "outputs": [],
   "source": []
  }
 ],
 "metadata": {
  "kernelspec": {
   "display_name": "Python 3",
   "language": "python",
   "name": "python3"
  },
  "language_info": {
   "codemirror_mode": {
    "name": "ipython",
    "version": 3
   },
   "file_extension": ".py",
   "mimetype": "text/x-python",
   "name": "python",
   "nbconvert_exporter": "python",
   "pygments_lexer": "ipython3",
   "version": "3.6.2"
  }
 },
 "nbformat": 4,
 "nbformat_minor": 2
}
