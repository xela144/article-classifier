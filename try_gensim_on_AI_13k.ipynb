{
 "cells": [
  {
   "cell_type": "code",
   "execution_count": 1,
   "metadata": {},
   "outputs": [
    {
     "data": {
      "text/plain": [
       "'C'"
      ]
     },
     "execution_count": 1,
     "metadata": {},
     "output_type": "execute_result"
    }
   ],
   "source": [
    "import locale\n",
    "\n",
    "#from matplotlib import pyplot as plt\n",
    "import numpy as np\n",
    "\n",
    "from db import psqlServer\n",
    "sv = psqlServer()\n",
    "\n",
    "control_chars = [chr(0x85)]\n",
    "locale.setlocale(locale.LC_ALL, 'C')\n",
    "\n"
   ]
  },
  {
   "cell_type": "code",
   "execution_count": 2,
   "metadata": {},
   "outputs": [],
   "source": [
    "def normalize_text(text):\n",
    "    norm_text = text.lower()\n",
    "    # Replace breaks with spaces\n",
    "    norm_text = norm_text.replace('<br />', ' ')\n",
    "    # Pad punctuation with spaces on both sides\n",
    "    for char in ['.', '\"', ',', '(', ')', '!', '?', ';', ':']:\n",
    "        norm_text = norm_text.replace(char, ' ' + char + ' ')\n",
    "    return norm_text"
   ]
  },
  {
   "cell_type": "code",
   "execution_count": null,
   "metadata": {},
   "outputs": [],
   "source": []
  },
  {
   "cell_type": "code",
   "execution_count": 3,
   "metadata": {},
   "outputs": [],
   "source": [
    "AI = \"arx_AI\"        # artificial intelligence\n",
    "FA = \"arx_math_FA\"   # functional analysis\n",
    "GR = \"arx_GRQC\"      # general relativity and quantum cosmology\n",
    "LG = \"arx\"           # learning\n",
    "NT = \"arx_math_NT\"   # number theory"
   ]
  },
  {
   "cell_type": "code",
   "execution_count": 4,
   "metadata": {},
   "outputs": [
    {
     "name": "stdout",
     "output_type": "stream",
     "text": [
      "116060\n"
     ]
    }
   ],
   "source": [
    "# How many items in all tables?\n",
    "UNION = \" UNION ALL \"\n",
    "SEL_C = \"SELECT COUNT(*) as FOO FROM \"\n",
    "sum_statement = \"SELECT SUM(FOO) FROM (\"\n",
    "sum_statement += SEL_C + AI\n",
    "sum_statement += UNION + SEL_C + FA \n",
    "sum_statement += UNION + SEL_C + GR \n",
    "sum_statement += UNION + SEL_C + LG \n",
    "sum_statement += UNION + SEL_C + NT\n",
    "sum_statement += \") as B;\"\n",
    "\n",
    "total = sv.execute(sum_statement)[0]['sum']\n",
    "print(total)"
   ]
  },
  {
   "cell_type": "code",
   "execution_count": 5,
   "metadata": {},
   "outputs": [
    {
     "name": "stdout",
     "output_type": "stream",
     "text": [
      "AI:13000\n",
      "FA:16000\n",
      "GR:50000\n",
      "LG:15060\n",
      "NT:22000\n"
     ]
    }
   ],
   "source": [
    "# Per table\n",
    "SEL_C = \"SELECT COUNT(*) FROM \"\n",
    "total_AI = sv.execute(SEL_C + AI)[0]['count']\n",
    "total_FA = sv.execute(SEL_C + FA)[0]['count']\n",
    "total_GR = sv.execute(SEL_C + GR)[0]['count']\n",
    "total_LG = sv.execute(SEL_C + LG)[0]['count']\n",
    "total_NT = sv.execute(SEL_C + NT)[0]['count']\n",
    "\n",
    "print(\"AI:{}\".format(total_AI))\n",
    "print(\"FA:{}\".format(total_FA))\n",
    "print(\"GR:{}\".format(total_GR))\n",
    "print(\"LG:{}\".format(total_LG))\n",
    "print(\"NT:{}\".format(total_NT))"
   ]
  },
  {
   "cell_type": "code",
   "execution_count": 6,
   "metadata": {},
   "outputs": [],
   "source": [
    "# Get some rows from the AI table\n",
    "rows = sv.execute(\"SELECT * FROM arx_AI\")\n",
    "corpus = [x['abstract'] for x in rows]\n",
    "labels = [float(x['has_journal_ref']) for x in rows]\n",
    "\n",
    "#rows2 = sv.execute(\"SELECT abstract FROM arx_math_FA LIMIT 10000\")\n",
    "#corpus += [x['abstract'] for x in rows2]\n",
    "#labels += [x['has_journal_ref'] for x in rows2]\n",
    "\n",
    "#rows3 = sv.execute(\"SELECT abstract FROM arx_GRQC LIMIT 30000\")\n",
    "#corpus += [x['abstract'] for x in rows3]\n",
    "#labels += [x['has_journal_ref'] for x in rows2]\n"
   ]
  },
  {
   "cell_type": "code",
   "execution_count": 7,
   "metadata": {},
   "outputs": [],
   "source": [
    "corpus_n = []\n",
    "jj = 0\n",
    "for corp in corpus:\n",
    "    corpus_n.append(u\"_*{0} {1}\\n\".format(jj, normalize_text(corp)))\n",
    "    jj += 1"
   ]
  },
  {
   "cell_type": "code",
   "execution_count": 8,
   "metadata": {},
   "outputs": [
    {
     "data": {
      "text/plain": [
       "13000"
      ]
     },
     "execution_count": 8,
     "metadata": {},
     "output_type": "execute_result"
    }
   ],
   "source": [
    "len(corpus_n)"
   ]
  },
  {
   "cell_type": "code",
   "execution_count": 10,
   "metadata": {},
   "outputs": [],
   "source": [
    "import gensim\n",
    "from collections import namedtuple\n"
   ]
  },
  {
   "cell_type": "code",
   "execution_count": 11,
   "metadata": {},
   "outputs": [],
   "source": [
    "SentimentDocument = namedtuple('SentimentDocument', 'words tags split sentiment')\n",
    "alldocs = []\n",
    "for line_no, line in enumerate(corpus_n[0:3250]):\n",
    "    tokens = gensim.utils.to_unicode(corpus_n[line_no]).split()\n",
    "    words = tokens[1:]\n",
    "    tags = [line_no]\n",
    "    split = 'train'\n",
    "    #split = ['train', 'test', 'extra', 'extra'][line_no//12500]\n",
    "    sentiment = labels[line_no]\n",
    "    #sentiment = [1.0, 0.0, 1.0, 0.0, None, None, None, None][line_no//6750]\n",
    "    alldocs.append(SentimentDocument(words, tags, split, sentiment))\n",
    "\n",
    "for line_no, line in enumerate(corpus_n[3250:6500]):\n",
    "    tokens = gensim.utils.to_unicode(corpus_n[line_no]).split()\n",
    "    words = tokens[1:]\n",
    "    tags = [line_no]\n",
    "    split = 'test'\n",
    "    #split = ['train', 'test', 'extra', 'extra'][line_no//12500]\n",
    "    sentiment = labels[line_no]\n",
    "    #sentiment = [1.0, 0.0, 1.0, 0.0, None, None, None, None][line_no//6750]\n",
    "    alldocs.append(SentimentDocument(words, tags, split, sentiment))\n",
    "    \n",
    "for line_no, line in enumerate(corpus_n[6500:]):\n",
    "    tokens = gensim.utils.to_unicode(corpus_n[line_no]).split()\n",
    "    words = tokens[1:]\n",
    "    tags = [line_no]\n",
    "    split = 'extra'\n",
    "    #split = ['train', 'test', 'extra', 'extra'][line_no//12500]\n",
    "    sentiment = None\n",
    "    #sentiment = [1.0, 0.0, 1.0, 0.0, None, None, None, None][line_no//6750]\n",
    "    alldocs.append(SentimentDocument(words, tags, split, sentiment))    "
   ]
  },
  {
   "cell_type": "code",
   "execution_count": 12,
   "metadata": {},
   "outputs": [
    {
     "data": {
      "text/plain": [
       "13000"
      ]
     },
     "execution_count": 12,
     "metadata": {},
     "output_type": "execute_result"
    }
   ],
   "source": [
    "len(alldocs)"
   ]
  },
  {
   "cell_type": "code",
   "execution_count": 13,
   "metadata": {},
   "outputs": [
    {
     "name": "stdout",
     "output_type": "stream",
     "text": [
      "13000 docs: 3250 train-sentiment, 3250 test-sentiment\n"
     ]
    }
   ],
   "source": [
    "train_docs = [doc for doc in alldocs if doc.split == 'train']\n",
    "test_docs = [doc for doc in alldocs if doc.split == 'test']\n",
    "doc_list = alldocs[:]  # For reshuffling per pass\n",
    "\n",
    "print('%d docs: %d train-sentiment, %d test-sentiment' % (len(doc_list), len(train_docs), len(test_docs)))"
   ]
  },
  {
   "cell_type": "code",
   "execution_count": 14,
   "metadata": {},
   "outputs": [],
   "source": [
    "from gensim.models import Doc2Vec\n",
    "import gensim.models.doc2vec\n",
    "from collections import OrderedDict\n",
    "import multiprocessing"
   ]
  },
  {
   "cell_type": "code",
   "execution_count": 15,
   "metadata": {},
   "outputs": [],
   "source": [
    "cores = multiprocessing.cpu_count()\n",
    "assert gensim.models.doc2vec.FAST_VERSION > -1, \"This will be painfully slow otherwise\""
   ]
  },
  {
   "cell_type": "code",
   "execution_count": 16,
   "metadata": {},
   "outputs": [],
   "source": [
    "simple_models = [\n",
    "    # PV-DM w/ concatenation - window=5 (both sides) approximates paper's 10-word total window size\n",
    "    Doc2Vec(dm=1, dm_concat=1, size=100, window=5, negative=5, hs=0, min_count=2, workers=cores),\n",
    "    # PV-DBOW \n",
    "    Doc2Vec(dm=0, size=100, negative=5, hs=0, min_count=2, workers=cores),\n",
    "    # PV-DM w/ average\n",
    "    Doc2Vec(dm=1, dm_mean=1, size=100, window=10, negative=5, hs=0, min_count=2, workers=cores),\n",
    "]"
   ]
  },
  {
   "cell_type": "code",
   "execution_count": 17,
   "metadata": {},
   "outputs": [],
   "source": [
    "simple_models[0].build_vocab(alldocs)"
   ]
  },
  {
   "cell_type": "code",
   "execution_count": 18,
   "metadata": {},
   "outputs": [
    {
     "name": "stdout",
     "output_type": "stream",
     "text": [
      "Doc2Vec(dm/c,d100,n5,w5,mc2,s0.001,t8)\n",
      "Doc2Vec(dbow,d100,n5,mc2,s0.001,t8)\n",
      "Doc2Vec(dm/m,d100,n5,w10,mc2,s0.001,t8)\n"
     ]
    }
   ],
   "source": [
    "print(simple_models[0])\n",
    "for model in simple_models[1:]:\n",
    "    \"\"\"Reuse shareable structures from other_model.\"\"\"\n",
    "    model.reset_from(simple_models[0])\n",
    "    print(model)"
   ]
  },
  {
   "cell_type": "code",
   "execution_count": 19,
   "metadata": {},
   "outputs": [],
   "source": [
    "models_by_name = OrderedDict((str(model), model) for model in simple_models)\n",
    "from gensim.test.test_doc2vec import ConcatenatedDoc2Vec\n",
    "models_by_name['dbow+dmm'] = ConcatenatedDoc2Vec([simple_models[1], simple_models[2]])\n",
    "models_by_name['dbow+dmc'] = ConcatenatedDoc2Vec([simple_models[1], simple_models[0]])"
   ]
  },
  {
   "cell_type": "code",
   "execution_count": 20,
   "metadata": {},
   "outputs": [
    {
     "data": {
      "text/plain": [
       "OrderedDict([('Doc2Vec(dm/c,d100,n5,w5,mc2,s0.001,t8)',\n",
       "              <gensim.models.doc2vec.Doc2Vec at 0x10bbe7630>),\n",
       "             ('Doc2Vec(dbow,d100,n5,mc2,s0.001,t8)',\n",
       "              <gensim.models.doc2vec.Doc2Vec at 0x10bbe76a0>),\n",
       "             ('Doc2Vec(dm/m,d100,n5,w10,mc2,s0.001,t8)',\n",
       "              <gensim.models.doc2vec.Doc2Vec at 0x10bbe77f0>),\n",
       "             ('dbow+dmm',\n",
       "              <gensim.test.test_doc2vec.ConcatenatedDoc2Vec at 0x112e850b8>),\n",
       "             ('dbow+dmc',\n",
       "              <gensim.test.test_doc2vec.ConcatenatedDoc2Vec at 0x112e85080>)])"
      ]
     },
     "execution_count": 20,
     "metadata": {},
     "output_type": "execute_result"
    }
   ],
   "source": [
    "models_by_name"
   ]
  },
  {
   "cell_type": "code",
   "execution_count": 21,
   "metadata": {},
   "outputs": [
    {
     "name": "stderr",
     "output_type": "stream",
     "text": [
      "/Users/alex/code/article-classifier/ac/lib/python3.6/site-packages/statsmodels/compat/pandas.py:56: FutureWarning: The pandas.core.datetools module is deprecated and will be removed in a future version. Please use the pandas.tseries module instead.\n",
      "  from pandas.core import datetools\n"
     ]
    }
   ],
   "source": [
    "\n",
    "# Predictive Evaluation Methods\n",
    "\n",
    "# Let's define some helper methods for evaluating the performance of our Doc2vec\n",
    "# using paragraph vectors. We will classify document sentiments using a logistic \n",
    "# regression model based on our paragraph embeddings. We will compare the error \n",
    "# rates based on word embeddings from our various Doc2vec models.\n",
    "import numpy as np\n",
    "import statsmodels.api as sm\n",
    "from random import sample\n",
    "\n",
    "# For timing\n",
    "from contextlib import contextmanager\n",
    "from timeit import default_timer\n",
    "import time \n"
   ]
  },
  {
   "cell_type": "code",
   "execution_count": 22,
   "metadata": {},
   "outputs": [],
   "source": [
    "@contextmanager\n",
    "def elapsed_timer():\n",
    "    start = default_timer()\n",
    "    elapser = lambda: default_timer() - start\n",
    "    yield lambda: elapser()\n",
    "    end = default_timer()\n",
    "    elapser = lambda: end-start\n",
    "    \n",
    "def logistic_predictor_from_data(train_targets, train_regressors):\n",
    "    logit = sm.Logit(train_targets, train_regressors)\n",
    "    predictor = logit.fit(disp=0)\n",
    "    # print(predictor.summary())\n",
    "    return predictor\n",
    "\n",
    "def error_rate_for_model(test_model, train_set, test_set, infer=False, infer_steps=3, infer_alpha=0.1, infer_subsample=0.1):\n",
    "    \"\"\"Report error rate on test_doc sentiments, using supplied model and train_docs\"\"\"\n",
    "\n",
    "    train_targets, train_regressors = zip(*[(doc.sentiment, test_model.docvecs[doc.tags[0]]) for doc in train_set])\n",
    "    train_regressors = sm.add_constant(train_regressors)\n",
    "    predictor = logistic_predictor_from_data(train_targets, train_regressors)\n",
    "\n",
    "    test_data = test_set\n",
    "    if infer:\n",
    "        if infer_subsample < 1.0:\n",
    "            test_data = sample(test_data, int(infer_subsample * len(test_data)))\n",
    "        test_regressors = [test_model.infer_vector(doc.words, steps=infer_steps, alpha=infer_alpha) for doc in test_data]\n",
    "    else:\n",
    "        test_regressors = [test_model.docvecs[doc.tags[0]] for doc in test_docs]\n",
    "    test_regressors = sm.add_constant(test_regressors)\n",
    "    \n",
    "    # Predict & evaluate\n",
    "    test_predictions = predictor.predict(test_regressors)\n",
    "    \n",
    "    # Here is the wtf: test_data is just [None]*500!!!\n",
    "    corrects = sum(np.rint(test_predictions) == [doc.sentiment for doc in test_data])\n",
    "    errors = len(test_predictions) - corrects\n",
    "    error_rate = float(errors) / len(test_predictions)\n",
    "    return (error_rate, errors, len(test_predictions), predictor)"
   ]
  },
  {
   "cell_type": "code",
   "execution_count": 23,
   "metadata": {},
   "outputs": [],
   "source": [
    "\n",
    "# Bulk Training\n",
    "\n",
    "# We use an explicit multiple-pass, alpha-reduction approach as sketched in \n",
    "# this gensim doc2vec blog post with added shuffling of corpus on each pass.\n",
    "# https://rare-technologies.com/doc2vec-tutorial/\n",
    "from collections import defaultdict\n",
    "best_error = defaultdict(lambda: 1.0)  # To selectively print only best errors achieved"
   ]
  },
  {
   "cell_type": "code",
   "execution_count": null,
   "metadata": {},
   "outputs": [],
   "source": [
    "\n"
   ]
  },
  {
   "cell_type": "code",
   "execution_count": 24,
   "metadata": {
    "scrolled": false
   },
   "outputs": [
    {
     "name": "stdout",
     "output_type": "stream",
     "text": [
      "START 2017-11-30 23:29:43.709040\n",
      "*0.187077 : 1 passes : Doc2Vec(dm/c,d100,n5,w5,mc2,s0.001,t8) 3.2s 0.1s\n",
      "*0.252308 : 1 passes : Doc2Vec(dm/c,d100,n5,w5,mc2,s0.001,t8)_inferred 3.2s 0.7s\n",
      "*0.188000 : 1 passes : Doc2Vec(dbow,d100,n5,mc2,s0.001,t8) 1.2s 0.1s\n",
      "*0.316923 : 1 passes : Doc2Vec(dbow,d100,n5,mc2,s0.001,t8)_inferred 1.2s 0.3s\n",
      "*0.190769 : 1 passes : Doc2Vec(dm/m,d100,n5,w10,mc2,s0.001,t8) 2.1s 0.1s\n",
      "*0.384615 : 1 passes : Doc2Vec(dm/m,d100,n5,w10,mc2,s0.001,t8)_inferred 2.1s 0.4s\n",
      "*0.182462 : 1 passes : dbow+dmm 0.0s 0.3s\n",
      "*0.381538 : 1 passes : dbow+dmm_inferred 0.0s 0.7s\n",
      "*0.181846 : 1 passes : dbow+dmc 0.0s 0.3s\n",
      "*0.347692 : 1 passes : dbow+dmc_inferred 0.0s 1.1s\n",
      "Completed pass 1 at alpha 0.025000\n",
      "*0.185846 : 2 passes : Doc2Vec(dm/c,d100,n5,w5,mc2,s0.001,t8) 3.2s 0.1s\n",
      "*0.179385 : 2 passes : Doc2Vec(dbow,d100,n5,mc2,s0.001,t8) 1.2s 0.1s\n",
      "*0.188308 : 2 passes : Doc2Vec(dm/m,d100,n5,w10,mc2,s0.001,t8) 2.1s 0.1s\n",
      "*0.177231 : 2 passes : dbow+dmm 0.0s 0.3s\n",
      "*0.175385 : 2 passes : dbow+dmc 0.0s 0.2s\n",
      "Completed pass 2 at alpha 0.022600\n",
      "*0.183385 : 3 passes : Doc2Vec(dm/c,d100,n5,w5,mc2,s0.001,t8) 2.9s 0.1s\n",
      "*0.177231 : 3 passes : Doc2Vec(dbow,d100,n5,mc2,s0.001,t8) 1.2s 0.1s\n",
      " 0.190154 : 3 passes : Doc2Vec(dm/m,d100,n5,w10,mc2,s0.001,t8) 2.1s 0.1s\n",
      "*0.175385 : 3 passes : dbow+dmm 0.0s 0.3s\n",
      "*0.168923 : 3 passes : dbow+dmc 0.0s 0.3s\n",
      "Completed pass 3 at alpha 0.020200\n",
      " 0.184308 : 4 passes : Doc2Vec(dm/c,d100,n5,w5,mc2,s0.001,t8) 2.9s 0.1s\n",
      " 0.181231 : 4 passes : Doc2Vec(dbow,d100,n5,mc2,s0.001,t8) 1.2s 0.1s\n",
      "*0.188000 : 4 passes : Doc2Vec(dm/m,d100,n5,w10,mc2,s0.001,t8) 2.1s 0.1s\n",
      "*0.170462 : 4 passes : dbow+dmm 0.0s 0.3s\n",
      " 0.173231 : 4 passes : dbow+dmc 0.0s 0.3s\n",
      "Completed pass 4 at alpha 0.017800\n",
      " 0.184615 : 5 passes : Doc2Vec(dm/c,d100,n5,w5,mc2,s0.001,t8) 2.9s 0.1s\n",
      "*0.233846 : 5 passes : Doc2Vec(dm/c,d100,n5,w5,mc2,s0.001,t8)_inferred 2.9s 0.7s\n",
      " 0.183385 : 5 passes : Doc2Vec(dbow,d100,n5,mc2,s0.001,t8) 1.2s 0.1s\n",
      "*0.236923 : 5 passes : Doc2Vec(dbow,d100,n5,mc2,s0.001,t8)_inferred 1.2s 0.3s\n",
      " 0.188308 : 5 passes : Doc2Vec(dm/m,d100,n5,w10,mc2,s0.001,t8) 2.2s 0.1s\n",
      "*0.224615 : 5 passes : Doc2Vec(dm/m,d100,n5,w10,mc2,s0.001,t8)_inferred 2.2s 0.4s\n",
      " 0.172923 : 5 passes : dbow+dmm 0.0s 0.3s\n",
      "*0.218462 : 5 passes : dbow+dmm_inferred 0.0s 0.7s\n",
      " 0.176000 : 5 passes : dbow+dmc 0.0s 0.3s\n",
      "*0.206154 : 5 passes : dbow+dmc_inferred 0.0s 1.1s\n",
      "Completed pass 5 at alpha 0.015400\n",
      " 0.184615 : 6 passes : Doc2Vec(dm/c,d100,n5,w5,mc2,s0.001,t8) 2.8s 0.1s\n",
      " 0.182769 : 6 passes : Doc2Vec(dbow,d100,n5,mc2,s0.001,t8) 1.3s 0.1s\n",
      "*0.187692 : 6 passes : Doc2Vec(dm/m,d100,n5,w10,mc2,s0.001,t8) 2.1s 0.1s\n",
      " 0.174154 : 6 passes : dbow+dmm 0.0s 0.2s\n",
      " 0.172923 : 6 passes : dbow+dmc 0.0s 0.3s\n",
      "Completed pass 6 at alpha 0.013000\n",
      " 0.185846 : 7 passes : Doc2Vec(dm/c,d100,n5,w5,mc2,s0.001,t8) 2.9s 0.1s\n",
      " 0.180308 : 7 passes : Doc2Vec(dbow,d100,n5,mc2,s0.001,t8) 1.3s 0.1s\n",
      "*0.187692 : 7 passes : Doc2Vec(dm/m,d100,n5,w10,mc2,s0.001,t8) 2.1s 0.1s\n",
      " 0.177846 : 7 passes : dbow+dmm 0.0s 0.3s\n",
      " 0.176000 : 7 passes : dbow+dmc 0.0s 0.3s\n",
      "Completed pass 7 at alpha 0.010600\n",
      "*0.182154 : 8 passes : Doc2Vec(dm/c,d100,n5,w5,mc2,s0.001,t8) 2.9s 0.1s\n",
      " 0.181231 : 8 passes : Doc2Vec(dbow,d100,n5,mc2,s0.001,t8) 1.2s 0.1s\n",
      "*0.187385 : 8 passes : Doc2Vec(dm/m,d100,n5,w10,mc2,s0.001,t8) 2.1s 0.1s\n",
      " 0.174769 : 8 passes : dbow+dmm 0.0s 0.3s\n",
      " 0.172615 : 8 passes : dbow+dmc 0.0s 0.3s\n",
      "Completed pass 8 at alpha 0.008200\n",
      " 0.184000 : 9 passes : Doc2Vec(dm/c,d100,n5,w5,mc2,s0.001,t8) 2.9s 0.1s\n",
      " 0.182769 : 9 passes : Doc2Vec(dbow,d100,n5,mc2,s0.001,t8) 1.2s 0.1s\n",
      "*0.185231 : 9 passes : Doc2Vec(dm/m,d100,n5,w10,mc2,s0.001,t8) 2.0s 0.1s\n",
      " 0.177846 : 9 passes : dbow+dmm 0.0s 0.3s\n",
      " 0.172000 : 9 passes : dbow+dmc 0.0s 0.3s\n",
      "Completed pass 9 at alpha 0.005800\n",
      " 0.183385 : 10 passes : Doc2Vec(dm/c,d100,n5,w5,mc2,s0.001,t8) 2.8s 0.1s\n",
      "*0.187692 : 10 passes : Doc2Vec(dm/c,d100,n5,w5,mc2,s0.001,t8)_inferred 2.8s 0.7s\n",
      " 0.182154 : 10 passes : Doc2Vec(dbow,d100,n5,mc2,s0.001,t8) 1.3s 0.1s\n",
      "*0.181538 : 10 passes : Doc2Vec(dbow,d100,n5,mc2,s0.001,t8)_inferred 1.3s 0.3s\n",
      "*0.184923 : 10 passes : Doc2Vec(dm/m,d100,n5,w10,mc2,s0.001,t8) 2.1s 0.1s\n",
      "*0.212308 : 10 passes : Doc2Vec(dm/m,d100,n5,w10,mc2,s0.001,t8)_inferred 2.1s 0.4s\n",
      " 0.177538 : 10 passes : dbow+dmm 0.0s 0.3s\n",
      "*0.196923 : 10 passes : dbow+dmm_inferred 0.0s 0.7s\n",
      " 0.173538 : 10 passes : dbow+dmc 0.0s 0.2s\n",
      "*0.190769 : 10 passes : dbow+dmc_inferred 0.0s 1.0s\n",
      "Completed pass 10 at alpha 0.003400\n",
      "END 2017-11-30 23:31:04.944836\n"
     ]
    }
   ],
   "source": [
    "from random import shuffle\n",
    "import datetime\n",
    "\n",
    "alpha, min_alpha, passes = (0.025, 0.001, 10)\n",
    "alpha_delta = (alpha - min_alpha) / passes\n",
    "\n",
    "print(\"START %s\" % datetime.datetime.now())\n",
    "\n",
    "for epoch in range(passes):\n",
    "    shuffle(doc_list)  # Shuffling gets best results\n",
    "    \n",
    "    for name, train_model in models_by_name.items():\n",
    "        # Train\n",
    "        duration = 'na'\n",
    "        train_model.alpha, train_model.min_alpha = alpha, alpha\n",
    "        with elapsed_timer() as elapsed:\n",
    "            train_model.train(doc_list, total_examples=len(doc_list), epochs=1)\n",
    "            duration = '%.1f' % elapsed()\n",
    "            \n",
    "        # Evaluate\n",
    "        eval_duration = ''\n",
    "        with elapsed_timer() as eval_elapsed:\n",
    "            err, err_count, test_count, predictor = error_rate_for_model(train_model, train_docs, test_docs)\n",
    "        eval_duration = '%.1f' % eval_elapsed()\n",
    "        best_indicator = ' '\n",
    "        if err <= best_error[name]:\n",
    "            best_error[name] = err\n",
    "            best_indicator = '*' \n",
    "        print(\"%s%f : %i passes : %s %ss %ss\" % (best_indicator, err, epoch + 1, name, duration, eval_duration))\n",
    "\n",
    "        if ((epoch + 1) % 5) == 0 or epoch == 0:\n",
    "            eval_duration = ''\n",
    "            with elapsed_timer() as eval_elapsed:\n",
    "                infer_err, err_count, test_count, predictor = error_rate_for_model(train_model, train_docs, test_docs, infer=True)\n",
    "            eval_duration = '%.1f' % eval_elapsed()\n",
    "            best_indicator = ' '\n",
    "            if infer_err < best_error[name + '_inferred']:\n",
    "                best_error[name + '_inferred'] = infer_err\n",
    "                best_indicator = '*'\n",
    "            print(\"%s%f : %i passes : %s %ss %ss\" % (best_indicator, infer_err, epoch + 1, name + '_inferred', duration, eval_duration))\n",
    "\n",
    "    print('Completed pass %i at alpha %f' % (epoch + 1, alpha))\n",
    "    alpha -= alpha_delta\n",
    "    \n",
    "print(\"END %s\" % str(datetime.datetime.now()))"
   ]
  },
  {
   "cell_type": "code",
   "execution_count": 25,
   "metadata": {
    "scrolled": true
   },
   "outputs": [
    {
     "name": "stdout",
     "output_type": "stream",
     "text": [
      "Err rate Model\n",
      "0.168923 dbow+dmc\n",
      "0.170462 dbow+dmm\n",
      "0.177231 Doc2Vec(dbow,d100,n5,mc2,s0.001,t8)\n",
      "0.181538 Doc2Vec(dbow,d100,n5,mc2,s0.001,t8)_inferred\n",
      "0.182154 Doc2Vec(dm/c,d100,n5,w5,mc2,s0.001,t8)\n",
      "0.184923 Doc2Vec(dm/m,d100,n5,w10,mc2,s0.001,t8)\n",
      "0.187692 Doc2Vec(dm/c,d100,n5,w5,mc2,s0.001,t8)_inferred\n",
      "0.190769 dbow+dmc_inferred\n",
      "0.196923 dbow+dmm_inferred\n",
      "0.212308 Doc2Vec(dm/m,d100,n5,w10,mc2,s0.001,t8)_inferred\n"
     ]
    }
   ],
   "source": [
    "# Print best error rates achieved\n",
    "print(\"Err rate Model\")\n",
    "for rate, name in sorted((rate, name) for name, rate in best_error.items()):\n",
    "    print(\"%f %s\" % (rate, name))\n"
   ]
  },
  {
   "cell_type": "code",
   "execution_count": 26,
   "metadata": {},
   "outputs": [
    {
     "name": "stdout",
     "output_type": "stream",
     "text": [
      "for doc 762...\n",
      "Doc2Vec(dm/c,d100,n5,w5,mc2,s0.001,t8):\n",
      " [(762, 0.4126853942871094), (1419, 0.4070093035697937), (3695, 0.40511882305145264)]\n",
      "Doc2Vec(dbow,d100,n5,mc2,s0.001,t8):\n",
      " [(762, 0.9415596723556519), (6412, 0.659792959690094), (2939, 0.6571834683418274)]\n",
      "Doc2Vec(dm/m,d100,n5,w10,mc2,s0.001,t8):\n",
      " [(762, 0.822860598564148), (3918, 0.8169604539871216), (5118, 0.8064792156219482)]\n"
     ]
    }
   ],
   "source": [
    "doc_id = np.random.randint(simple_models[0].docvecs.count)  # Pick random doc; re-run cell for more examples\n",
    "print('for doc %d...' % doc_id)\n",
    "for model in simple_models:\n",
    "    inferred_docvec = model.infer_vector(alldocs[doc_id].words)\n",
    "    print('%s:\\n %s' % (model, model.docvecs.most_similar([inferred_docvec], topn=3)))"
   ]
  },
  {
   "cell_type": "code",
   "execution_count": 27,
   "metadata": {},
   "outputs": [
    {
     "name": "stdout",
     "output_type": "stream",
     "text": [
      "TARGET (1337): «this paper addresses the problem of minimizing a convex , lipschitz function $f$ over a convex , compact set $\\xset$ under a stochastic bandit feedback model . in this model , the algorithm is allowed to observe noisy realizations of the function value $f ( x ) $ at any query point $x \\in \\xset$ . the quantity of interest is the regret of the algorithm , which is the sum of the function values at algorithm's query points minus the optimal function value . we demonstrate a generalization of the ellipsoid algorithm that incurs $\\otil ( \\poly ( d ) \\sqrt{t} ) $ regret . since any algorithm has regret at least $\\omega ( \\sqrt{t} ) $ on this problem , our algorithm is optimal in terms of the scaling with $t$ .»\n",
      "\n",
      "SIMILAR/DISSIMILAR DOCS PER MODEL Doc2Vec(dbow,d100,n5,mc2,s0.001,t8):\n",
      "\n",
      "MOST (3621, 0.7586348056793213): «ordinal regression is an important type of learning , which has properties of both classification and regression . here we describe a simple and effective approach to adapt a traditional neural network to learn ordinal categories . our approach is a generalization of the perceptron method for ordinal regression . on several benchmark datasets , our method ( nnrank ) outperforms a neural network classification method . compared with the ordinal regression methods using gaussian processes and support vector machines , nnrank achieves comparable performance . moreover , nnrank has the advantages of traditional neural networks : learning in both online and batch modes , handling very large training datasets , and making rapid predictions . these features make nnrank a useful and complementary tool for large-scale data processing tasks such as information retrieval , web page ranking , collaborative filtering , and protein ranking in bioinformatics .»\n",
      "\n",
      "MEDIAN (4336, 0.31351131200790405): «this paper considers the clustering problem for large data sets . we propose an approach based on distributed optimization . the clustering problem is formulated as an optimization problem of maximizing the classification gain . we show that the optimization problem can be reformulated and decomposed into small-scale sub optimization problems by using the dantzig-wolfe decomposition method . generally speaking , the dantzig-wolfe method can only be used for convex optimization problems , where the duality gaps are zero . even though , the considered optimization problem in this paper is non-convex , we prove that the duality gap goes to zero , as the problem size goes to infinity . therefore , the dantzig-wolfe method can be applied here . in the proposed approach , the clustering problem is iteratively solved by a group of computers coordinated by one center processor , where each computer solves one independent small-scale sub optimization problem during each iteration , and only a small amount of data communication is needed between the computers and center processor . numerical results show that the proposed approach is effective and efficient .»\n",
      "\n",
      "LEAST (2873, 0.013939358294010162): «after a more than decade-long period of relatively little research activity in the area of recurrent neural networks , several new developments will be reviewed here that have allowed substantial progress both in understanding and in technical solutions towards more efficient training of recurrent networks . these advances have been motivated by and related to the optimization issues surrounding deep learning . although recurrent networks are extremely powerful in what they can in principle represent in terms of modelling sequences , their training is plagued by two aspects of the same issue regarding the learning of long-term dependencies . experiments reported here evaluate the use of clipping gradients , spanning longer time ranges with leaky integration , advanced momentum techniques , using more powerful output probability models , and encouraging sparser gradients to help symmetry breaking and credit assignment . the experiments are performed on text and music data and show off the combined effects of these techniques in generally improving both training and test error .»\n",
      "\n"
     ]
    }
   ],
   "source": [
    "\n",
    "import random\n",
    "\n",
    "doc_id = np.random.randint(simple_models[0].docvecs.count)  # pick random doc, re-run cell for more examples\n",
    "model = random.choice(simple_models)  # and a random model\n",
    "sims = model.docvecs.most_similar(doc_id, topn=model.docvecs.count)  # get *all* similar documents\n",
    "print(u'TARGET (%d): «%s»\\n' % (doc_id, ' '.join(alldocs[doc_id].words)))\n",
    "print(u'SIMILAR/DISSIMILAR DOCS PER MODEL %s:\\n' % model)\n",
    "for label, index in [('MOST', 0), ('MEDIAN', len(sims)//2), ('LEAST', len(sims) - 1)]:\n",
    "    print(u'%s %s: «%s»\\n' % (label, sims[index], ' '.join(alldocs[sims[index][0]].words)))\n",
    "\n"
   ]
  },
  {
   "cell_type": "code",
   "execution_count": 28,
   "metadata": {},
   "outputs": [
    {
     "name": "stdout",
     "output_type": "stream",
     "text": [
      "TARGET (4769): «in this paper , we describe our approach to the wikipedia participation challenge which aims to predict the number of edits a wikipedia editor will make in the next 5 months . the best submission from our team , \" zeditor \" , achieved 41 . 7% improvement over wmf's baseline predictive model and the final rank of 3rd place among 96 teams . an interesting characteristic of our approach is that only temporal dynamics features ( i . e . , how the number of edits changes in recent periods , etc . ) are used in a self-supervised learning framework , which makes it easy to be generalised to other application domains .»\n",
      "\n",
      "SIMILAR/DISSIMILAR DOCS PER MODEL Doc2Vec(dm/m,d100,n5,w10,mc2,s0.001,t8):\n",
      "\n",
      "MOST (3647, 0.7816190719604492): «recent spectral clustering methods are a propular and powerful technique for data clustering . these methods need to solve the eigenproblem whose computational complexity is $o ( n^3 ) $ , where $n$ is the number of data samples . in this paper , a non-eigenproblem based clustering method is proposed to deal with the clustering problem . its performance is comparable to the spectral clustering algorithms but it is more efficient with computational complexity $o ( n^2 ) $ . we show that with a transitive distance and an observed property , called k-means duality , our algorithm can be used to handle data sets with complex cluster shapes , multi-scale clusters , and noise . moreover , no parameters except the number of clusters need to be set in our algorithm .»\n",
      "\n",
      "MEDIAN (3745, 0.4844181537628174): «the games of prediction with expert advice are considered in this paper . we present some modification of kalai and vempala algorithm of following the perturbed leader for the case of unrestrictedly large one-step gains . we show that in general case the cumulative gain of any probabilistic prediction algorithm can be much worse than the gain of some expert of the pool . nevertheless , we give the lower bound for this cumulative gain in general case and construct a universal algorithm which has the optimal performance ; we also prove that in case when one-step gains of experts of the pool have ``limited deviations'' the performance of our algorithm is close to the performance of the best expert .»\n",
      "\n",
      "LEAST (6370, 0.0968400090932846): «we consider the task of learning the maximum-likelihood polytree from data . our first result is a performance guarantee establishing that the optimal branching ( or chow-liu tree ) , which can be computed very easily , constitutes a good approximation to the best polytree . we then show that it is not possible to do very much better , since the learning problem is np-hard even to approximately solve within some constant factor .»\n",
      "\n"
     ]
    }
   ],
   "source": [
    "import random\n",
    "\n",
    "doc_id = np.random.randint(simple_models[0].docvecs.count)  # pick random doc, re-run cell for more examples\n",
    "model = random.choice(simple_models)  # and a random model\n",
    "sims = model.docvecs.most_similar(doc_id, topn=model.docvecs.count)  # get *all* similar documents\n",
    "print(u'TARGET (%d): «%s»\\n' % (doc_id, ' '.join(alldocs[doc_id].words)))\n",
    "print(u'SIMILAR/DISSIMILAR DOCS PER MODEL %s:\\n' % model)\n",
    "for label, index in [('MOST', 0), ('MEDIAN', len(sims)//2), ('LEAST', len(sims) - 1)]:\n",
    "    print(u'%s %s: «%s»\\n' % (label, sims[index], ' '.join(alldocs[sims[index][0]].words)))\n",
    "\n"
   ]
  },
  {
   "cell_type": "code",
   "execution_count": 29,
   "metadata": {},
   "outputs": [
    {
     "name": "stdout",
     "output_type": "stream",
     "text": [
      "TARGET (649): «this paper presents a new hybrid learning algorithm for unsupervised classification tasks . we combined fuzzy c-means learning algorithm and a supervised version of minimerror to develop a hybrid incremental strategy allowing unsupervised classifications . we applied this new approach to a real-world database in order to know if the information contained in unlabeled features of a geographic information system ( gis ) , allows to well classify it . finally , we compared our results to a classical supervised classification obtained by a multilayer perceptron .»\n",
      "\n",
      "SIMILAR/DISSIMILAR DOCS PER MODEL Doc2Vec(dbow,d100,n5,mc2,s0.001,t8):\n",
      "\n",
      "MOST (4665, 0.7129030227661133): «this paper presents regression models obtained from a process of blind prediction of peptide binding affinity from provided descriptors for several distinct datasets as part of the 2006 comparative evaluation of prediction algorithms ( coepra ) contest . this paper finds that kernel partial least squares , a nonlinear partial least squares ( pls ) algorithm , outperforms pls , and that the incorporation of transferable atom equivalent features improves predictive capability .»\n",
      "\n",
      "MEDIAN (117, 0.36811527609825134): «we propose a novel criterion for support vector machine learning : maximizing the margin in the input space , not in the feature ( hilbert ) space . this criterion is a discriminative version of the principal curve proposed by hastie et al . the criterion is appropriate in particular when the input space is already a well-designed feature space with rather small dimensionality . the definition of the margin is generalized in order to represent prior knowledge . the derived algorithm consists of two alternating steps to estimate the dual parameters . firstly , the parameters are initialized by the original svm . then one set of parameters is updated by newton-like procedure , and the other set is updated by solving a quadratic programming problem . the algorithm converges in a few steps to a local optimum under mild conditions and it preserves the sparsity of support vectors . although the complexity to calculate temporal variables increases the complexity to solve the quadratic programming problem for each step does not change . it is also shown that the original svm can be seen as a special case . we further derive a simplified algorithm which enables us to use the existing code for the original svm .»\n",
      "\n",
      "LEAST (770, 0.009108683094382286): «we consider computation of permanent of a positive $ ( n\\times n ) $ non-negative matrix , $p= ( p_i^j|i , j=1 , \\cdots , n ) $ , or equivalently the problem of weighted counting of the perfect matchings over the complete bipartite graph $k_{n , n}$ . the problem is known to be of likely exponential complexity . stated as the partition function $z$ of a graphical model , the problem allows exact loop calculus representation [chertkov , chernyak '06] in terms of an interior minimum of the bethe free energy functional over non-integer doubly stochastic matrix of marginal beliefs , $\\beta= ( \\beta_i^j|i , j=1 , \\cdots , n ) $ , also correspondent to a fixed point of the iterative message-passing algorithm of the belief propagation ( bp ) type . our main result is an explicit expression of the exact partition function ( permanent ) in terms of the matrix of bp marginals , $\\beta$ , as $z=\\mbox{perm} ( p ) =z_{bp} \\mbox{perm} ( \\beta_i^j ( 1-\\beta_i^j ) ) /\\prod_{i , j} ( 1-\\beta_i^j ) $ , where $z_{bp}$ is the bp expression for the permanent stated explicitly in terms if $\\beta$ . we give two derivations of the formula , a direct one based on the bethe free energy and an alternative one combining the ihara graph-$\\zeta$ function and the loop calculus approaches . assuming that the matrix $\\beta$ of the belief propagation marginals is calculated , we provide two lower bounds and one upper-bound to estimate the multiplicative term . two complementary lower bounds are based on the gurvits-van der waerden theorem and on a relation between the modified permanent and determinant respectively .»\n",
      "\n"
     ]
    }
   ],
   "source": [
    "import random\n",
    "\n",
    "doc_id = np.random.randint(simple_models[0].docvecs.count)  # pick random doc, re-run cell for more examples\n",
    "model = random.choice(simple_models)  # and a random model\n",
    "sims = model.docvecs.most_similar(doc_id, topn=model.docvecs.count)  # get *all* similar documents\n",
    "print(u'TARGET (%d): «%s»\\n' % (doc_id, ' '.join(alldocs[doc_id].words)))\n",
    "print(u'SIMILAR/DISSIMILAR DOCS PER MODEL %s:\\n' % model)\n",
    "for label, index in [('MOST', 0), ('MEDIAN', len(sims)//2), ('LEAST', len(sims) - 1)]:\n",
    "    print(u'%s %s: «%s»\\n' % (label, sims[index], ' '.join(alldocs[sims[index][0]].words)))\n",
    "\n"
   ]
  },
  {
   "cell_type": "code",
   "execution_count": null,
   "metadata": {},
   "outputs": [],
   "source": []
  }
 ],
 "metadata": {
  "kernelspec": {
   "display_name": "Python 3",
   "language": "python",
   "name": "python3"
  },
  "language_info": {
   "codemirror_mode": {
    "name": "ipython",
    "version": 3
   },
   "file_extension": ".py",
   "mimetype": "text/x-python",
   "name": "python",
   "nbconvert_exporter": "python",
   "pygments_lexer": "ipython3",
   "version": "3.6.2"
  }
 },
 "nbformat": 4,
 "nbformat_minor": 2
}
