{
 "cells": [
  {
   "cell_type": "code",
   "execution_count": 1,
   "metadata": {},
   "outputs": [
    {
     "data": {
      "text/plain": [
       "'C'"
      ]
     },
     "execution_count": 1,
     "metadata": {},
     "output_type": "execute_result"
    }
   ],
   "source": [
    "import locale\n",
    "\n",
    "#from matplotlib import pyplot as plt\n",
    "import numpy as np\n",
    "\n",
    "from db import psqlServer\n",
    "sv = psqlServer()\n",
    "\n",
    "control_chars = [chr(0x85)]\n",
    "locale.setlocale(locale.LC_ALL, 'C')\n",
    "\n"
   ]
  },
  {
   "cell_type": "code",
   "execution_count": 2,
   "metadata": {},
   "outputs": [],
   "source": [
    "def normalize_text(text):\n",
    "    norm_text = text.lower()\n",
    "    # Replace breaks with spaces\n",
    "    norm_text = norm_text.replace('<br />', ' ')\n",
    "    # Pad punctuation with spaces on both sides\n",
    "    for char in ['.', '\"', ',', '(', ')', '!', '?', ';', ':']:\n",
    "        norm_text = norm_text.replace(char, ' ' + char + ' ')\n",
    "    return norm_text"
   ]
  },
  {
   "cell_type": "code",
   "execution_count": null,
   "metadata": {},
   "outputs": [],
   "source": []
  },
  {
   "cell_type": "code",
   "execution_count": 3,
   "metadata": {},
   "outputs": [],
   "source": [
    "AI = \"arx_AI\"        # artificial intelligence\n",
    "FA = \"arx_math_FA\"   # functional analysis\n",
    "GR = \"arx_GRQC\"      # general relativity and quantum cosmology\n",
    "LG = \"arx\"           # learning\n",
    "NT = \"arx_math_NT\"   # number theory"
   ]
  },
  {
   "cell_type": "code",
   "execution_count": 4,
   "metadata": {},
   "outputs": [
    {
     "name": "stdout",
     "output_type": "stream",
     "text": [
      "116060\n"
     ]
    }
   ],
   "source": [
    "# How many items in all tables?\n",
    "UNION = \" UNION ALL \"\n",
    "SEL_C = \"SELECT COUNT(*) as FOO FROM \"\n",
    "sum_statement = \"SELECT SUM(FOO) FROM (\"\n",
    "sum_statement += SEL_C + AI\n",
    "sum_statement += UNION + SEL_C + FA \n",
    "sum_statement += UNION + SEL_C + GR \n",
    "sum_statement += UNION + SEL_C + LG \n",
    "sum_statement += UNION + SEL_C + NT\n",
    "sum_statement += \") as B;\"\n",
    "\n",
    "total = sv.execute(sum_statement)[0]['sum']\n",
    "print(total)"
   ]
  },
  {
   "cell_type": "code",
   "execution_count": 5,
   "metadata": {},
   "outputs": [
    {
     "name": "stdout",
     "output_type": "stream",
     "text": [
      "AI:13000\n",
      "FA:16000\n",
      "GR:50000\n",
      "LG:15060\n",
      "NT:22000\n"
     ]
    }
   ],
   "source": [
    "# Per table\n",
    "SEL_C = \"SELECT COUNT(*) FROM \"\n",
    "total_AI = sv.execute(SEL_C + AI)[0]['count']\n",
    "total_FA = sv.execute(SEL_C + FA)[0]['count']\n",
    "total_GR = sv.execute(SEL_C + GR)[0]['count']\n",
    "total_LG = sv.execute(SEL_C + LG)[0]['count']\n",
    "total_NT = sv.execute(SEL_C + NT)[0]['count']\n",
    "\n",
    "print(\"AI:{}\".format(total_AI))\n",
    "print(\"FA:{}\".format(total_FA))\n",
    "print(\"GR:{}\".format(total_GR))\n",
    "print(\"LG:{}\".format(total_LG))\n",
    "print(\"NT:{}\".format(total_NT))"
   ]
  },
  {
   "cell_type": "code",
   "execution_count": 6,
   "metadata": {},
   "outputs": [],
   "source": [
    "# Get some rows from the AI table\n",
    "rows = sv.execute(\"SELECT * FROM arx_math_FA LIMIT 15000\")\n",
    "corpus = [x['abstract'] for x in rows]\n",
    "labels = [float(x['has_journal_ref']) for x in rows]\n",
    "\n",
    "#rows2 = sv.execute(\"SELECT abstract FROM arx_math_FA LIMIT 10000\")\n",
    "#corpus += [x['abstract'] for x in rows2]\n",
    "#labels += [x['has_journal_ref'] for x in rows2]\n",
    "\n",
    "#rows3 = sv.execute(\"SELECT abstract FROM arx_GRQC LIMIT 30000\")\n",
    "#corpus += [x['abstract'] for x in rows3]\n",
    "#labels += [x['has_journal_ref'] for x in rows2]\n"
   ]
  },
  {
   "cell_type": "code",
   "execution_count": 7,
   "metadata": {},
   "outputs": [],
   "source": [
    "corpus_n = []\n",
    "jj = 0\n",
    "for corp in corpus:\n",
    "    corpus_n.append(u\"_*{0} {1}\\n\".format(jj, normalize_text(corp)))\n",
    "    jj += 1"
   ]
  },
  {
   "cell_type": "code",
   "execution_count": 8,
   "metadata": {},
   "outputs": [
    {
     "data": {
      "text/plain": [
       "15000"
      ]
     },
     "execution_count": 8,
     "metadata": {},
     "output_type": "execute_result"
    }
   ],
   "source": [
    "len(corpus_n)"
   ]
  },
  {
   "cell_type": "code",
   "execution_count": 9,
   "metadata": {},
   "outputs": [],
   "source": [
    "import gensim\n",
    "from collections import namedtuple\n"
   ]
  },
  {
   "cell_type": "code",
   "execution_count": 19,
   "metadata": {},
   "outputs": [],
   "source": [
    "SentimentDocument = namedtuple('SentimentDocument', 'words tags split sentiment')\n",
    "alldocs = []\n",
    "for line_no, line in enumerate(corpus_n[0:3750]):\n",
    "    tokens = gensim.utils.to_unicode(corpus_n[line_no]).split()\n",
    "    words = tokens[1:]\n",
    "    tags = [line_no]\n",
    "    split = 'train'\n",
    "    #split = ['train', 'test', 'extra', 'extra'][line_no//12500]\n",
    "    sentiment = labels[line_no]\n",
    "    #sentiment = [1.0, 0.0, 1.0, 0.0, None, None, None, None][line_no//6750]\n",
    "    alldocs.append(SentimentDocument(words, tags, split, sentiment))\n",
    "\n",
    "for line_no, line in enumerate(corpus_n[3750:7500]):\n",
    "    tokens = gensim.utils.to_unicode(corpus_n[line_no]).split()\n",
    "    words = tokens[1:]\n",
    "    tags = [line_no]\n",
    "    split = 'test'\n",
    "    #split = ['train', 'test', 'extra', 'extra'][line_no//12500]\n",
    "    sentiment = labels[line_no]\n",
    "    #sentiment = [1.0, 0.0, 1.0, 0.0, None, None, None, None][line_no//6750]\n",
    "    alldocs.append(SentimentDocument(words, tags, split, sentiment))\n",
    "    \n",
    "for line_no, line in enumerate(corpus_n[7500:]):\n",
    "    tokens = gensim.utils.to_unicode(corpus_n[line_no]).split()\n",
    "    words = tokens[1:]\n",
    "    tags = [line_no]\n",
    "    split = 'extra'\n",
    "    #split = ['train', 'test', 'extra', 'extra'][line_no//12500]\n",
    "    sentiment = None\n",
    "    #sentiment = [1.0, 0.0, 1.0, 0.0, None, None, None, None][line_no//6750]\n",
    "    alldocs.append(SentimentDocument(words, tags, split, sentiment))    "
   ]
  },
  {
   "cell_type": "code",
   "execution_count": 20,
   "metadata": {},
   "outputs": [
    {
     "data": {
      "text/plain": [
       "15000"
      ]
     },
     "execution_count": 20,
     "metadata": {},
     "output_type": "execute_result"
    }
   ],
   "source": [
    "len(alldocs)"
   ]
  },
  {
   "cell_type": "code",
   "execution_count": 21,
   "metadata": {},
   "outputs": [
    {
     "name": "stdout",
     "output_type": "stream",
     "text": [
      "15000 docs: 3750 train-sentiment, 3750 test-sentiment\n"
     ]
    }
   ],
   "source": [
    "train_docs = [doc for doc in alldocs if doc.split == 'train']\n",
    "test_docs = [doc for doc in alldocs if doc.split == 'test']\n",
    "doc_list = alldocs[:]  # For reshuffling per pass\n",
    "\n",
    "print('%d docs: %d train-sentiment, %d test-sentiment' % (len(doc_list), len(train_docs), len(test_docs)))"
   ]
  },
  {
   "cell_type": "code",
   "execution_count": 22,
   "metadata": {},
   "outputs": [],
   "source": [
    "from gensim.models import Doc2Vec\n",
    "import gensim.models.doc2vec\n",
    "from collections import OrderedDict\n",
    "import multiprocessing"
   ]
  },
  {
   "cell_type": "code",
   "execution_count": 23,
   "metadata": {},
   "outputs": [],
   "source": [
    "cores = multiprocessing.cpu_count()\n",
    "assert gensim.models.doc2vec.FAST_VERSION > -1, \"This will be painfully slow otherwise\""
   ]
  },
  {
   "cell_type": "code",
   "execution_count": 24,
   "metadata": {},
   "outputs": [],
   "source": [
    "simple_models = [\n",
    "    # PV-DM w/ concatenation - window=5 (both sides) approximates paper's 10-word total window size\n",
    "    Doc2Vec(dm=1, dm_concat=1, size=100, window=5, negative=5, hs=0, min_count=2, workers=cores),\n",
    "    # PV-DBOW \n",
    "    Doc2Vec(dm=0, size=100, negative=5, hs=0, min_count=2, workers=cores),\n",
    "    # PV-DM w/ average\n",
    "    Doc2Vec(dm=1, dm_mean=1, size=100, window=10, negative=5, hs=0, min_count=2, workers=cores),\n",
    "]"
   ]
  },
  {
   "cell_type": "code",
   "execution_count": 25,
   "metadata": {},
   "outputs": [],
   "source": [
    "simple_models[0].build_vocab(alldocs)"
   ]
  },
  {
   "cell_type": "code",
   "execution_count": 26,
   "metadata": {},
   "outputs": [
    {
     "name": "stdout",
     "output_type": "stream",
     "text": [
      "Doc2Vec(dm/c,d100,n5,w5,mc2,s0.001,t8)\n",
      "Doc2Vec(dbow,d100,n5,mc2,s0.001,t8)\n",
      "Doc2Vec(dm/m,d100,n5,w10,mc2,s0.001,t8)\n"
     ]
    }
   ],
   "source": [
    "print(simple_models[0])\n",
    "for model in simple_models[1:]:\n",
    "    \"\"\"Reuse shareable structures from other_model.\"\"\"\n",
    "    model.reset_from(simple_models[0])\n",
    "    print(model)"
   ]
  },
  {
   "cell_type": "code",
   "execution_count": 27,
   "metadata": {},
   "outputs": [],
   "source": [
    "models_by_name = OrderedDict((str(model), model) for model in simple_models)\n",
    "from gensim.test.test_doc2vec import ConcatenatedDoc2Vec\n",
    "models_by_name['dbow+dmm'] = ConcatenatedDoc2Vec([simple_models[1], simple_models[2]])\n",
    "models_by_name['dbow+dmc'] = ConcatenatedDoc2Vec([simple_models[1], simple_models[0]])"
   ]
  },
  {
   "cell_type": "code",
   "execution_count": 28,
   "metadata": {},
   "outputs": [
    {
     "data": {
      "text/plain": [
       "OrderedDict([('Doc2Vec(dm/c,d100,n5,w5,mc2,s0.001,t8)',\n",
       "              <gensim.models.doc2vec.Doc2Vec at 0x11276bcc0>),\n",
       "             ('Doc2Vec(dbow,d100,n5,mc2,s0.001,t8)',\n",
       "              <gensim.models.doc2vec.Doc2Vec at 0x11276bd68>),\n",
       "             ('Doc2Vec(dm/m,d100,n5,w10,mc2,s0.001,t8)',\n",
       "              <gensim.models.doc2vec.Doc2Vec at 0x11276be10>),\n",
       "             ('dbow+dmm',\n",
       "              <gensim.test.test_doc2vec.ConcatenatedDoc2Vec at 0x11201bba8>),\n",
       "             ('dbow+dmc',\n",
       "              <gensim.test.test_doc2vec.ConcatenatedDoc2Vec at 0x11201bb70>)])"
      ]
     },
     "execution_count": 28,
     "metadata": {},
     "output_type": "execute_result"
    }
   ],
   "source": [
    "models_by_name"
   ]
  },
  {
   "cell_type": "code",
   "execution_count": 29,
   "metadata": {},
   "outputs": [
    {
     "name": "stderr",
     "output_type": "stream",
     "text": [
      "/Users/alex/code/article-classifier/ac/lib/python3.6/site-packages/statsmodels/compat/pandas.py:56: FutureWarning: The pandas.core.datetools module is deprecated and will be removed in a future version. Please use the pandas.tseries module instead.\n",
      "  from pandas.core import datetools\n"
     ]
    }
   ],
   "source": [
    "\n",
    "# Predictive Evaluation Methods\n",
    "\n",
    "# Let's define some helper methods for evaluating the performance of our Doc2vec\n",
    "# using paragraph vectors. We will classify document sentiments using a logistic \n",
    "# regression model based on our paragraph embeddings. We will compare the error \n",
    "# rates based on word embeddings from our various Doc2vec models.\n",
    "import numpy as np\n",
    "import statsmodels.api as sm\n",
    "from random import sample\n",
    "\n",
    "# For timing\n",
    "from contextlib import contextmanager\n",
    "from timeit import default_timer\n",
    "import time \n"
   ]
  },
  {
   "cell_type": "code",
   "execution_count": 30,
   "metadata": {},
   "outputs": [],
   "source": [
    "@contextmanager\n",
    "def elapsed_timer():\n",
    "    start = default_timer()\n",
    "    elapser = lambda: default_timer() - start\n",
    "    yield lambda: elapser()\n",
    "    end = default_timer()\n",
    "    elapser = lambda: end-start\n",
    "    \n",
    "def logistic_predictor_from_data(train_targets, train_regressors):\n",
    "    logit = sm.Logit(train_targets, train_regressors)\n",
    "    predictor = logit.fit(disp=0)\n",
    "    # print(predictor.summary())\n",
    "    return predictor\n",
    "\n",
    "def error_rate_for_model(test_model, train_set, test_set, infer=False, infer_steps=3, infer_alpha=0.1, infer_subsample=0.1):\n",
    "    \"\"\"Report error rate on test_doc sentiments, using supplied model and train_docs\"\"\"\n",
    "\n",
    "    train_targets, train_regressors = zip(*[(doc.sentiment, test_model.docvecs[doc.tags[0]]) for doc in train_set])\n",
    "    train_regressors = sm.add_constant(train_regressors)\n",
    "    predictor = logistic_predictor_from_data(train_targets, train_regressors)\n",
    "\n",
    "    test_data = test_set\n",
    "    if infer:\n",
    "        if infer_subsample < 1.0:\n",
    "            test_data = sample(test_data, int(infer_subsample * len(test_data)))\n",
    "        test_regressors = [test_model.infer_vector(doc.words, steps=infer_steps, alpha=infer_alpha) for doc in test_data]\n",
    "    else:\n",
    "        test_regressors = [test_model.docvecs[doc.tags[0]] for doc in test_docs]\n",
    "    test_regressors = sm.add_constant(test_regressors)\n",
    "    \n",
    "    # Predict & evaluate\n",
    "    test_predictions = predictor.predict(test_regressors)\n",
    "    \n",
    "    # Here is the wtf: test_data is just [None]*500!!!\n",
    "    corrects = sum(np.rint(test_predictions) == [doc.sentiment for doc in test_data])\n",
    "    errors = len(test_predictions) - corrects\n",
    "    error_rate = float(errors) / len(test_predictions)\n",
    "    return (error_rate, errors, len(test_predictions), predictor)"
   ]
  },
  {
   "cell_type": "code",
   "execution_count": 31,
   "metadata": {},
   "outputs": [],
   "source": [
    "\n",
    "# Bulk Training\n",
    "\n",
    "# We use an explicit multiple-pass, alpha-reduction approach as sketched in \n",
    "# this gensim doc2vec blog post with added shuffling of corpus on each pass.\n",
    "# https://rare-technologies.com/doc2vec-tutorial/\n",
    "from collections import defaultdict\n",
    "best_error = defaultdict(lambda: 1.0)  # To selectively print only best errors achieved"
   ]
  },
  {
   "cell_type": "code",
   "execution_count": null,
   "metadata": {},
   "outputs": [],
   "source": [
    "\n"
   ]
  },
  {
   "cell_type": "code",
   "execution_count": 32,
   "metadata": {
    "scrolled": false
   },
   "outputs": [
    {
     "name": "stdout",
     "output_type": "stream",
     "text": [
      "START 2017-11-30 23:25:04.884694\n",
      "*0.292000 : 1 passes : Doc2Vec(dm/c,d100,n5,w5,mc2,s0.001,t8) 2.3s 0.1s\n",
      "*0.336000 : 1 passes : Doc2Vec(dm/c,d100,n5,w5,mc2,s0.001,t8)_inferred 2.3s 0.5s\n",
      "*0.290933 : 1 passes : Doc2Vec(dbow,d100,n5,mc2,s0.001,t8) 1.1s 0.1s\n",
      "*0.314667 : 1 passes : Doc2Vec(dbow,d100,n5,mc2,s0.001,t8)_inferred 1.1s 0.3s\n",
      "*0.294400 : 1 passes : Doc2Vec(dm/m,d100,n5,w10,mc2,s0.001,t8) 1.9s 0.1s\n",
      "*0.416000 : 1 passes : Doc2Vec(dm/m,d100,n5,w10,mc2,s0.001,t8)_inferred 1.9s 0.3s\n",
      "*0.284267 : 1 passes : dbow+dmm 0.0s 0.3s\n",
      "*0.408000 : 1 passes : dbow+dmm_inferred 0.0s 0.6s\n",
      "*0.279467 : 1 passes : dbow+dmc 0.0s 0.3s\n",
      "*0.386667 : 1 passes : dbow+dmc_inferred 0.0s 0.8s\n",
      "Completed pass 1 at alpha 0.025000\n",
      " 0.292533 : 2 passes : Doc2Vec(dm/c,d100,n5,w5,mc2,s0.001,t8) 2.2s 0.1s\n",
      "*0.281067 : 2 passes : Doc2Vec(dbow,d100,n5,mc2,s0.001,t8) 1.1s 0.1s\n",
      "*0.289600 : 2 passes : Doc2Vec(dm/m,d100,n5,w10,mc2,s0.001,t8) 1.9s 0.1s\n",
      "*0.273333 : 2 passes : dbow+dmm 0.0s 0.3s\n",
      "*0.274133 : 2 passes : dbow+dmc 0.0s 0.3s\n",
      "Completed pass 2 at alpha 0.023800\n",
      "*0.287733 : 3 passes : Doc2Vec(dm/c,d100,n5,w5,mc2,s0.001,t8) 2.2s 0.1s\n",
      " 0.283200 : 3 passes : Doc2Vec(dbow,d100,n5,mc2,s0.001,t8) 1.1s 0.1s\n",
      " 0.290133 : 3 passes : Doc2Vec(dm/m,d100,n5,w10,mc2,s0.001,t8) 1.9s 0.1s\n",
      " 0.276800 : 3 passes : dbow+dmm 0.0s 0.3s\n",
      "*0.272000 : 3 passes : dbow+dmc 0.0s 0.3s\n",
      "Completed pass 3 at alpha 0.022600\n",
      " 0.289867 : 4 passes : Doc2Vec(dm/c,d100,n5,w5,mc2,s0.001,t8) 2.2s 0.1s\n",
      " 0.282400 : 4 passes : Doc2Vec(dbow,d100,n5,mc2,s0.001,t8) 1.1s 0.1s\n",
      " 0.289867 : 4 passes : Doc2Vec(dm/m,d100,n5,w10,mc2,s0.001,t8) 1.9s 0.1s\n",
      " 0.274933 : 4 passes : dbow+dmm 0.0s 0.3s\n",
      " 0.275467 : 4 passes : dbow+dmc 0.0s 0.3s\n",
      "Completed pass 4 at alpha 0.021400\n",
      " 0.291200 : 5 passes : Doc2Vec(dm/c,d100,n5,w5,mc2,s0.001,t8) 2.1s 0.1s\n",
      " 0.346667 : 5 passes : Doc2Vec(dm/c,d100,n5,w5,mc2,s0.001,t8)_inferred 2.1s 0.5s\n",
      "*0.279200 : 5 passes : Doc2Vec(dbow,d100,n5,mc2,s0.001,t8) 1.1s 0.2s\n",
      " 0.320000 : 5 passes : Doc2Vec(dbow,d100,n5,mc2,s0.001,t8)_inferred 1.1s 0.3s\n",
      " 0.293600 : 5 passes : Doc2Vec(dm/m,d100,n5,w10,mc2,s0.001,t8) 2.0s 0.1s\n",
      "*0.280000 : 5 passes : Doc2Vec(dm/m,d100,n5,w10,mc2,s0.001,t8)_inferred 2.0s 0.3s\n",
      "*0.270933 : 5 passes : dbow+dmm 0.0s 0.3s\n",
      "*0.309333 : 5 passes : dbow+dmm_inferred 0.0s 0.6s\n",
      "*0.265067 : 5 passes : dbow+dmc 0.0s 0.3s\n",
      "*0.333333 : 5 passes : dbow+dmc_inferred 0.0s 0.8s\n",
      "Completed pass 5 at alpha 0.020200\n",
      " 0.289333 : 6 passes : Doc2Vec(dm/c,d100,n5,w5,mc2,s0.001,t8) 2.2s 0.1s\n",
      "*0.278400 : 6 passes : Doc2Vec(dbow,d100,n5,mc2,s0.001,t8) 1.1s 0.1s\n",
      "*0.289067 : 6 passes : Doc2Vec(dm/m,d100,n5,w10,mc2,s0.001,t8) 2.0s 0.1s\n",
      "*0.270667 : 6 passes : dbow+dmm 0.0s 0.3s\n",
      " 0.273067 : 6 passes : dbow+dmc 0.0s 0.3s\n",
      "Completed pass 6 at alpha 0.019000\n",
      " 0.288533 : 7 passes : Doc2Vec(dm/c,d100,n5,w5,mc2,s0.001,t8) 2.2s 0.1s\n",
      " 0.282667 : 7 passes : Doc2Vec(dbow,d100,n5,mc2,s0.001,t8) 1.1s 0.1s\n",
      "*0.288267 : 7 passes : Doc2Vec(dm/m,d100,n5,w10,mc2,s0.001,t8) 2.0s 0.1s\n",
      " 0.272533 : 7 passes : dbow+dmm 0.0s 0.3s\n",
      " 0.269867 : 7 passes : dbow+dmc 0.0s 0.3s\n",
      "Completed pass 7 at alpha 0.017800\n",
      " 0.290667 : 8 passes : Doc2Vec(dm/c,d100,n5,w5,mc2,s0.001,t8) 2.1s 0.1s\n",
      " 0.283733 : 8 passes : Doc2Vec(dbow,d100,n5,mc2,s0.001,t8) 1.1s 0.1s\n",
      " 0.289333 : 8 passes : Doc2Vec(dm/m,d100,n5,w10,mc2,s0.001,t8) 2.0s 0.1s\n",
      "*0.268533 : 8 passes : dbow+dmm 0.0s 0.3s\n",
      " 0.273333 : 8 passes : dbow+dmc 0.0s 0.3s\n",
      "Completed pass 8 at alpha 0.016600\n",
      " 0.291467 : 9 passes : Doc2Vec(dm/c,d100,n5,w5,mc2,s0.001,t8) 2.0s 0.1s\n",
      " 0.282133 : 9 passes : Doc2Vec(dbow,d100,n5,mc2,s0.001,t8) 1.1s 0.1s\n",
      "*0.285867 : 9 passes : Doc2Vec(dm/m,d100,n5,w10,mc2,s0.001,t8) 1.9s 0.1s\n",
      " 0.270667 : 9 passes : dbow+dmm 0.0s 0.3s\n",
      " 0.269333 : 9 passes : dbow+dmc 0.0s 0.3s\n",
      "Completed pass 9 at alpha 0.015400\n",
      "*0.287733 : 10 passes : Doc2Vec(dm/c,d100,n5,w5,mc2,s0.001,t8) 2.1s 0.1s\n",
      "*0.312000 : 10 passes : Doc2Vec(dm/c,d100,n5,w5,mc2,s0.001,t8)_inferred 2.1s 0.5s\n",
      " 0.283200 : 10 passes : Doc2Vec(dbow,d100,n5,mc2,s0.001,t8) 1.1s 0.1s\n",
      "*0.296000 : 10 passes : Doc2Vec(dbow,d100,n5,mc2,s0.001,t8)_inferred 1.1s 0.3s\n",
      " 0.287200 : 10 passes : Doc2Vec(dm/m,d100,n5,w10,mc2,s0.001,t8) 1.9s 0.1s\n",
      " 0.293333 : 10 passes : Doc2Vec(dm/m,d100,n5,w10,mc2,s0.001,t8)_inferred 1.9s 0.3s\n",
      " 0.270400 : 10 passes : dbow+dmm 0.0s 0.3s\n",
      "*0.269333 : 10 passes : dbow+dmm_inferred 0.0s 0.6s\n",
      " 0.266400 : 10 passes : dbow+dmc 0.0s 0.3s\n",
      "*0.301333 : 10 passes : dbow+dmc_inferred 0.0s 0.8s\n",
      "Completed pass 10 at alpha 0.014200\n",
      " 0.288533 : 11 passes : Doc2Vec(dm/c,d100,n5,w5,mc2,s0.001,t8) 2.0s 0.1s\n",
      " 0.281067 : 11 passes : Doc2Vec(dbow,d100,n5,mc2,s0.001,t8) 1.1s 0.1s\n",
      " 0.286133 : 11 passes : Doc2Vec(dm/m,d100,n5,w10,mc2,s0.001,t8) 1.9s 0.1s\n",
      " 0.269067 : 11 passes : dbow+dmm 0.0s 0.3s\n",
      " 0.270400 : 11 passes : dbow+dmc 0.0s 0.3s\n",
      "Completed pass 11 at alpha 0.013000\n",
      "*0.284800 : 12 passes : Doc2Vec(dm/c,d100,n5,w5,mc2,s0.001,t8) 2.1s 0.1s\n",
      " 0.280000 : 12 passes : Doc2Vec(dbow,d100,n5,mc2,s0.001,t8) 1.1s 0.1s\n",
      " 0.287467 : 12 passes : Doc2Vec(dm/m,d100,n5,w10,mc2,s0.001,t8) 1.9s 0.1s\n",
      "*0.268000 : 12 passes : dbow+dmm 0.0s 0.3s\n",
      " 0.269067 : 12 passes : dbow+dmc 0.0s 0.3s\n",
      "Completed pass 12 at alpha 0.011800\n",
      " 0.285867 : 13 passes : Doc2Vec(dm/c,d100,n5,w5,mc2,s0.001,t8) 2.0s 0.1s\n",
      " 0.284000 : 13 passes : Doc2Vec(dbow,d100,n5,mc2,s0.001,t8) 1.1s 0.1s\n",
      " 0.287467 : 13 passes : Doc2Vec(dm/m,d100,n5,w10,mc2,s0.001,t8) 1.9s 0.1s\n",
      "*0.265867 : 13 passes : dbow+dmm 0.0s 0.3s\n",
      " 0.269067 : 13 passes : dbow+dmc 0.0s 0.3s\n",
      "Completed pass 13 at alpha 0.010600\n",
      " 0.286667 : 14 passes : Doc2Vec(dm/c,d100,n5,w5,mc2,s0.001,t8) 2.0s 0.1s\n",
      " 0.283200 : 14 passes : Doc2Vec(dbow,d100,n5,mc2,s0.001,t8) 1.1s 0.1s\n",
      " 0.288000 : 14 passes : Doc2Vec(dm/m,d100,n5,w10,mc2,s0.001,t8) 1.9s 0.1s\n",
      " 0.266667 : 14 passes : dbow+dmm 0.0s 0.3s\n",
      " 0.268000 : 14 passes : dbow+dmc 0.0s 0.3s\n",
      "Completed pass 14 at alpha 0.009400\n",
      " 0.289600 : 15 passes : Doc2Vec(dm/c,d100,n5,w5,mc2,s0.001,t8) 2.1s 0.1s\n",
      "*0.306667 : 15 passes : Doc2Vec(dm/c,d100,n5,w5,mc2,s0.001,t8)_inferred 2.1s 0.5s\n",
      " 0.282400 : 15 passes : Doc2Vec(dbow,d100,n5,mc2,s0.001,t8) 1.1s 0.1s\n",
      "*0.272000 : 15 passes : Doc2Vec(dbow,d100,n5,mc2,s0.001,t8)_inferred 1.1s 0.3s\n",
      " 0.287200 : 15 passes : Doc2Vec(dm/m,d100,n5,w10,mc2,s0.001,t8) 2.0s 0.1s\n",
      " 0.322667 : 15 passes : Doc2Vec(dm/m,d100,n5,w10,mc2,s0.001,t8)_inferred 2.0s 0.3s\n",
      " 0.266400 : 15 passes : dbow+dmm 0.0s 0.3s\n",
      " 0.282667 : 15 passes : dbow+dmm_inferred 0.0s 0.6s\n",
      " 0.267733 : 15 passes : dbow+dmc 0.0s 0.3s\n",
      "*0.298667 : 15 passes : dbow+dmc_inferred 0.0s 0.8s\n",
      "Completed pass 15 at alpha 0.008200\n",
      " 0.289600 : 16 passes : Doc2Vec(dm/c,d100,n5,w5,mc2,s0.001,t8) 2.0s 0.1s\n",
      " 0.283467 : 16 passes : Doc2Vec(dbow,d100,n5,mc2,s0.001,t8) 1.2s 0.2s\n",
      "*0.285600 : 16 passes : Doc2Vec(dm/m,d100,n5,w10,mc2,s0.001,t8) 2.0s 0.1s\n",
      " 0.268533 : 16 passes : dbow+dmm 0.0s 0.4s\n",
      " 0.267200 : 16 passes : dbow+dmc 0.0s 0.3s\n",
      "Completed pass 16 at alpha 0.007000\n",
      " 0.288000 : 17 passes : Doc2Vec(dm/c,d100,n5,w5,mc2,s0.001,t8) 2.0s 0.1s\n",
      " 0.281600 : 17 passes : Doc2Vec(dbow,d100,n5,mc2,s0.001,t8) 1.2s 0.1s\n",
      " 0.286400 : 17 passes : Doc2Vec(dm/m,d100,n5,w10,mc2,s0.001,t8) 2.0s 0.1s\n",
      " 0.266667 : 17 passes : dbow+dmm 0.0s 0.3s\n",
      " 0.268800 : 17 passes : dbow+dmc 0.0s 0.3s\n",
      "Completed pass 17 at alpha 0.005800\n",
      " 0.287467 : 18 passes : Doc2Vec(dm/c,d100,n5,w5,mc2,s0.001,t8) 2.0s 0.1s\n",
      " 0.281600 : 18 passes : Doc2Vec(dbow,d100,n5,mc2,s0.001,t8) 1.2s 0.1s\n",
      "*0.285333 : 18 passes : Doc2Vec(dm/m,d100,n5,w10,mc2,s0.001,t8) 2.0s 0.1s\n",
      " 0.266667 : 18 passes : dbow+dmm 0.0s 0.3s\n",
      " 0.271467 : 18 passes : dbow+dmc 0.0s 0.3s\n",
      "Completed pass 18 at alpha 0.004600\n",
      " 0.286933 : 19 passes : Doc2Vec(dm/c,d100,n5,w5,mc2,s0.001,t8) 2.1s 0.2s\n",
      " 0.281600 : 19 passes : Doc2Vec(dbow,d100,n5,mc2,s0.001,t8) 1.3s 0.1s\n",
      " 0.286400 : 19 passes : Doc2Vec(dm/m,d100,n5,w10,mc2,s0.001,t8) 2.3s 0.1s\n",
      " 0.267467 : 19 passes : dbow+dmm 0.0s 0.3s\n",
      " 0.271467 : 19 passes : dbow+dmc 0.0s 0.3s\n",
      "Completed pass 19 at alpha 0.003400\n",
      " 0.286667 : 20 passes : Doc2Vec(dm/c,d100,n5,w5,mc2,s0.001,t8) 2.5s 0.1s\n",
      "*0.282667 : 20 passes : Doc2Vec(dm/c,d100,n5,w5,mc2,s0.001,t8)_inferred 2.5s 0.6s\n",
      " 0.282400 : 20 passes : Doc2Vec(dbow,d100,n5,mc2,s0.001,t8) 1.3s 0.1s\n",
      " 0.309333 : 20 passes : Doc2Vec(dbow,d100,n5,mc2,s0.001,t8)_inferred 1.3s 0.3s\n",
      " 0.286133 : 20 passes : Doc2Vec(dm/m,d100,n5,w10,mc2,s0.001,t8) 2.1s 0.1s\n",
      " 0.325333 : 20 passes : Doc2Vec(dm/m,d100,n5,w10,mc2,s0.001,t8)_inferred 2.1s 0.3s\n"
     ]
    },
    {
     "name": "stdout",
     "output_type": "stream",
     "text": [
      " 0.268267 : 20 passes : dbow+dmm 0.0s 0.3s\n",
      "*0.266667 : 20 passes : dbow+dmm_inferred 0.0s 0.6s\n",
      " 0.270400 : 20 passes : dbow+dmc 0.0s 0.3s\n",
      " 0.301333 : 20 passes : dbow+dmc_inferred 0.0s 0.8s\n",
      "Completed pass 20 at alpha 0.002200\n",
      "END 2017-11-30 23:27:22.365398\n"
     ]
    }
   ],
   "source": [
    "from random import shuffle\n",
    "import datetime\n",
    "\n",
    "alpha, min_alpha, passes = (0.025, 0.001, 20)\n",
    "alpha_delta = (alpha - min_alpha) / passes\n",
    "\n",
    "print(\"START %s\" % datetime.datetime.now())\n",
    "\n",
    "for epoch in range(passes):\n",
    "    shuffle(doc_list)  # Shuffling gets best results\n",
    "    \n",
    "    for name, train_model in models_by_name.items():\n",
    "        # Train\n",
    "        duration = 'na'\n",
    "        train_model.alpha, train_model.min_alpha = alpha, alpha\n",
    "        with elapsed_timer() as elapsed:\n",
    "            train_model.train(doc_list, total_examples=len(doc_list), epochs=1)\n",
    "            duration = '%.1f' % elapsed()\n",
    "            \n",
    "        # Evaluate\n",
    "        eval_duration = ''\n",
    "        with elapsed_timer() as eval_elapsed:\n",
    "            err, err_count, test_count, predictor = error_rate_for_model(train_model, train_docs, test_docs)\n",
    "        eval_duration = '%.1f' % eval_elapsed()\n",
    "        best_indicator = ' '\n",
    "        if err <= best_error[name]:\n",
    "            best_error[name] = err\n",
    "            best_indicator = '*' \n",
    "        print(\"%s%f : %i passes : %s %ss %ss\" % (best_indicator, err, epoch + 1, name, duration, eval_duration))\n",
    "\n",
    "        if ((epoch + 1) % 5) == 0 or epoch == 0:\n",
    "            eval_duration = ''\n",
    "            with elapsed_timer() as eval_elapsed:\n",
    "                infer_err, err_count, test_count, predictor = error_rate_for_model(train_model, train_docs, test_docs, infer=True)\n",
    "            eval_duration = '%.1f' % eval_elapsed()\n",
    "            best_indicator = ' '\n",
    "            if infer_err < best_error[name + '_inferred']:\n",
    "                best_error[name + '_inferred'] = infer_err\n",
    "                best_indicator = '*'\n",
    "            print(\"%s%f : %i passes : %s %ss %ss\" % (best_indicator, infer_err, epoch + 1, name + '_inferred', duration, eval_duration))\n",
    "\n",
    "    print('Completed pass %i at alpha %f' % (epoch + 1, alpha))\n",
    "    alpha -= alpha_delta\n",
    "    \n",
    "print(\"END %s\" % str(datetime.datetime.now()))"
   ]
  },
  {
   "cell_type": "code",
   "execution_count": 33,
   "metadata": {
    "scrolled": true
   },
   "outputs": [
    {
     "name": "stdout",
     "output_type": "stream",
     "text": [
      "Err rate Model\n",
      "0.265067 dbow+dmc\n",
      "0.265867 dbow+dmm\n",
      "0.266667 dbow+dmm_inferred\n",
      "0.272000 Doc2Vec(dbow,d100,n5,mc2,s0.001,t8)_inferred\n",
      "0.278400 Doc2Vec(dbow,d100,n5,mc2,s0.001,t8)\n",
      "0.280000 Doc2Vec(dm/m,d100,n5,w10,mc2,s0.001,t8)_inferred\n",
      "0.282667 Doc2Vec(dm/c,d100,n5,w5,mc2,s0.001,t8)_inferred\n",
      "0.284800 Doc2Vec(dm/c,d100,n5,w5,mc2,s0.001,t8)\n",
      "0.285333 Doc2Vec(dm/m,d100,n5,w10,mc2,s0.001,t8)\n",
      "0.298667 dbow+dmc_inferred\n"
     ]
    }
   ],
   "source": [
    "# Print best error rates achieved\n",
    "print(\"Err rate Model\")\n",
    "for rate, name in sorted((rate, name) for name, rate in best_error.items()):\n",
    "    print(\"%f %s\" % (rate, name))\n"
   ]
  },
  {
   "cell_type": "code",
   "execution_count": 34,
   "metadata": {},
   "outputs": [
    {
     "name": "stdout",
     "output_type": "stream",
     "text": [
      "for doc 5600...\n",
      "Doc2Vec(dm/c,d100,n5,w5,mc2,s0.001,t8):\n",
      " [(4607, 0.5480066537857056), (7298, 0.5062913298606873), (5080, 0.5040585994720459)]\n",
      "Doc2Vec(dbow,d100,n5,mc2,s0.001,t8):\n",
      " [(1845, 0.9106544256210327), (1850, 0.9082658290863037), (1846, 0.8847739696502686)]\n",
      "Doc2Vec(dm/m,d100,n5,w10,mc2,s0.001,t8):\n",
      " [(3827, 0.8442808389663696), (1845, 0.8422756791114807), (5201, 0.8405041694641113)]\n"
     ]
    }
   ],
   "source": [
    "doc_id = np.random.randint(simple_models[0].docvecs.count)  # Pick random doc; re-run cell for more examples\n",
    "print('for doc %d...' % doc_id)\n",
    "for model in simple_models:\n",
    "    inferred_docvec = model.infer_vector(alldocs[doc_id].words)\n",
    "    print('%s:\\n %s' % (model, model.docvecs.most_similar([inferred_docvec], topn=3)))"
   ]
  },
  {
   "cell_type": "code",
   "execution_count": 35,
   "metadata": {},
   "outputs": [
    {
     "name": "stdout",
     "output_type": "stream",
     "text": [
      "TARGET (7482): «this is a continuation of our previous work 0712 . 4092 . it is well known that various isoperimetric inequalities imply their functional ``counterparts'' , but in general this is not an equivalence . we show that under certain convexity assumptions ( e . g . for log-concave probability measures in euclidean space ) , the latter implication can in fact be reversed for very general inequalities , generalizing a reverse form of cheeger's inequality due to buser and ledoux . we develop a coherent single framework for passing between isoperimetric inequalities , orlicz-sobolev functional inequalities and capacity inequalities , the latter being notions introduced by maz'ya and extended by barthe--cattiaux--roberto . as an application , we extend the known results due to the latter authors about the stability of the isoperimetric profile under tensorization , when there is no central-limit obstruction . as another application , we show that under our convexity assumptions , $q$-log-sobolev inequalities ( $q \\in [1 , 2]$ ) are equivalent to an appropriate family of isoperimetric inequalities , extending results of bakry--ledoux and bobkov--zegarlinski . our results extend to the more general setting of riemannian manifolds with density which satisfy the $cd ( 0 , \\infty ) $ curvature-dimension condition of bakry--\\'emery .»\n",
      "\n",
      "SIMILAR/DISSIMILAR DOCS PER MODEL Doc2Vec(dm/c,d100,n5,w5,mc2,s0.001,t8):\n",
      "\n",
      "MOST (1398, 0.5768483877182007): «uncountably many mutually non-isomorphic product systems ( that is , continuous tensor products of hilbert spaces ) of types ii-0 and iii are constructed by probabilistic means ( random sets and off-white noises ) , answering four questions of w . arveson . results of math . fa/0001070 , math . fa/0006165 are improved , and proofs are more readable .»\n",
      "\n",
      "MEDIAN (5243, 0.0015223734080791473): «the $\\theta$-spherical functions generalize the spherical functions on riemannian symmetric spaces and the spherical functions on non-compactly causal symmetric spaces . in this article we consider the case of even multiplicity functions . we construct a differential shift operator $d_m$ with smooth coefficients which generates the $\\theta$-spherical functions from finite sums of exponential functions . we then use this fact to prove a paley-wiener theorem for the $\\theta$-spherical transfrom .»\n",
      "\n",
      "LEAST (2316, -0.5832616090774536): «in this paper we study shorted operators relative to two different subspaces , for bounded operators on infinite dimensional hilbert spaces . we define two notions of complementability in the sense of ando for operators , and study the properties of the shorted operators when they can be defined . we use these facts in order to define and study the notions of parallel sum and substraction , in this hilbertian context .»\n",
      "\n"
     ]
    }
   ],
   "source": [
    "\n",
    "import random\n",
    "\n",
    "doc_id = np.random.randint(simple_models[0].docvecs.count)  # pick random doc, re-run cell for more examples\n",
    "model = random.choice(simple_models)  # and a random model\n",
    "sims = model.docvecs.most_similar(doc_id, topn=model.docvecs.count)  # get *all* similar documents\n",
    "print(u'TARGET (%d): «%s»\\n' % (doc_id, ' '.join(alldocs[doc_id].words)))\n",
    "print(u'SIMILAR/DISSIMILAR DOCS PER MODEL %s:\\n' % model)\n",
    "for label, index in [('MOST', 0), ('MEDIAN', len(sims)//2), ('LEAST', len(sims) - 1)]:\n",
    "    print(u'%s %s: «%s»\\n' % (label, sims[index], ' '.join(alldocs[sims[index][0]].words)))\n",
    "\n"
   ]
  },
  {
   "cell_type": "code",
   "execution_count": null,
   "metadata": {},
   "outputs": [],
   "source": []
  },
  {
   "cell_type": "code",
   "execution_count": null,
   "metadata": {},
   "outputs": [],
   "source": []
  }
 ],
 "metadata": {
  "kernelspec": {
   "display_name": "Python 3",
   "language": "python",
   "name": "python3"
  },
  "language_info": {
   "codemirror_mode": {
    "name": "ipython",
    "version": 3
   },
   "file_extension": ".py",
   "mimetype": "text/x-python",
   "name": "python",
   "nbconvert_exporter": "python",
   "pygments_lexer": "ipython3",
   "version": "3.6.2"
  }
 },
 "nbformat": 4,
 "nbformat_minor": 2
}
