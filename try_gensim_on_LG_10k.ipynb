{
 "cells": [
  {
   "cell_type": "code",
   "execution_count": 2,
   "metadata": {},
   "outputs": [
    {
     "data": {
      "text/plain": [
       "'C'"
      ]
     },
     "execution_count": 2,
     "metadata": {},
     "output_type": "execute_result"
    }
   ],
   "source": [
    "import locale\n",
    "\n",
    "#from matplotlib import pyplot as plt\n",
    "import numpy as np\n",
    "\n",
    "from db import psqlServer\n",
    "sv = psqlServer()\n",
    "\n",
    "control_chars = [chr(0x85)]\n",
    "locale.setlocale(locale.LC_ALL, 'C')\n",
    "\n"
   ]
  },
  {
   "cell_type": "code",
   "execution_count": 3,
   "metadata": {},
   "outputs": [],
   "source": [
    "def normalize_text(text):\n",
    "    norm_text = text.lower()\n",
    "    # Replace breaks with spaces\n",
    "    norm_text = norm_text.replace('<br />', ' ')\n",
    "    # Pad punctuation with spaces on both sides\n",
    "    for char in ['.', '\"', ',', '(', ')', '!', '?', ';', ':']:\n",
    "        norm_text = norm_text.replace(char, ' ' + char + ' ')\n",
    "    return norm_text"
   ]
  },
  {
   "cell_type": "code",
   "execution_count": null,
   "metadata": {},
   "outputs": [],
   "source": []
  },
  {
   "cell_type": "code",
   "execution_count": 4,
   "metadata": {},
   "outputs": [],
   "source": [
    "AI = \"arx_AI\"        # artificial intelligence\n",
    "FA = \"arx_math_FA\"   # functional analysis\n",
    "GR = \"arx_GRQC\"      # general relativity and quantum cosmology\n",
    "LG = \"arx\"           # learning\n",
    "NT = \"arx_math_NT\"   # number theory"
   ]
  },
  {
   "cell_type": "code",
   "execution_count": 5,
   "metadata": {},
   "outputs": [
    {
     "name": "stdout",
     "output_type": "stream",
     "text": [
      "116060\n"
     ]
    }
   ],
   "source": [
    "# How many items in all tables?\n",
    "UNION = \" UNION ALL \"\n",
    "SEL_C = \"SELECT COUNT(*) as FOO FROM \"\n",
    "sum_statement = \"SELECT SUM(FOO) FROM (\"\n",
    "sum_statement += SEL_C + AI\n",
    "sum_statement += UNION + SEL_C + FA \n",
    "sum_statement += UNION + SEL_C + GR \n",
    "sum_statement += UNION + SEL_C + LG \n",
    "sum_statement += UNION + SEL_C + NT\n",
    "sum_statement += \") as B;\"\n",
    "\n",
    "total = sv.execute(sum_statement)[0]['sum']\n",
    "print(total)"
   ]
  },
  {
   "cell_type": "code",
   "execution_count": 6,
   "metadata": {},
   "outputs": [
    {
     "name": "stdout",
     "output_type": "stream",
     "text": [
      "AI:13000\nFA:16000\nGR:50000\nLG:15060\nNT:22000\n"
     ]
    }
   ],
   "source": [
    "# Per table\n",
    "SEL_C = \"SELECT COUNT(*) FROM \"\n",
    "total_AI = sv.execute(SEL_C + AI)[0]['count']\n",
    "total_FA = sv.execute(SEL_C + FA)[0]['count']\n",
    "total_GR = sv.execute(SEL_C + GR)[0]['count']\n",
    "total_LG = sv.execute(SEL_C + LG)[0]['count']\n",
    "total_NT = sv.execute(SEL_C + NT)[0]['count']\n",
    "\n",
    "print(\"AI:{}\".format(total_AI))\n",
    "print(\"FA:{}\".format(total_FA))\n",
    "print(\"GR:{}\".format(total_GR))\n",
    "print(\"LG:{}\".format(total_LG))\n",
    "print(\"NT:{}\".format(total_NT))"
   ]
  },
  {
   "cell_type": "code",
   "execution_count": 8,
   "metadata": {},
   "outputs": [],
   "source": [
    "# Get some rows from the AI table\n",
    "rows = sv.execute(\"SELECT * FROM arx LIMIT 10000\")\n",
    "corpus = [x['abstract'] for x in rows]\n",
    "labels = [float(x['has_journal_ref']) for x in rows]\n",
    "\n",
    "#rows2 = sv.execute(\"SELECT abstract FROM arx_math_FA LIMIT 10000\")\n",
    "#corpus += [x['abstract'] for x in rows2]\n",
    "#labels += [x['has_journal_ref'] for x in rows2]\n",
    "\n",
    "#rows3 = sv.execute(\"SELECT abstract FROM arx_GRQC LIMIT 30000\")\n",
    "#corpus += [x['abstract'] for x in rows3]\n",
    "#labels += [x['has_journal_ref'] for x in rows2]\n"
   ]
  },
  {
   "cell_type": "code",
   "execution_count": 9,
   "metadata": {},
   "outputs": [],
   "source": [
    "corpus_n = []\n",
    "jj = 0\n",
    "for corp in corpus:\n",
    "    corpus_n.append(u\"_*{0} {1}\\n\".format(jj, normalize_text(corp)))\n",
    "    jj += 1"
   ]
  },
  {
   "cell_type": "code",
   "execution_count": 10,
   "metadata": {},
   "outputs": [
    {
     "data": {
      "text/plain": [
       "10000"
      ]
     },
     "execution_count": 10,
     "metadata": {},
     "output_type": "execute_result"
    }
   ],
   "source": [
    "len(corpus_n)"
   ]
  },
  {
   "cell_type": "code",
   "execution_count": 11,
   "metadata": {},
   "outputs": [],
   "source": [
    "import gensim\n",
    "from collections import namedtuple\n"
   ]
  },
  {
   "cell_type": "code",
   "execution_count": 21,
   "metadata": {},
   "outputs": [],
   "source": [
    "SentimentDocument = namedtuple('SentimentDocument', 'words tags split sentiment')\n",
    "alldocs = []\n",
    "for line_no, line in enumerate(corpus_n[0:2500]):\n",
    "    tokens = gensim.utils.to_unicode(corpus_n[line_no]).split()\n",
    "    words = tokens[1:]\n",
    "    tags = [line_no]\n",
    "    split = 'train'\n",
    "    #split = ['train', 'test', 'extra', 'extra'][line_no//12500]\n",
    "    sentiment = labels[line_no]\n",
    "    #sentiment = [1.0, 0.0, 1.0, 0.0, None, None, None, None][line_no//6750]\n",
    "    alldocs.append(SentimentDocument(words, tags, split, sentiment))\n",
    "\n",
    "for line_no, line in enumerate(corpus_n[2500:5000]):\n",
    "    tokens = gensim.utils.to_unicode(corpus_n[line_no]).split()\n",
    "    words = tokens[1:]\n",
    "    tags = [line_no]\n",
    "    split = 'test'\n",
    "    #split = ['train', 'test', 'extra', 'extra'][line_no//12500]\n",
    "    sentiment = labels[line_no]\n",
    "    #sentiment = [1.0, 0.0, 1.0, 0.0, None, None, None, None][line_no//6750]\n",
    "    alldocs.append(SentimentDocument(words, tags, split, sentiment))\n",
    "    \n",
    "for line_no, line in enumerate(corpus_n[5000:]):\n",
    "    tokens = gensim.utils.to_unicode(corpus_n[line_no]).split()\n",
    "    words = tokens[1:]\n",
    "    tags = [line_no]\n",
    "    split = 'extra'\n",
    "    #split = ['train', 'test', 'extra', 'extra'][line_no//12500]\n",
    "    sentiment = None\n",
    "    #sentiment = [1.0, 0.0, 1.0, 0.0, None, None, None, None][line_no//6750]\n",
    "    alldocs.append(SentimentDocument(words, tags, split, sentiment))    "
   ]
  },
  {
   "cell_type": "code",
   "execution_count": 22,
   "metadata": {},
   "outputs": [
    {
     "data": {
      "text/plain": [
       "10000"
      ]
     },
     "execution_count": 22,
     "metadata": {},
     "output_type": "execute_result"
    }
   ],
   "source": [
    "len(alldocs)"
   ]
  },
  {
   "cell_type": "code",
   "execution_count": 23,
   "metadata": {},
   "outputs": [
    {
     "name": "stdout",
     "output_type": "stream",
     "text": [
      "10000 docs: 2500 train-sentiment, 2500 test-sentiment\n"
     ]
    }
   ],
   "source": [
    "train_docs = [doc for doc in alldocs if doc.split == 'train']\n",
    "test_docs = [doc for doc in alldocs if doc.split == 'test']\n",
    "doc_list = alldocs[:]  # For reshuffling per pass\n",
    "\n",
    "print('%d docs: %d train-sentiment, %d test-sentiment' % (len(doc_list), len(train_docs), len(test_docs)))"
   ]
  },
  {
   "cell_type": "code",
   "execution_count": 24,
   "metadata": {},
   "outputs": [],
   "source": [
    "from gensim.models import Doc2Vec\n",
    "import gensim.models.doc2vec\n",
    "from collections import OrderedDict\n",
    "import multiprocessing"
   ]
  },
  {
   "cell_type": "code",
   "execution_count": 25,
   "metadata": {},
   "outputs": [],
   "source": [
    "cores = multiprocessing.cpu_count()\n",
    "assert gensim.models.doc2vec.FAST_VERSION > -1, \"This will be painfully slow otherwise\""
   ]
  },
  {
   "cell_type": "code",
   "execution_count": 26,
   "metadata": {},
   "outputs": [],
   "source": [
    "simple_models = [\n",
    "    # PV-DM w/ concatenation - window=5 (both sides) approximates paper's 10-word total window size\n",
    "    Doc2Vec(dm=1, dm_concat=1, size=100, window=5, negative=5, hs=0, min_count=2, workers=cores),\n",
    "    # PV-DBOW \n",
    "    Doc2Vec(dm=0, size=100, negative=5, hs=0, min_count=2, workers=cores),\n",
    "    # PV-DM w/ average\n",
    "    Doc2Vec(dm=1, dm_mean=1, size=100, window=10, negative=5, hs=0, min_count=2, workers=cores),\n",
    "]"
   ]
  },
  {
   "cell_type": "code",
   "execution_count": 27,
   "metadata": {},
   "outputs": [],
   "source": [
    "simple_models[0].build_vocab(alldocs)"
   ]
  },
  {
   "cell_type": "code",
   "execution_count": 28,
   "metadata": {},
   "outputs": [
    {
     "name": "stdout",
     "output_type": "stream",
     "text": [
      "Doc2Vec(dm/c,d100,n5,w5,mc2,s0.001,t8)\n",
      "Doc2Vec(dbow,d100,n5,mc2,s0.001,t8)\n",
      "Doc2Vec(dm/m,d100,n5,w10,mc2,s0.001,t8)\n"
     ]
    }
   ],
   "source": [
    "print(simple_models[0])\n",
    "for model in simple_models[1:]:\n",
    "    \"\"\"Reuse shareable structures from other_model.\"\"\"\n",
    "    model.reset_from(simple_models[0])\n",
    "    print(model)"
   ]
  },
  {
   "cell_type": "code",
   "execution_count": 29,
   "metadata": {},
   "outputs": [],
   "source": [
    "models_by_name = OrderedDict((str(model), model) for model in simple_models)\n",
    "from gensim.test.test_doc2vec import ConcatenatedDoc2Vec\n",
    "models_by_name['dbow+dmm'] = ConcatenatedDoc2Vec([simple_models[1], simple_models[2]])\n",
    "models_by_name['dbow+dmc'] = ConcatenatedDoc2Vec([simple_models[1], simple_models[0]])"
   ]
  },
  {
   "cell_type": "code",
   "execution_count": 30,
   "metadata": {},
   "outputs": [
    {
     "data": {
      "text/plain": [
       "OrderedDict([('Doc2Vec(dm/c,d100,n5,w5,mc2,s0.001,t8)',\n",
       "              <gensim.models.doc2vec.Doc2Vec at 0x1119bbfd0>),\n",
       "             ('Doc2Vec(dbow,d100,n5,mc2,s0.001,t8)',\n",
       "              <gensim.models.doc2vec.Doc2Vec at 0x116e36080>),\n",
       "             ('Doc2Vec(dm/m,d100,n5,w10,mc2,s0.001,t8)',\n",
       "              <gensim.models.doc2vec.Doc2Vec at 0x116e36198>),\n",
       "             ('dbow+dmm',\n",
       "              <gensim.test.test_doc2vec.ConcatenatedDoc2Vec at 0x11c0a23c8>),\n",
       "             ('dbow+dmc',\n",
       "              <gensim.test.test_doc2vec.ConcatenatedDoc2Vec at 0x11c0a2390>)])"
      ]
     },
     "execution_count": 30,
     "metadata": {},
     "output_type": "execute_result"
    }
   ],
   "source": [
    "models_by_name"
   ]
  },
  {
   "cell_type": "code",
   "execution_count": 31,
   "metadata": {},
   "outputs": [
    {
     "name": "stderr",
     "output_type": "stream",
     "text": [
      "/Users/alex/code/article-classifier/ac/lib/python3.6/site-packages/statsmodels/compat/pandas.py:56: FutureWarning: The pandas.core.datetools module is deprecated and will be removed in a future version. Please use the pandas.tseries module instead.\n",
      "  from pandas.core import datetools\n"
     ]
    }
   ],
   "source": [
    "\n",
    "# Predictive Evaluation Methods\n",
    "\n",
    "# Let's define some helper methods for evaluating the performance of our Doc2vec\n",
    "# using paragraph vectors. We will classify document sentiments using a logistic \n",
    "# regression model based on our paragraph embeddings. We will compare the error \n",
    "# rates based on word embeddings from our various Doc2vec models.\n",
    "import numpy as np\n",
    "import statsmodels.api as sm\n",
    "from random import sample\n",
    "\n",
    "# For timing\n",
    "from contextlib import contextmanager\n",
    "from timeit import default_timer\n",
    "import time \n"
   ]
  },
  {
   "cell_type": "code",
   "execution_count": 32,
   "metadata": {},
   "outputs": [],
   "source": [
    "@contextmanager\n",
    "def elapsed_timer():\n",
    "    start = default_timer()\n",
    "    elapser = lambda: default_timer() - start\n",
    "    yield lambda: elapser()\n",
    "    end = default_timer()\n",
    "    elapser = lambda: end-start\n",
    "    \n",
    "def logistic_predictor_from_data(train_targets, train_regressors):\n",
    "    logit = sm.Logit(train_targets, train_regressors)\n",
    "    predictor = logit.fit(disp=0)\n",
    "    # print(predictor.summary())\n",
    "    return predictor\n",
    "\n",
    "def error_rate_for_model(test_model, train_set, test_set, infer=False, infer_steps=3, infer_alpha=0.1, infer_subsample=0.1):\n",
    "    \"\"\"Report error rate on test_doc sentiments, using supplied model and train_docs\"\"\"\n",
    "\n",
    "    train_targets, train_regressors = zip(*[(doc.sentiment, test_model.docvecs[doc.tags[0]]) for doc in train_set])\n",
    "    train_regressors = sm.add_constant(train_regressors)\n",
    "    predictor = logistic_predictor_from_data(train_targets, train_regressors)\n",
    "\n",
    "    test_data = test_set\n",
    "    if infer:\n",
    "        if infer_subsample < 1.0:\n",
    "            test_data = sample(test_data, int(infer_subsample * len(test_data)))\n",
    "        test_regressors = [test_model.infer_vector(doc.words, steps=infer_steps, alpha=infer_alpha) for doc in test_data]\n",
    "    else:\n",
    "        test_regressors = [test_model.docvecs[doc.tags[0]] for doc in test_docs]\n",
    "    test_regressors = sm.add_constant(test_regressors)\n",
    "    \n",
    "    # Predict & evaluate\n",
    "    test_predictions = predictor.predict(test_regressors)\n",
    "    \n",
    "    # Here is the wtf: test_data is just [None]*500!!!\n",
    "    corrects = sum(np.rint(test_predictions) == [doc.sentiment for doc in test_data])\n",
    "    errors = len(test_predictions) - corrects\n",
    "    error_rate = float(errors) / len(test_predictions)\n",
    "    return (error_rate, errors, len(test_predictions), predictor)"
   ]
  },
  {
   "cell_type": "code",
   "execution_count": 33,
   "metadata": {},
   "outputs": [],
   "source": [
    "\n",
    "# Bulk Training\n",
    "\n",
    "# We use an explicit multiple-pass, alpha-reduction approach as sketched in \n",
    "# this gensim doc2vec blog post with added shuffling of corpus on each pass.\n",
    "# https://rare-technologies.com/doc2vec-tutorial/\n",
    "from collections import defaultdict\n",
    "best_error = defaultdict(lambda: 1.0)  # To selectively print only best errors achieved"
   ]
  },
  {
   "cell_type": "code",
   "execution_count": null,
   "metadata": {},
   "outputs": [],
   "source": [
    "\n"
   ]
  },
  {
   "cell_type": "code",
   "execution_count": 37,
   "metadata": {
    "scrolled": false
   },
   "outputs": [
    {
     "name": "stdout",
     "output_type": "stream",
     "text": [
      "START 2017-11-30 22:37:11.236841\n",
      " 0.202000 : 1 passes : Doc2Vec(dm/c,d100,n5,w5,mc2,s0.001,t8) 2.3s 0.1s\n",
      " 0.268000 : 1 passes : Doc2Vec(dm/c,d100,n5,w5,mc2,s0.001,t8)_inferred 2.3s 0.5s\n",
      "*0.191600 : 1 passes : Doc2Vec(dbow,d100,n5,mc2,s0.001,t8) 0.9s 0.1s\n",
      "*0.172000 : 1 passes : Doc2Vec(dbow,d100,n5,mc2,s0.001,t8)_inferred 0.9s 0.2s\n",
      " 0.201600 : 1 passes : Doc2Vec(dm/m,d100,n5,w10,mc2,s0.001,t8) 1.7s 0.1s\n",
      " 0.244000 : 1 passes : Doc2Vec(dm/m,d100,n5,w10,mc2,s0.001,t8)_inferred 1.7s 0.3s\n",
      " 0.182800 : 1 passes : dbow+dmm 0.0s 0.2s\n",
      " 0.296000 : 1 passes : dbow+dmm_inferred 0.0s 0.5s\n",
      " 0.178400 : 1 passes : dbow+dmc 0.0s 0.2s\n",
      "*0.256000 : 1 passes : dbow+dmc_inferred 0.0s 0.7s\n",
      "Completed pass 1 at alpha 0.025000\n",
      "*0.200000 : 2 passes : Doc2Vec(dm/c,d100,n5,w5,mc2,s0.001,t8) 2.5s 0.1s\n",
      "*0.189200 : 2 passes : Doc2Vec(dbow,d100,n5,mc2,s0.001,t8) 1.2s 0.1s\n",
      "*0.199200 : 2 passes : Doc2Vec(dm/m,d100,n5,w10,mc2,s0.001,t8) 2.0s 0.1s\n",
      "*0.180800 : 2 passes : dbow+dmm 0.0s 0.2s\n",
      " 0.180000 : 2 passes : dbow+dmc 0.0s 0.3s\n",
      "Completed pass 2 at alpha 0.023800\n",
      " 0.202400 : 3 passes : Doc2Vec(dm/c,d100,n5,w5,mc2,s0.001,t8) 2.9s 0.1s\n",
      " 0.190800 : 3 passes : Doc2Vec(dbow,d100,n5,mc2,s0.001,t8) 1.3s 0.1s\n",
      " 0.201200 : 3 passes : Doc2Vec(dm/m,d100,n5,w10,mc2,s0.001,t8) 1.9s 0.1s\n",
      "*0.175200 : 3 passes : dbow+dmm 0.0s 0.2s\n",
      " 0.182800 : 3 passes : dbow+dmc 0.0s 0.2s\n",
      "Completed pass 3 at alpha 0.022600\n",
      " 0.205200 : 4 passes : Doc2Vec(dm/c,d100,n5,w5,mc2,s0.001,t8) 2.5s 0.1s\n",
      " 0.190400 : 4 passes : Doc2Vec(dbow,d100,n5,mc2,s0.001,t8) 1.0s 0.1s\n",
      "*0.196800 : 4 passes : Doc2Vec(dm/m,d100,n5,w10,mc2,s0.001,t8) 1.6s 0.1s\n",
      " 0.184400 : 4 passes : dbow+dmm 0.0s 0.2s\n",
      " 0.184400 : 4 passes : dbow+dmc 0.0s 0.2s\n",
      "Completed pass 4 at alpha 0.021400\n",
      " 0.204000 : 5 passes : Doc2Vec(dm/c,d100,n5,w5,mc2,s0.001,t8) 2.2s 0.1s\n",
      " 0.212000 : 5 passes : Doc2Vec(dm/c,d100,n5,w5,mc2,s0.001,t8)_inferred 2.2s 0.5s\n",
      " 0.192000 : 5 passes : Doc2Vec(dbow,d100,n5,mc2,s0.001,t8) 1.0s 0.1s\n",
      " 0.232000 : 5 passes : Doc2Vec(dbow,d100,n5,mc2,s0.001,t8)_inferred 1.0s 0.2s\n",
      " 0.197600 : 5 passes : Doc2Vec(dm/m,d100,n5,w10,mc2,s0.001,t8) 1.7s 0.1s\n",
      " 0.224000 : 5 passes : Doc2Vec(dm/m,d100,n5,w10,mc2,s0.001,t8)_inferred 1.7s 0.3s\n",
      " 0.180400 : 5 passes : dbow+dmm 0.0s 0.2s\n",
      "*0.224000 : 5 passes : dbow+dmm_inferred 0.0s 0.6s\n",
      " 0.184000 : 5 passes : dbow+dmc 0.0s 0.2s\n",
      "*0.164000 : 5 passes : dbow+dmc_inferred 0.0s 0.8s\n",
      "Completed pass 5 at alpha 0.020200\n",
      " 0.203200 : 6 passes : Doc2Vec(dm/c,d100,n5,w5,mc2,s0.001,t8) 2.1s 0.1s\n",
      " 0.190800 : 6 passes : Doc2Vec(dbow,d100,n5,mc2,s0.001,t8) 1.0s 0.1s\n",
      " 0.199600 : 6 passes : Doc2Vec(dm/m,d100,n5,w10,mc2,s0.001,t8) 1.6s 0.1s\n",
      " 0.182400 : 6 passes : dbow+dmm 0.0s 0.2s\n",
      " 0.182000 : 6 passes : dbow+dmc 0.0s 0.2s\n",
      "Completed pass 6 at alpha 0.019000\n",
      " 0.201200 : 7 passes : Doc2Vec(dm/c,d100,n5,w5,mc2,s0.001,t8) 2.2s 0.1s\n",
      " 0.191600 : 7 passes : Doc2Vec(dbow,d100,n5,mc2,s0.001,t8) 1.0s 0.1s\n",
      " 0.199600 : 7 passes : Doc2Vec(dm/m,d100,n5,w10,mc2,s0.001,t8) 1.6s 0.1s\n",
      " 0.182800 : 7 passes : dbow+dmm 0.0s 0.2s\n",
      " 0.184000 : 7 passes : dbow+dmc 0.0s 0.2s\n",
      "Completed pass 7 at alpha 0.017800\n",
      " 0.206000 : 8 passes : Doc2Vec(dm/c,d100,n5,w5,mc2,s0.001,t8) 2.1s 0.1s\n",
      "*0.189200 : 8 passes : Doc2Vec(dbow,d100,n5,mc2,s0.001,t8) 0.9s 0.1s\n",
      " 0.201200 : 8 passes : Doc2Vec(dm/m,d100,n5,w10,mc2,s0.001,t8) 1.6s 0.1s\n",
      " 0.187600 : 8 passes : dbow+dmm 0.0s 0.2s\n",
      " 0.184400 : 8 passes : dbow+dmc 0.0s 0.2s\n",
      "Completed pass 8 at alpha 0.016600\n",
      " 0.200400 : 9 passes : Doc2Vec(dm/c,d100,n5,w5,mc2,s0.001,t8) 2.0s 0.1s\n",
      " 0.190000 : 9 passes : Doc2Vec(dbow,d100,n5,mc2,s0.001,t8) 0.9s 0.1s\n",
      " 0.198800 : 9 passes : Doc2Vec(dm/m,d100,n5,w10,mc2,s0.001,t8) 1.5s 0.1s\n",
      " 0.182800 : 9 passes : dbow+dmm 0.0s 0.2s\n",
      " 0.186800 : 9 passes : dbow+dmc 0.0s 0.2s\n",
      "Completed pass 9 at alpha 0.015400\n",
      " 0.202000 : 10 passes : Doc2Vec(dm/c,d100,n5,w5,mc2,s0.001,t8) 2.0s 0.1s\n",
      "*0.168000 : 10 passes : Doc2Vec(dm/c,d100,n5,w5,mc2,s0.001,t8)_inferred 2.0s 0.5s\n",
      " 0.192000 : 10 passes : Doc2Vec(dbow,d100,n5,mc2,s0.001,t8) 1.0s 0.1s\n",
      " 0.200000 : 10 passes : Doc2Vec(dbow,d100,n5,mc2,s0.001,t8)_inferred 1.0s 0.2s\n",
      " 0.200000 : 10 passes : Doc2Vec(dm/m,d100,n5,w10,mc2,s0.001,t8) 1.6s 0.1s\n",
      "*0.180000 : 10 passes : Doc2Vec(dm/m,d100,n5,w10,mc2,s0.001,t8)_inferred 1.6s 0.3s\n",
      " 0.180400 : 10 passes : dbow+dmm 0.0s 0.2s\n",
      "*0.204000 : 10 passes : dbow+dmm_inferred 0.0s 0.5s\n",
      " 0.184000 : 10 passes : dbow+dmc 0.0s 0.2s\n",
      " 0.240000 : 10 passes : dbow+dmc_inferred 0.0s 0.8s\n",
      "Completed pass 10 at alpha 0.014200\n",
      " 0.203200 : 11 passes : Doc2Vec(dm/c,d100,n5,w5,mc2,s0.001,t8) 2.0s 0.1s\n",
      " 0.192400 : 11 passes : Doc2Vec(dbow,d100,n5,mc2,s0.001,t8) 0.9s 0.1s\n",
      " 0.200000 : 11 passes : Doc2Vec(dm/m,d100,n5,w10,mc2,s0.001,t8) 1.6s 0.1s\n",
      " 0.183200 : 11 passes : dbow+dmm 0.0s 0.2s\n",
      "*0.175600 : 11 passes : dbow+dmc 0.0s 0.2s\n",
      "Completed pass 11 at alpha 0.013000\n",
      " 0.201600 : 12 passes : Doc2Vec(dm/c,d100,n5,w5,mc2,s0.001,t8) 2.2s 0.1s\n",
      "*0.189200 : 12 passes : Doc2Vec(dbow,d100,n5,mc2,s0.001,t8) 1.0s 0.1s\n",
      " 0.198800 : 12 passes : Doc2Vec(dm/m,d100,n5,w10,mc2,s0.001,t8) 1.6s 0.1s\n",
      " 0.182000 : 12 passes : dbow+dmm 0.0s 0.2s\n",
      " 0.179600 : 12 passes : dbow+dmc 0.0s 0.2s\n",
      "Completed pass 12 at alpha 0.011800\n",
      " 0.200400 : 13 passes : Doc2Vec(dm/c,d100,n5,w5,mc2,s0.001,t8) 2.1s 0.2s\n",
      " 0.190000 : 13 passes : Doc2Vec(dbow,d100,n5,mc2,s0.001,t8) 1.0s 0.1s\n",
      " 0.199200 : 13 passes : Doc2Vec(dm/m,d100,n5,w10,mc2,s0.001,t8) 1.6s 0.1s\n",
      " 0.180400 : 13 passes : dbow+dmm 0.0s 0.2s\n",
      " 0.184400 : 13 passes : dbow+dmc 0.0s 0.2s\n",
      "Completed pass 13 at alpha 0.010600\n",
      " 0.203200 : 14 passes : Doc2Vec(dm/c,d100,n5,w5,mc2,s0.001,t8) 2.0s 0.1s\n",
      " 0.190800 : 14 passes : Doc2Vec(dbow,d100,n5,mc2,s0.001,t8) 0.9s 0.1s\n",
      " 0.198800 : 14 passes : Doc2Vec(dm/m,d100,n5,w10,mc2,s0.001,t8) 1.6s 0.1s\n",
      " 0.181200 : 14 passes : dbow+dmm 0.0s 0.2s\n",
      " 0.182000 : 14 passes : dbow+dmc 0.0s 0.2s\n",
      "Completed pass 14 at alpha 0.009400\n",
      " 0.205200 : 15 passes : Doc2Vec(dm/c,d100,n5,w5,mc2,s0.001,t8) 1.9s 0.1s\n",
      " 0.240000 : 15 passes : Doc2Vec(dm/c,d100,n5,w5,mc2,s0.001,t8)_inferred 1.9s 0.5s\n",
      " 0.192000 : 15 passes : Doc2Vec(dbow,d100,n5,mc2,s0.001,t8) 0.9s 0.1s\n",
      " 0.204000 : 15 passes : Doc2Vec(dbow,d100,n5,mc2,s0.001,t8)_inferred 0.9s 0.2s\n",
      " 0.198800 : 15 passes : Doc2Vec(dm/m,d100,n5,w10,mc2,s0.001,t8) 1.6s 0.1s\n",
      " 0.252000 : 15 passes : Doc2Vec(dm/m,d100,n5,w10,mc2,s0.001,t8)_inferred 1.6s 0.3s\n",
      " 0.182800 : 15 passes : dbow+dmm 0.0s 0.2s\n",
      " 0.208000 : 15 passes : dbow+dmm_inferred 0.0s 0.5s\n",
      " 0.186400 : 15 passes : dbow+dmc 0.0s 0.2s\n",
      " 0.204000 : 15 passes : dbow+dmc_inferred 0.0s 0.8s\n",
      "Completed pass 15 at alpha 0.008200\n",
      " 0.202400 : 16 passes : Doc2Vec(dm/c,d100,n5,w5,mc2,s0.001,t8) 1.9s 0.1s\n",
      " 0.193200 : 16 passes : Doc2Vec(dbow,d100,n5,mc2,s0.001,t8) 1.0s 0.1s\n",
      " 0.199200 : 16 passes : Doc2Vec(dm/m,d100,n5,w10,mc2,s0.001,t8) 1.5s 0.1s\n",
      " 0.183600 : 16 passes : dbow+dmm 0.0s 0.2s\n",
      " 0.186000 : 16 passes : dbow+dmc 0.0s 0.2s\n",
      "Completed pass 16 at alpha 0.007000\n",
      " 0.203600 : 17 passes : Doc2Vec(dm/c,d100,n5,w5,mc2,s0.001,t8) 2.0s 0.1s\n",
      " 0.192400 : 17 passes : Doc2Vec(dbow,d100,n5,mc2,s0.001,t8) 0.9s 0.1s\n",
      " 0.198800 : 17 passes : Doc2Vec(dm/m,d100,n5,w10,mc2,s0.001,t8) 1.6s 0.1s\n",
      " 0.184400 : 17 passes : dbow+dmm 0.0s 0.2s\n",
      " 0.187600 : 17 passes : dbow+dmc 0.0s 0.2s\n",
      "Completed pass 17 at alpha 0.005800\n",
      " 0.204400 : 18 passes : Doc2Vec(dm/c,d100,n5,w5,mc2,s0.001,t8) 1.9s 0.1s\n",
      " 0.190800 : 18 passes : Doc2Vec(dbow,d100,n5,mc2,s0.001,t8) 0.9s 0.1s\n",
      " 0.198400 : 18 passes : Doc2Vec(dm/m,d100,n5,w10,mc2,s0.001,t8) 1.6s 0.1s\n",
      " 0.183200 : 18 passes : dbow+dmm 0.0s 0.2s\n",
      " 0.186800 : 18 passes : dbow+dmc 0.0s 0.2s\n",
      "Completed pass 18 at alpha 0.004600\n",
      " 0.205600 : 19 passes : Doc2Vec(dm/c,d100,n5,w5,mc2,s0.001,t8) 2.0s 0.1s\n",
      " 0.190400 : 19 passes : Doc2Vec(dbow,d100,n5,mc2,s0.001,t8) 1.0s 0.1s\n",
      " 0.198400 : 19 passes : Doc2Vec(dm/m,d100,n5,w10,mc2,s0.001,t8) 1.6s 0.1s\n",
      " 0.184800 : 19 passes : dbow+dmm 0.0s 0.2s\n",
      " 0.186800 : 19 passes : dbow+dmc 0.0s 0.2s\n",
      "Completed pass 19 at alpha 0.003400\n",
      " 0.204800 : 20 passes : Doc2Vec(dm/c,d100,n5,w5,mc2,s0.001,t8) 2.0s 0.1s\n",
      " 0.212000 : 20 passes : Doc2Vec(dm/c,d100,n5,w5,mc2,s0.001,t8)_inferred 2.0s 0.5s\n",
      " 0.190400 : 20 passes : Doc2Vec(dbow,d100,n5,mc2,s0.001,t8) 1.0s 0.1s\n",
      " 0.208000 : 20 passes : Doc2Vec(dbow,d100,n5,mc2,s0.001,t8)_inferred 1.0s 0.2s\n",
      " 0.198400 : 20 passes : Doc2Vec(dm/m,d100,n5,w10,mc2,s0.001,t8) 1.6s 0.1s\n",
      "*0.168000 : 20 passes : Doc2Vec(dm/m,d100,n5,w10,mc2,s0.001,t8)_inferred 1.6s 0.3s\n",
      " 0.184800 : 20 passes : dbow+dmm 0.0s 0.2s\n"
     ]
    },
    {
     "name": "stdout",
     "output_type": "stream",
     "text": [
      " 0.260000 : 20 passes : dbow+dmm_inferred 0.0s 0.5s\n",
      " 0.186400 : 20 passes : dbow+dmc 0.0s 0.2s\n",
      " 0.244000 : 20 passes : dbow+dmc_inferred 0.0s 0.7s\n",
      "Completed pass 20 at alpha 0.002200\n",
      "END 2017-11-30 22:39:12.298662\n"
     ]
    }
   ],
   "source": [
    "from random import shuffle\n",
    "import datetime\n",
    "\n",
    "alpha, min_alpha, passes = (0.025, 0.001, 20)\n",
    "alpha_delta = (alpha - min_alpha) / passes\n",
    "\n",
    "print(\"START %s\" % datetime.datetime.now())\n",
    "\n",
    "for epoch in range(passes):\n",
    "    shuffle(doc_list)  # Shuffling gets best results\n",
    "    \n",
    "    for name, train_model in models_by_name.items():\n",
    "        # Train\n",
    "        duration = 'na'\n",
    "        train_model.alpha, train_model.min_alpha = alpha, alpha\n",
    "        with elapsed_timer() as elapsed:\n",
    "            train_model.train(doc_list, total_examples=len(doc_list), epochs=1)\n",
    "            duration = '%.1f' % elapsed()\n",
    "            \n",
    "        # Evaluate\n",
    "        eval_duration = ''\n",
    "        with elapsed_timer() as eval_elapsed:\n",
    "            err, err_count, test_count, predictor = error_rate_for_model(train_model, train_docs, test_docs)\n",
    "        eval_duration = '%.1f' % eval_elapsed()\n",
    "        best_indicator = ' '\n",
    "        if err <= best_error[name]:\n",
    "            best_error[name] = err\n",
    "            best_indicator = '*' \n",
    "        print(\"%s%f : %i passes : %s %ss %ss\" % (best_indicator, err, epoch + 1, name, duration, eval_duration))\n",
    "\n",
    "        if ((epoch + 1) % 5) == 0 or epoch == 0:\n",
    "            eval_duration = ''\n",
    "            with elapsed_timer() as eval_elapsed:\n",
    "                infer_err, err_count, test_count, predictor = error_rate_for_model(train_model, train_docs, test_docs, infer=True)\n",
    "            eval_duration = '%.1f' % eval_elapsed()\n",
    "            best_indicator = ' '\n",
    "            if infer_err < best_error[name + '_inferred']:\n",
    "                best_error[name + '_inferred'] = infer_err\n",
    "                best_indicator = '*'\n",
    "            print(\"%s%f : %i passes : %s %ss %ss\" % (best_indicator, infer_err, epoch + 1, name + '_inferred', duration, eval_duration))\n",
    "\n",
    "    print('Completed pass %i at alpha %f' % (epoch + 1, alpha))\n",
    "    alpha -= alpha_delta\n",
    "    \n",
    "print(\"END %s\" % str(datetime.datetime.now()))"
   ]
  },
  {
   "cell_type": "code",
   "execution_count": 35,
   "metadata": {
    "scrolled": true
   },
   "outputs": [
    {
     "name": "stdout",
     "output_type": "stream",
     "text": [
      "Err rate Model\n",
      "0.178000 dbow+dmc\n",
      "0.182000 dbow+dmm\n",
      "0.192000 Doc2Vec(dm/c,d100,n5,w5,mc2,s0.001,t8)_inferred\n",
      "0.195600 Doc2Vec(dbow,d100,n5,mc2,s0.001,t8)\n",
      "0.200000 Doc2Vec(dm/c,d100,n5,w5,mc2,s0.001,t8)\n",
      "0.200800 Doc2Vec(dm/m,d100,n5,w10,mc2,s0.001,t8)\n",
      "0.220000 Doc2Vec(dm/m,d100,n5,w10,mc2,s0.001,t8)_inferred\n",
      "0.272000 Doc2Vec(dbow,d100,n5,mc2,s0.001,t8)_inferred\n",
      "0.280000 dbow+dmc_inferred\n",
      "0.280000 dbow+dmm_inferred\n"
     ]
    }
   ],
   "source": [
    "# Print best error rates achieved\n",
    "print(\"Err rate Model\")\n",
    "for rate, name in sorted((rate, name) for name, rate in best_error.items()):\n",
    "    print(\"%f %s\" % (rate, name))\n"
   ]
  },
  {
   "cell_type": "code",
   "execution_count": 38,
   "metadata": {},
   "outputs": [
    {
     "name": "stdout",
     "output_type": "stream",
     "text": [
      "for doc 4244...\n",
      "Doc2Vec(dm/c,d100,n5,w5,mc2,s0.001,t8):\n",
      " [(1744, 0.5996302962303162), (4605, 0.4969134032726288), (4346, 0.4819280803203583)]\n",
      "Doc2Vec(dbow,d100,n5,mc2,s0.001,t8):\n",
      " [(1744, 0.9345065951347351), (3086, 0.5354453325271606), (4543, 0.5352437496185303)]\n",
      "Doc2Vec(dm/m,d100,n5,w10,mc2,s0.001,t8):\n",
      " [(4854, 0.7894381284713745), (2811, 0.7394857406616211), (2607, 0.73373943567276)]\n"
     ]
    }
   ],
   "source": [
    "doc_id = np.random.randint(simple_models[0].docvecs.count)  # Pick random doc; re-run cell for more examples\n",
    "print('for doc %d...' % doc_id)\n",
    "for model in simple_models:\n",
    "    inferred_docvec = model.infer_vector(alldocs[doc_id].words)\n",
    "    print('%s:\\n %s' % (model, model.docvecs.most_similar([inferred_docvec], topn=3)))"
   ]
  },
  {
   "cell_type": "code",
   "execution_count": 39,
   "metadata": {},
   "outputs": [
    {
     "name": "stdout",
     "output_type": "stream",
     "text": [
      "TARGET (3618): «learning structured representations has emerged as an important problem in many domains , including document and web data mining , bioinformatics , and image analysis . one approach to learning complex structures is to integrate many smaller , incomplete and noisy structure fragments . in this work , we present an unsupervised probabilistic approach that extends affinity propagation to combine the small ontological fragments into a collection of integrated , consistent , and larger folksonomies . this is a challenging task because the method must aggregate similar structures while avoiding structural inconsistencies and handling noise . we validate the approach on a real-world social media dataset , comprised of shallow personal hierarchies specified by many individual users , collected from the photosharing website flickr . our empirical results show that our proposed approach is able to construct deeper and denser structures , compared to an approach using only the standard affinity propagation algorithm . additionally , the approach yields better overall integration quality than a state-of-the-art approach based on incremental relational clustering .»\n",
      "\n",
      "SIMILAR/DISSIMILAR DOCS PER MODEL Doc2Vec(dm/c,d100,n5,w5,mc2,s0.001,t8):\n",
      "\n",
      "MOST (2649, 0.49524879455566406): «based on the heuristics that maintaining presumptions can be beneficial in uncertain environments , we propose a set of basic axioms for learning systems to incorporate the concept of prejudice . the simplest , memoryless model of a deterministic learning rule obeying the axioms is constructed , and shown to be equivalent to the logistic map . the system's performance is analysed in an environment in which it is subject to external randomness , weighing learning defectiveness against stability gained . the corresponding random dynamical system with inhomogeneous , additive noise is studied , and shown to exhibit the phenomena of noise induced stability and stochastic bifurcations . the overall results allow for the interpretation that prejudice in uncertain environments entails a considerable portion of stubbornness as a secondary phenomenon .»\n",
      "\n",
      "MEDIAN (2170, -0.025191951543092728): «the classification of high dimensional data with kernel methods is considered in this article . exploit- ing the emptiness property of high dimensional spaces , a kernel based on the mahalanobis distance is proposed . the computation of the mahalanobis distance requires the inversion of a covariance matrix . in high dimensional spaces , the estimated covariance matrix is ill-conditioned and its inversion is unstable or impossible . using a parsimonious statistical model , namely the high dimensional discriminant analysis model , the specific signal and noise subspaces are estimated for each considered class making the inverse of the class specific covariance matrix explicit and stable , leading to the definition of a parsimonious mahalanobis kernel . a svm based framework is used for selecting the hyperparameters of the parsimonious mahalanobis kernel by optimizing the so-called radius-margin bound . experimental results on three high dimensional data sets show that the proposed kernel is suitable for classifying high dimensional data , providing better classification accuracies than the conventional gaussian kernel .»\n",
      "\n",
      "LEAST (1078, -0.4849761426448822): «we propose a focus of attention mechanism to speed up the perceptron algorithm . focus of attention speeds up the perceptron algorithm by lowering the number of features evaluated throughout training and prediction . whereas the traditional perceptron evaluates all the features of each example , the attentive perceptron evaluates less features for easy to classify examples , thereby achieving significant speedups and small losses in prediction accuracy . focus of attention allows the attentive perceptron to stop the evaluation of features at any interim point and filter the example . this creates an attentive filter which concentrates computation at examples that are hard to classify , and quickly filters examples that are easy to classify .»\n",
      "\n"
     ]
    }
   ],
   "source": [
    "\n",
    "import random\n",
    "\n",
    "doc_id = np.random.randint(simple_models[0].docvecs.count)  # pick random doc, re-run cell for more examples\n",
    "model = random.choice(simple_models)  # and a random model\n",
    "sims = model.docvecs.most_similar(doc_id, topn=model.docvecs.count)  # get *all* similar documents\n",
    "print(u'TARGET (%d): «%s»\\n' % (doc_id, ' '.join(alldocs[doc_id].words)))\n",
    "print(u'SIMILAR/DISSIMILAR DOCS PER MODEL %s:\\n' % model)\n",
    "for label, index in [('MOST', 0), ('MEDIAN', len(sims)//2), ('LEAST', len(sims) - 1)]:\n",
    "    print(u'%s %s: «%s»\\n' % (label, sims[index], ' '.join(alldocs[sims[index][0]].words)))\n",
    "\n"
   ]
  },
  {
   "cell_type": "code",
   "execution_count": null,
   "metadata": {},
   "outputs": [],
   "source": []
  },
  {
   "cell_type": "code",
   "execution_count": null,
   "metadata": {},
   "outputs": [],
   "source": []
  }
 ],
 "metadata": {
  "kernelspec": {
   "display_name": "Python 3",
   "language": "python",
   "name": "python3"
  },
  "language_info": {
   "codemirror_mode": {
    "name": "ipython",
    "version": 3
   },
   "file_extension": ".py",
   "mimetype": "text/x-python",
   "name": "python",
   "nbconvert_exporter": "python",
   "pygments_lexer": "ipython3",
   "version": "3.6.2"
  }
 },
 "nbformat": 4,
 "nbformat_minor": 2
}
