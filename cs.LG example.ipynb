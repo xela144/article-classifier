{
 "cells": [
  {
   "cell_type": "code",
   "execution_count": 2,
   "metadata": {},
   "outputs": [],
   "source": [
    "import requests\n",
    "import xmltodict\n",
    "import json"
   ]
  },
  {
   "cell_type": "code",
   "execution_count": 34,
   "metadata": {},
   "outputs": [],
   "source": [
    "#old_url = 'http://export.arxiv.org/api/query?search_query=all:electron&start=0&max_results=10'\n",
    "\n",
    "\n",
    "cs_lg_url = 'http://export.arxiv.org/api/query?search_query=cat:cs.LG&max_results=10'\n",
    "\n",
    "r = requests.get(cs_lg_url)\n",
    "\n",
    "# another url:\n",
    "# http://export.arxiv.org/api/query?search_query=cat:cs.LG%20AND%20lastUpdatedDate:[201609212000%20TO%20201709212111]&max_results=10\n",
    "# Last update addressed as: \"lastUpdatedDate:[201609212000%20TO%20201709212000]\""
   ]
  },
  {
   "cell_type": "code",
   "execution_count": 4,
   "metadata": {},
   "outputs": [
    {
     "name": "stdout",
     "output_type": "stream",
     "text": [
      "200\n"
     ]
    }
   ],
   "source": [
    "print(r.status_code)\n",
    "# should be 200"
   ]
  },
  {
   "cell_type": "code",
   "execution_count": 5,
   "metadata": {},
   "outputs": [
    {
     "name": "stdout",
     "output_type": "stream",
     "text": [
      "UTF-8\n"
     ]
    }
   ],
   "source": [
    "print(r.encoding)\n",
    "# we usually have 'utf-8'"
   ]
  },
  {
   "cell_type": "code",
   "execution_count": 6,
   "metadata": {},
   "outputs": [],
   "source": [
    "# Make the response an xml object\n",
    "xml = xmltodict.parse(r.text)"
   ]
  },
  {
   "cell_type": "code",
   "execution_count": 7,
   "metadata": {},
   "outputs": [],
   "source": [
    "# Make it json\n",
    "jj = json.loads(json.dumps(xml))"
   ]
  },
  {
   "cell_type": "code",
   "execution_count": 13,
   "metadata": {},
   "outputs": [
    {
     "data": {
      "text/plain": [
       "{'#text': 'ArXiv Query: search_query=cat:cs.LG&id_list=&start=0&max_results=10',\n",
       " '@type': 'html'}"
      ]
     },
     "execution_count": 13,
     "metadata": {},
     "output_type": "execute_result"
    }
   ],
   "source": [
    "jj['feed']['title']\n"
   ]
  },
  {
   "cell_type": "code",
   "execution_count": 14,
   "metadata": {},
   "outputs": [
    {
     "data": {
      "text/plain": [
       "dict_keys(['@xmlns', 'link', 'title', 'id', 'updated', 'opensearch:totalResults', 'opensearch:startIndex', 'opensearch:itemsPerPage', 'entry'])"
      ]
     },
     "execution_count": 14,
     "metadata": {},
     "output_type": "execute_result"
    }
   ],
   "source": [
    "jj['feed'].keys()"
   ]
  },
  {
   "cell_type": "code",
   "execution_count": 48,
   "metadata": {},
   "outputs": [
    {
     "data": {
      "text/plain": [
       "['arxiv:doi',\n",
       " 'arxiv:primary_category',\n",
       " 'id',\n",
       " 'title',\n",
       " 'author',\n",
       " 'summary',\n",
       " 'arxiv:journal_ref',\n",
       " 'updated',\n",
       " 'arxiv:comment',\n",
       " 'category',\n",
       " 'published',\n",
       " 'link']"
      ]
     },
     "execution_count": 48,
     "metadata": {},
     "output_type": "execute_result"
    }
   ],
   "source": [
    "# \n",
    "the_articles = jj['feed']['entry']\n",
    "keyset = set()\n",
    "for art in the_articles:\n",
    "    for key in art.keys():\n",
    "        keyset.add(key)\n",
    "list(keyset)"
   ]
  },
  {
   "cell_type": "code",
   "execution_count": 55,
   "metadata": {},
   "outputs": [
    {
     "name": "stdout",
     "output_type": "stream",
     "text": [
      "id: http://arxiv.org/abs/cs/0009007v1\n",
      "updated: 2000-09-13T21:09:47Z\n",
      "published: 2000-09-13T21:09:47Z\n",
      "title: Robust Classification for Imprecise Environments\n",
      "author: [{'name': 'Foster Provost'}, {'name': 'Tom Fawcett'}]\n",
      "arxiv:comment: {'@xmlns:arxiv': 'http://arxiv.org/schemas/atom', '#text': '24 pages, 12 figures. To be published in Machine Learning Journal.\\n  For related papers, see http://www.hpl.hp.com/personal/Tom_Fawcett/ROCCH/'}\n",
      "link: [{'@href': 'http://arxiv.org/abs/cs/0009007v1', '@rel': 'alternate', '@type': 'text/html'}, {'@title': 'pdf', '@href': 'http://arxiv.org/pdf/cs/0009007v1', '@rel': 'related', '@type': 'application/pdf'}]\n",
      "arxiv:primary_category: {'@xmlns:arxiv': 'http://arxiv.org/schemas/atom', '@term': 'cs.LG', '@scheme': 'http://arxiv.org/schemas/atom'}\n",
      "category: [{'@term': 'cs.LG', '@scheme': 'http://arxiv.org/schemas/atom'}, {'@term': 'I.2.6', '@scheme': 'http://arxiv.org/schemas/atom'}]\n"
     ]
    }
   ],
   "source": [
    "# See whats in the 5th article, but remove the summary, since it is too long.\n",
    "art5 = the_articles[5]\n",
    "some_keys = list(art5.keys())\n",
    "some_keys.remove('summary')\n",
    "for key in some_keys:\n",
    "    print(\"{}: {}\".format(key, art5[key]))"
   ]
  },
  {
   "cell_type": "code",
   "execution_count": 57,
   "metadata": {},
   "outputs": [
    {
     "name": "stdout",
     "output_type": "stream",
     "text": [
      "no journal_ref\n",
      "63 pages, 15 figures\n",
      "no journal_ref\n",
      "7 pages, 2 figures\n",
      "no journal_ref\n",
      "11 pages, 2 figures\n",
      "no journal_ref\n",
      "12 pages\n",
      "no journal_ref\n",
      "10 pages\n",
      "no journal_ref\n",
      "24 pages, 12 figures. To be published in Machine Learning Journal.\n",
      "  For related papers, see http://www.hpl.hp.com/personal/Tom_Fawcett/ROCCH/\n",
      "Machine Learning, Proceedings of the 15th International Conference\n",
      "  (J. Shavlik, ed.), Morgan Kaufmann, 1998, pp. 55-63\n",
      "9 pages, 3 figures\n",
      "Data Mining and Knowledge Discovery 3(1), pp. 59-93, 1999\n",
      "37 pages\n",
      "In Bratko, I., and Dzeroski, S., eds., Machine Learning:\n",
      "  Proceedings of the Sixteenth International Conference, pp. 307-314. Morgan\n",
      "  Kaufmann, San Francisco, CA\n",
      "8 pages\n",
      "H. Blockeel and J. Struyf. Efficient algorithms for decision tree\n",
      "  cross-validation. Proceedings of the Eighteenth International Conference on\n",
      "  Machine Learning (C. Brodley and A. Danyluk, eds.), Morgan Kaufmann, 2001,\n",
      "  pp. 11-18\n",
      "9 pages, 6 figures.\n",
      "  http://www.cs.kuleuven.ac.be/cgi-bin-dtai/publ_info.pl?id=34784\n"
     ]
    }
   ],
   "source": [
    "for art in the_articles:\n",
    "    try:\n",
    "        print(art['arxiv:journal_ref']['#text'])\n",
    "    except KeyError:\n",
    "        print(\"no journal_ref\")\n",
    "    print(art['arxiv:comment']['#text'])\n"
   ]
  },
  {
   "cell_type": "code",
   "execution_count": 43,
   "metadata": {},
   "outputs": [
    {
     "name": "stdout",
     "output_type": "stream",
     "text": [
      "id: http://arxiv.org/abs/cs/9905014v1\n",
      "updated: 1999-05-21T14:26:07Z\n",
      "published: 1999-05-21T14:26:07Z\n",
      "title: Hierarchical Reinforcement Learning with the MAXQ Value Function\n",
      "  Decomposition\n",
      "summary: This paper presents the MAXQ approach to hierarchical reinforcement learning\n",
      "based on decomposing the target Markov decision process (MDP) into a hierarchy\n",
      "of smaller MDPs and decomposing the value function of the target MDP into an\n",
      "additive combination of the value functions of the smaller MDPs. The paper\n",
      "defines the MAXQ hierarchy, proves formal results on its representational\n",
      "power, and establishes five conditions for the safe use of state abstractions.\n",
      "The paper presents an online model-free learning algorithm, MAXQ-Q, and proves\n",
      "that it converges wih probability 1 to a kind of locally-optimal policy known\n",
      "as a recursively optimal policy, even in the presence of the five kinds of\n",
      "state abstraction. The paper evaluates the MAXQ representation and MAXQ-Q\n",
      "through a series of experiments in three domains and shows experimentally that\n",
      "MAXQ-Q (with state abstractions) converges to a recursively optimal policy much\n",
      "faster than flat Q learning. The fact that MAXQ learns a representation of the\n",
      "value function has an important benefit: it makes it possible to compute and\n",
      "execute an improved, non-hierarchical policy via a procedure similar to the\n",
      "policy improvement step of policy iteration. The paper demonstrates the\n",
      "effectiveness of this non-hierarchical execution experimentally. Finally, the\n",
      "paper concludes with a comparison to related work and a discussion of the\n",
      "design tradeoffs in hierarchical reinforcement learning.\n",
      "author: {'name': 'Thomas G. Dietterich'}\n",
      "arxiv:comment: {'@xmlns:arxiv': 'http://arxiv.org/schemas/atom', '#text': '63 pages, 15 figures'}\n",
      "link: [{'@href': 'http://arxiv.org/abs/cs/9905014v1', '@rel': 'alternate', '@type': 'text/html'}, {'@title': 'pdf', '@href': 'http://arxiv.org/pdf/cs/9905014v1', '@rel': 'related', '@type': 'application/pdf'}]\n",
      "arxiv:primary_category: {'@xmlns:arxiv': 'http://arxiv.org/schemas/atom', '@term': 'cs.LG', '@scheme': 'http://arxiv.org/schemas/atom'}\n",
      "category: [{'@term': 'cs.LG', '@scheme': 'http://arxiv.org/schemas/atom'}, {'@term': 'I.2.6', '@scheme': 'http://arxiv.org/schemas/atom'}]\n"
     ]
    }
   ],
   "source": [
    "for key in the_articles[0].keys():\n",
    "    print(\"{}: {}\".format(key, the_articles[0][key]))"
   ]
  },
  {
   "cell_type": "code",
   "execution_count": 44,
   "metadata": {},
   "outputs": [
    {
     "name": "stdout",
     "output_type": "stream",
     "text": [
      "id: http://arxiv.org/abs/cs/9905014v1\n",
      "updated: 1999-05-21T14:26:07Z\n",
      "published: 1999-05-21T14:26:07Z\n",
      "title: Hierarchical Reinforcement Learning with the MAXQ Value Function\n",
      "  Decomposition\n",
      "summary: This paper presents the MAXQ approach to hierarchical reinforcement learning\n",
      "based on decomposing the target Markov decision process (MDP) into a hierarchy\n",
      "of smaller MDPs and decomposing the value function of the target MDP into an\n",
      "additive combination of the value functions of the smaller MDPs. The paper\n",
      "defines the MAXQ hierarchy, proves formal results on its representational\n",
      "power, and establishes five conditions for the safe use of state abstractions.\n",
      "The paper presents an online model-free learning algorithm, MAXQ-Q, and proves\n",
      "that it converges wih probability 1 to a kind of locally-optimal policy known\n",
      "as a recursively optimal policy, even in the presence of the five kinds of\n",
      "state abstraction. The paper evaluates the MAXQ representation and MAXQ-Q\n",
      "through a series of experiments in three domains and shows experimentally that\n",
      "MAXQ-Q (with state abstractions) converges to a recursively optimal policy much\n",
      "faster than flat Q learning. The fact that MAXQ learns a representation of the\n",
      "value function has an important benefit: it makes it possible to compute and\n",
      "execute an improved, non-hierarchical policy via a procedure similar to the\n",
      "policy improvement step of policy iteration. The paper demonstrates the\n",
      "effectiveness of this non-hierarchical execution experimentally. Finally, the\n",
      "paper concludes with a comparison to related work and a discussion of the\n",
      "design tradeoffs in hierarchical reinforcement learning.\n",
      "author: {'name': 'Thomas G. Dietterich'}\n",
      "arxiv:comment: {'@xmlns:arxiv': 'http://arxiv.org/schemas/atom', '#text': '63 pages, 15 figures'}\n",
      "link: [{'@href': 'http://arxiv.org/abs/cs/9905014v1', '@rel': 'alternate', '@type': 'text/html'}, {'@title': 'pdf', '@href': 'http://arxiv.org/pdf/cs/9905014v1', '@rel': 'related', '@type': 'application/pdf'}]\n",
      "arxiv:primary_category: {'@xmlns:arxiv': 'http://arxiv.org/schemas/atom', '@term': 'cs.LG', '@scheme': 'http://arxiv.org/schemas/atom'}\n",
      "category: [{'@term': 'cs.LG', '@scheme': 'http://arxiv.org/schemas/atom'}, {'@term': 'I.2.6', '@scheme': 'http://arxiv.org/schemas/atom'}]\n"
     ]
    }
   ],
   "source": [
    "for key in the_articles[1].keys():\n",
    "    print(\"{}: {}\".format(key, the_articles[0][key]))"
   ]
  },
  {
   "cell_type": "code",
   "execution_count": null,
   "metadata": {},
   "outputs": [],
   "source": []
  },
  {
   "cell_type": "code",
   "execution_count": null,
   "metadata": {},
   "outputs": [],
   "source": []
  }
 ],
 "metadata": {
  "kernelspec": {
   "display_name": "Python 3",
   "language": "python",
   "name": "python3"
  },
  "language_info": {
   "codemirror_mode": {
    "name": "ipython",
    "version": 3
   },
   "file_extension": ".py",
   "mimetype": "text/x-python",
   "name": "python",
   "nbconvert_exporter": "python",
   "pygments_lexer": "ipython3",
   "version": "3.6.2"
  }
 },
 "nbformat": 4,
 "nbformat_minor": 2
}
