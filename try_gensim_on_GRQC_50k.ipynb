{
 "cells": [
  {
   "cell_type": "code",
   "execution_count": 1,
   "metadata": {},
   "outputs": [
    {
     "data": {
      "text/plain": [
       "'C'"
      ]
     },
     "execution_count": 1,
     "metadata": {},
     "output_type": "execute_result"
    }
   ],
   "source": [
    "import locale\n",
    "\n",
    "#from matplotlib import pyplot as plt\n",
    "import numpy as np\n",
    "\n",
    "from db import psqlServer\n",
    "sv = psqlServer()\n",
    "\n",
    "control_chars = [chr(0x85)]\n",
    "locale.setlocale(locale.LC_ALL, 'C')\n",
    "\n"
   ]
  },
  {
   "cell_type": "code",
   "execution_count": 2,
   "metadata": {},
   "outputs": [],
   "source": [
    "def normalize_text(text):\n",
    "    norm_text = text.lower()\n",
    "    # Replace breaks with spaces\n",
    "    norm_text = norm_text.replace('<br />', ' ')\n",
    "    # Pad punctuation with spaces on both sides\n",
    "    for char in ['.', '\"', ',', '(', ')', '!', '?', ';', ':']:\n",
    "        norm_text = norm_text.replace(char, ' ' + char + ' ')\n",
    "    return norm_text"
   ]
  },
  {
   "cell_type": "code",
   "execution_count": null,
   "metadata": {},
   "outputs": [],
   "source": []
  },
  {
   "cell_type": "code",
   "execution_count": 3,
   "metadata": {},
   "outputs": [],
   "source": [
    "AI = \"arx_AI\"        # artificial intelligence\n",
    "FA = \"arx_math_FA\"   # functional analysis\n",
    "GR = \"arx_GRQC\"      # general relativity and quantum cosmology\n",
    "LG = \"arx\"           # learning\n",
    "NT = \"arx_math_NT\"   # number theory"
   ]
  },
  {
   "cell_type": "code",
   "execution_count": 4,
   "metadata": {},
   "outputs": [
    {
     "name": "stdout",
     "output_type": "stream",
     "text": [
      "116060\n"
     ]
    }
   ],
   "source": [
    "# How many items in all tables?\n",
    "UNION = \" UNION ALL \"\n",
    "SEL_C = \"SELECT COUNT(*) as FOO FROM \"\n",
    "sum_statement = \"SELECT SUM(FOO) FROM (\"\n",
    "sum_statement += SEL_C + AI\n",
    "sum_statement += UNION + SEL_C + FA \n",
    "sum_statement += UNION + SEL_C + GR \n",
    "sum_statement += UNION + SEL_C + LG \n",
    "sum_statement += UNION + SEL_C + NT\n",
    "sum_statement += \") as B;\"\n",
    "\n",
    "total = sv.execute(sum_statement)[0]['sum']\n",
    "print(total)"
   ]
  },
  {
   "cell_type": "code",
   "execution_count": 5,
   "metadata": {},
   "outputs": [
    {
     "name": "stdout",
     "output_type": "stream",
     "text": [
      "AI:13000\n",
      "FA:16000\n",
      "GR:50000\n",
      "LG:15060\n",
      "NT:22000\n"
     ]
    }
   ],
   "source": [
    "# Per table\n",
    "SEL_C = \"SELECT COUNT(*) FROM \"\n",
    "total_AI = sv.execute(SEL_C + AI)[0]['count']\n",
    "total_FA = sv.execute(SEL_C + FA)[0]['count']\n",
    "total_GR = sv.execute(SEL_C + GR)[0]['count']\n",
    "total_LG = sv.execute(SEL_C + LG)[0]['count']\n",
    "total_NT = sv.execute(SEL_C + NT)[0]['count']\n",
    "\n",
    "print(\"AI:{}\".format(total_AI))\n",
    "print(\"FA:{}\".format(total_FA))\n",
    "print(\"GR:{}\".format(total_GR))\n",
    "print(\"LG:{}\".format(total_LG))\n",
    "print(\"NT:{}\".format(total_NT))"
   ]
  },
  {
   "cell_type": "code",
   "execution_count": 6,
   "metadata": {},
   "outputs": [],
   "source": [
    "# Get some rows from the AI table\n",
    "rows = sv.execute(\"SELECT * FROM arx_GRQC\")\n",
    "corpus = [x['abstract'] for x in rows]\n",
    "labels = [float(x['has_journal_ref']) for x in rows]\n",
    "\n",
    "#rows2 = sv.execute(\"SELECT abstract FROM arx_math_FA LIMIT 10000\")\n",
    "#corpus += [x['abstract'] for x in rows2]\n",
    "#labels += [x['has_journal_ref'] for x in rows2]\n",
    "\n",
    "#rows3 = sv.execute(\"SELECT abstract FROM arx_GRQC LIMIT 30000\")\n",
    "#corpus += [x['abstract'] for x in rows3]\n",
    "#labels += [x['has_journal_ref'] for x in rows2]\n"
   ]
  },
  {
   "cell_type": "code",
   "execution_count": 7,
   "metadata": {},
   "outputs": [],
   "source": [
    "corpus_n = []\n",
    "jj = 0\n",
    "for corp in corpus:\n",
    "    corpus_n.append(u\"_*{0} {1}\\n\".format(jj, normalize_text(corp)))\n",
    "    jj += 1"
   ]
  },
  {
   "cell_type": "code",
   "execution_count": 8,
   "metadata": {},
   "outputs": [
    {
     "data": {
      "text/plain": [
       "50000"
      ]
     },
     "execution_count": 8,
     "metadata": {},
     "output_type": "execute_result"
    }
   ],
   "source": [
    "len(corpus_n)"
   ]
  },
  {
   "cell_type": "code",
   "execution_count": 9,
   "metadata": {},
   "outputs": [],
   "source": [
    "import gensim\n",
    "from collections import namedtuple\n"
   ]
  },
  {
   "cell_type": "code",
   "execution_count": 10,
   "metadata": {},
   "outputs": [],
   "source": [
    "SentimentDocument = namedtuple('SentimentDocument', 'words tags split sentiment')\n",
    "alldocs = []\n",
    "for line_no, line in enumerate(corpus_n[0:12500]):\n",
    "    tokens = gensim.utils.to_unicode(corpus_n[line_no]).split()\n",
    "    words = tokens[1:]\n",
    "    tags = [line_no]\n",
    "    split = 'train'\n",
    "    #split = ['train', 'test', 'extra', 'extra'][line_no//12500]\n",
    "    sentiment = labels[line_no]\n",
    "    #sentiment = [1.0, 0.0, 1.0, 0.0, None, None, None, None][line_no//6750]\n",
    "    alldocs.append(SentimentDocument(words, tags, split, sentiment))\n",
    "\n",
    "for line_no, line in enumerate(corpus_n[12500:25000]):\n",
    "    tokens = gensim.utils.to_unicode(corpus_n[line_no]).split()\n",
    "    words = tokens[1:]\n",
    "    tags = [line_no]\n",
    "    split = 'test'\n",
    "    #split = ['train', 'test', 'extra', 'extra'][line_no//12500]\n",
    "    sentiment = labels[line_no]\n",
    "    #sentiment = [1.0, 0.0, 1.0, 0.0, None, None, None, None][line_no//6750]\n",
    "    alldocs.append(SentimentDocument(words, tags, split, sentiment))\n",
    "    \n",
    "for line_no, line in enumerate(corpus_n[25000:]):\n",
    "    tokens = gensim.utils.to_unicode(corpus_n[line_no]).split()\n",
    "    words = tokens[1:]\n",
    "    tags = [line_no]\n",
    "    split = 'extra'\n",
    "    #split = ['train', 'test', 'extra', 'extra'][line_no//12500]\n",
    "    sentiment = None\n",
    "    #sentiment = [1.0, 0.0, 1.0, 0.0, None, None, None, None][line_no//6750]\n",
    "    alldocs.append(SentimentDocument(words, tags, split, sentiment))    "
   ]
  },
  {
   "cell_type": "code",
   "execution_count": 11,
   "metadata": {},
   "outputs": [
    {
     "data": {
      "text/plain": [
       "50000"
      ]
     },
     "execution_count": 11,
     "metadata": {},
     "output_type": "execute_result"
    }
   ],
   "source": [
    "len(alldocs)"
   ]
  },
  {
   "cell_type": "code",
   "execution_count": 12,
   "metadata": {},
   "outputs": [
    {
     "name": "stdout",
     "output_type": "stream",
     "text": [
      "50000 docs: 12500 train-sentiment, 12500 test-sentiment\n"
     ]
    }
   ],
   "source": [
    "train_docs = [doc for doc in alldocs if doc.split == 'train']\n",
    "test_docs = [doc for doc in alldocs if doc.split == 'test']\n",
    "doc_list = alldocs[:]  # For reshuffling per pass\n",
    "\n",
    "print('%d docs: %d train-sentiment, %d test-sentiment' % (len(doc_list), len(train_docs), len(test_docs)))"
   ]
  },
  {
   "cell_type": "code",
   "execution_count": 13,
   "metadata": {},
   "outputs": [],
   "source": [
    "from gensim.models import Doc2Vec\n",
    "import gensim.models.doc2vec\n",
    "from collections import OrderedDict\n",
    "import multiprocessing"
   ]
  },
  {
   "cell_type": "code",
   "execution_count": 14,
   "metadata": {},
   "outputs": [],
   "source": [
    "cores = multiprocessing.cpu_count()\n",
    "assert gensim.models.doc2vec.FAST_VERSION > -1, \"This will be painfully slow otherwise\""
   ]
  },
  {
   "cell_type": "code",
   "execution_count": 15,
   "metadata": {},
   "outputs": [],
   "source": [
    "simple_models = [\n",
    "    # PV-DM w/ concatenation - window=5 (both sides) approximates paper's 10-word total window size\n",
    "    Doc2Vec(dm=1, dm_concat=1, size=100, window=5, negative=5, hs=0, min_count=2, workers=cores),\n",
    "    # PV-DBOW \n",
    "    Doc2Vec(dm=0, size=100, negative=5, hs=0, min_count=2, workers=cores),\n",
    "    # PV-DM w/ average\n",
    "    Doc2Vec(dm=1, dm_mean=1, size=100, window=10, negative=5, hs=0, min_count=2, workers=cores),\n",
    "]"
   ]
  },
  {
   "cell_type": "code",
   "execution_count": 16,
   "metadata": {},
   "outputs": [],
   "source": [
    "simple_models[0].build_vocab(alldocs)"
   ]
  },
  {
   "cell_type": "code",
   "execution_count": 17,
   "metadata": {},
   "outputs": [
    {
     "name": "stdout",
     "output_type": "stream",
     "text": [
      "Doc2Vec(dm/c,d100,n5,w5,mc2,s0.001,t8)\n",
      "Doc2Vec(dbow,d100,n5,mc2,s0.001,t8)\n",
      "Doc2Vec(dm/m,d100,n5,w10,mc2,s0.001,t8)\n"
     ]
    }
   ],
   "source": [
    "print(simple_models[0])\n",
    "for model in simple_models[1:]:\n",
    "    \"\"\"Reuse shareable structures from other_model.\"\"\"\n",
    "    model.reset_from(simple_models[0])\n",
    "    print(model)"
   ]
  },
  {
   "cell_type": "code",
   "execution_count": 18,
   "metadata": {},
   "outputs": [],
   "source": [
    "models_by_name = OrderedDict((str(model), model) for model in simple_models)\n",
    "from gensim.test.test_doc2vec import ConcatenatedDoc2Vec\n",
    "models_by_name['dbow+dmm'] = ConcatenatedDoc2Vec([simple_models[1], simple_models[2]])\n",
    "models_by_name['dbow+dmc'] = ConcatenatedDoc2Vec([simple_models[1], simple_models[0]])"
   ]
  },
  {
   "cell_type": "code",
   "execution_count": 19,
   "metadata": {},
   "outputs": [
    {
     "data": {
      "text/plain": [
       "OrderedDict([('Doc2Vec(dm/c,d100,n5,w5,mc2,s0.001,t8)',\n",
       "              <gensim.models.doc2vec.Doc2Vec at 0x116d075f8>),\n",
       "             ('Doc2Vec(dbow,d100,n5,mc2,s0.001,t8)',\n",
       "              <gensim.models.doc2vec.Doc2Vec at 0x116d076a0>),\n",
       "             ('Doc2Vec(dm/m,d100,n5,w10,mc2,s0.001,t8)',\n",
       "              <gensim.models.doc2vec.Doc2Vec at 0x116d07550>),\n",
       "             ('dbow+dmm',\n",
       "              <gensim.test.test_doc2vec.ConcatenatedDoc2Vec at 0x12b90af28>),\n",
       "             ('dbow+dmc',\n",
       "              <gensim.test.test_doc2vec.ConcatenatedDoc2Vec at 0x12b90aef0>)])"
      ]
     },
     "execution_count": 19,
     "metadata": {},
     "output_type": "execute_result"
    }
   ],
   "source": [
    "models_by_name"
   ]
  },
  {
   "cell_type": "code",
   "execution_count": 20,
   "metadata": {},
   "outputs": [
    {
     "name": "stderr",
     "output_type": "stream",
     "text": [
      "/Users/alex/code/article-classifier/ac/lib/python3.6/site-packages/statsmodels/compat/pandas.py:56: FutureWarning: The pandas.core.datetools module is deprecated and will be removed in a future version. Please use the pandas.tseries module instead.\n",
      "  from pandas.core import datetools\n"
     ]
    }
   ],
   "source": [
    "\n",
    "# Predictive Evaluation Methods\n",
    "\n",
    "# Let's define some helper methods for evaluating the performance of our Doc2vec\n",
    "# using paragraph vectors. We will classify document sentiments using a logistic \n",
    "# regression model based on our paragraph embeddings. We will compare the error \n",
    "# rates based on word embeddings from our various Doc2vec models.\n",
    "import numpy as np\n",
    "import statsmodels.api as sm\n",
    "from random import sample\n",
    "\n",
    "# For timing\n",
    "from contextlib import contextmanager\n",
    "from timeit import default_timer\n",
    "import time \n"
   ]
  },
  {
   "cell_type": "code",
   "execution_count": 21,
   "metadata": {},
   "outputs": [],
   "source": [
    "@contextmanager\n",
    "def elapsed_timer():\n",
    "    start = default_timer()\n",
    "    elapser = lambda: default_timer() - start\n",
    "    yield lambda: elapser()\n",
    "    end = default_timer()\n",
    "    elapser = lambda: end-start\n",
    "    \n",
    "def logistic_predictor_from_data(train_targets, train_regressors):\n",
    "    logit = sm.Logit(train_targets, train_regressors)\n",
    "    predictor = logit.fit(disp=0)\n",
    "    # print(predictor.summary())\n",
    "    return predictor\n",
    "\n",
    "def error_rate_for_model(test_model, train_set, test_set, infer=False, infer_steps=3, infer_alpha=0.1, infer_subsample=0.1):\n",
    "    \"\"\"Report error rate on test_doc sentiments, using supplied model and train_docs\"\"\"\n",
    "\n",
    "    train_targets, train_regressors = zip(*[(doc.sentiment, test_model.docvecs[doc.tags[0]]) for doc in train_set])\n",
    "    train_regressors = sm.add_constant(train_regressors)\n",
    "    predictor = logistic_predictor_from_data(train_targets, train_regressors)\n",
    "\n",
    "    test_data = test_set\n",
    "    if infer:\n",
    "        if infer_subsample < 1.0:\n",
    "            test_data = sample(test_data, int(infer_subsample * len(test_data)))\n",
    "        test_regressors = [test_model.infer_vector(doc.words, steps=infer_steps, alpha=infer_alpha) for doc in test_data]\n",
    "    else:\n",
    "        test_regressors = [test_model.docvecs[doc.tags[0]] for doc in test_docs]\n",
    "    test_regressors = sm.add_constant(test_regressors)\n",
    "    \n",
    "    # Predict & evaluate\n",
    "    test_predictions = predictor.predict(test_regressors)\n",
    "    \n",
    "    # Here is the wtf: test_data is just [None]*500!!!\n",
    "    corrects = sum(np.rint(test_predictions) == [doc.sentiment for doc in test_data])\n",
    "    errors = len(test_predictions) - corrects\n",
    "    error_rate = float(errors) / len(test_predictions)\n",
    "    return (error_rate, errors, len(test_predictions), predictor)"
   ]
  },
  {
   "cell_type": "code",
   "execution_count": 22,
   "metadata": {},
   "outputs": [],
   "source": [
    "\n",
    "# Bulk Training\n",
    "\n",
    "# We use an explicit multiple-pass, alpha-reduction approach as sketched in \n",
    "# this gensim doc2vec blog post with added shuffling of corpus on each pass.\n",
    "# https://rare-technologies.com/doc2vec-tutorial/\n",
    "from collections import defaultdict\n",
    "best_error = defaultdict(lambda: 1.0)  # To selectively print only best errors achieved"
   ]
  },
  {
   "cell_type": "code",
   "execution_count": null,
   "metadata": {},
   "outputs": [],
   "source": [
    "\n"
   ]
  },
  {
   "cell_type": "code",
   "execution_count": 23,
   "metadata": {
    "scrolled": false
   },
   "outputs": [
    {
     "name": "stdout",
     "output_type": "stream",
     "text": [
      "START 2017-11-30 23:38:14.995967\n",
      "*0.255680 : 1 passes : Doc2Vec(dm/c,d100,n5,w5,mc2,s0.001,t8) 9.3s 0.5s\n",
      "*0.271200 : 1 passes : Doc2Vec(dm/c,d100,n5,w5,mc2,s0.001,t8)_inferred 9.3s 2.2s\n",
      "*0.252160 : 1 passes : Doc2Vec(dbow,d100,n5,mc2,s0.001,t8) 4.0s 0.5s\n",
      "*0.284000 : 1 passes : Doc2Vec(dbow,d100,n5,mc2,s0.001,t8)_inferred 4.0s 1.1s\n",
      "*0.252400 : 1 passes : Doc2Vec(dm/m,d100,n5,w10,mc2,s0.001,t8) 7.1s 0.5s\n",
      "*0.302400 : 1 passes : Doc2Vec(dm/m,d100,n5,w10,mc2,s0.001,t8)_inferred 7.1s 1.3s\n",
      "*0.246080 : 1 passes : dbow+dmm 0.0s 1.0s\n",
      "*0.313600 : 1 passes : dbow+dmm_inferred 0.0s 2.6s\n",
      "*0.247840 : 1 passes : dbow+dmc 0.0s 1.0s\n",
      "*0.316800 : 1 passes : dbow+dmc_inferred 0.0s 3.5s\n",
      "Completed pass 1 at alpha 0.025000\n",
      "*0.254320 : 2 passes : Doc2Vec(dm/c,d100,n5,w5,mc2,s0.001,t8) 11.7s 0.5s\n",
      "*0.240320 : 2 passes : Doc2Vec(dbow,d100,n5,mc2,s0.001,t8) 4.4s 0.5s\n",
      "*0.251440 : 2 passes : Doc2Vec(dm/m,d100,n5,w10,mc2,s0.001,t8) 7.3s 0.5s\n",
      "*0.237120 : 2 passes : dbow+dmm 0.0s 0.9s\n",
      "*0.240480 : 2 passes : dbow+dmc 0.0s 1.0s\n",
      "Completed pass 2 at alpha 0.022600\n",
      " 0.255040 : 3 passes : Doc2Vec(dm/c,d100,n5,w5,mc2,s0.001,t8) 9.8s 0.5s\n",
      " 0.240480 : 3 passes : Doc2Vec(dbow,d100,n5,mc2,s0.001,t8) 4.8s 0.5s\n",
      "*0.250880 : 3 passes : Doc2Vec(dm/m,d100,n5,w10,mc2,s0.001,t8) 7.5s 0.6s\n",
      "*0.236160 : 3 passes : dbow+dmm 0.0s 1.1s\n",
      "*0.237920 : 3 passes : dbow+dmc 0.0s 1.0s\n",
      "Completed pass 3 at alpha 0.020200\n",
      "*0.254000 : 4 passes : Doc2Vec(dm/c,d100,n5,w5,mc2,s0.001,t8) 9.1s 0.7s\n",
      " 0.240880 : 4 passes : Doc2Vec(dbow,d100,n5,mc2,s0.001,t8) 4.6s 0.5s\n",
      " 0.251360 : 4 passes : Doc2Vec(dm/m,d100,n5,w10,mc2,s0.001,t8) 7.9s 0.5s\n",
      " 0.236560 : 4 passes : dbow+dmm 0.0s 0.9s\n",
      "*0.236640 : 4 passes : dbow+dmc 0.0s 1.0s\n",
      "Completed pass 4 at alpha 0.017800\n",
      " 0.254560 : 5 passes : Doc2Vec(dm/c,d100,n5,w5,mc2,s0.001,t8) 9.9s 0.6s\n",
      " 0.284800 : 5 passes : Doc2Vec(dm/c,d100,n5,w5,mc2,s0.001,t8)_inferred 9.9s 2.2s\n",
      "*0.238480 : 5 passes : Doc2Vec(dbow,d100,n5,mc2,s0.001,t8) 4.2s 0.5s\n",
      "*0.224800 : 5 passes : Doc2Vec(dbow,d100,n5,mc2,s0.001,t8)_inferred 4.2s 1.1s\n",
      "*0.248400 : 5 passes : Doc2Vec(dm/m,d100,n5,w10,mc2,s0.001,t8) 7.3s 0.5s\n",
      "*0.234400 : 5 passes : Doc2Vec(dm/m,d100,n5,w10,mc2,s0.001,t8)_inferred 7.3s 1.4s\n",
      " 0.237200 : 5 passes : dbow+dmm 0.0s 0.9s\n",
      "*0.249600 : 5 passes : dbow+dmm_inferred 0.0s 2.4s\n",
      "*0.235680 : 5 passes : dbow+dmc 0.0s 1.2s\n",
      "*0.252000 : 5 passes : dbow+dmc_inferred 0.0s 3.4s\n",
      "Completed pass 5 at alpha 0.015400\n",
      " 0.254800 : 6 passes : Doc2Vec(dm/c,d100,n5,w5,mc2,s0.001,t8) 9.0s 0.5s\n",
      " 0.239200 : 6 passes : Doc2Vec(dbow,d100,n5,mc2,s0.001,t8) 4.5s 0.5s\n",
      " 0.249760 : 6 passes : Doc2Vec(dm/m,d100,n5,w10,mc2,s0.001,t8) 7.9s 0.5s\n",
      "*0.235040 : 6 passes : dbow+dmm 0.0s 1.0s\n",
      "*0.233600 : 6 passes : dbow+dmc 0.0s 1.0s\n",
      "Completed pass 6 at alpha 0.013000\n",
      " 0.255360 : 7 passes : Doc2Vec(dm/c,d100,n5,w5,mc2,s0.001,t8) 9.0s 0.5s\n",
      "*0.237600 : 7 passes : Doc2Vec(dbow,d100,n5,mc2,s0.001,t8) 4.4s 0.5s\n",
      " 0.249760 : 7 passes : Doc2Vec(dm/m,d100,n5,w10,mc2,s0.001,t8) 7.6s 0.5s\n",
      " 0.235840 : 7 passes : dbow+dmm 0.0s 1.0s\n",
      " 0.234320 : 7 passes : dbow+dmc 0.0s 1.0s\n",
      "Completed pass 7 at alpha 0.010600\n",
      " 0.255200 : 8 passes : Doc2Vec(dm/c,d100,n5,w5,mc2,s0.001,t8) 9.6s 0.5s\n",
      " 0.237760 : 8 passes : Doc2Vec(dbow,d100,n5,mc2,s0.001,t8) 4.4s 0.6s\n",
      " 0.249360 : 8 passes : Doc2Vec(dm/m,d100,n5,w10,mc2,s0.001,t8) 8.0s 0.8s\n",
      " 0.235520 : 8 passes : dbow+dmm 0.0s 0.9s\n",
      " 0.234160 : 8 passes : dbow+dmc 0.0s 0.9s\n",
      "Completed pass 8 at alpha 0.008200\n",
      " 0.254480 : 9 passes : Doc2Vec(dm/c,d100,n5,w5,mc2,s0.001,t8) 10.1s 0.5s\n",
      " 0.238480 : 9 passes : Doc2Vec(dbow,d100,n5,mc2,s0.001,t8) 4.3s 0.5s\n",
      " 0.250160 : 9 passes : Doc2Vec(dm/m,d100,n5,w10,mc2,s0.001,t8) 7.5s 0.5s\n",
      "*0.234720 : 9 passes : dbow+dmm 0.0s 0.9s\n",
      " 0.234720 : 9 passes : dbow+dmc 0.0s 1.0s\n",
      "Completed pass 9 at alpha 0.005800\n",
      " 0.254640 : 10 passes : Doc2Vec(dm/c,d100,n5,w5,mc2,s0.001,t8) 8.6s 0.5s\n",
      " 0.280000 : 10 passes : Doc2Vec(dm/c,d100,n5,w5,mc2,s0.001,t8)_inferred 8.6s 2.1s\n",
      " 0.238240 : 10 passes : Doc2Vec(dbow,d100,n5,mc2,s0.001,t8) 5.2s 0.5s\n",
      "*0.222400 : 10 passes : Doc2Vec(dbow,d100,n5,mc2,s0.001,t8)_inferred 5.2s 1.2s\n",
      " 0.250640 : 10 passes : Doc2Vec(dm/m,d100,n5,w10,mc2,s0.001,t8) 8.0s 0.5s\n",
      " 0.269600 : 10 passes : Doc2Vec(dm/m,d100,n5,w10,mc2,s0.001,t8)_inferred 8.0s 1.7s\n",
      "*0.234640 : 10 passes : dbow+dmm 0.0s 1.0s\n",
      " 0.259200 : 10 passes : dbow+dmm_inferred 0.0s 2.5s\n",
      " 0.234320 : 10 passes : dbow+dmc 0.0s 1.0s\n",
      " 0.274400 : 10 passes : dbow+dmc_inferred 0.0s 3.3s\n",
      "Completed pass 10 at alpha 0.003400\n",
      "END 2017-11-30 23:43:00.752676\n"
     ]
    }
   ],
   "source": [
    "from random import shuffle\n",
    "import datetime\n",
    "\n",
    "alpha, min_alpha, passes = (0.025, 0.001, 10)\n",
    "alpha_delta = (alpha - min_alpha) / passes\n",
    "\n",
    "print(\"START %s\" % datetime.datetime.now())\n",
    "\n",
    "for epoch in range(passes):\n",
    "    shuffle(doc_list)  # Shuffling gets best results\n",
    "    \n",
    "    for name, train_model in models_by_name.items():\n",
    "        # Train\n",
    "        duration = 'na'\n",
    "        train_model.alpha, train_model.min_alpha = alpha, alpha\n",
    "        with elapsed_timer() as elapsed:\n",
    "            train_model.train(doc_list, total_examples=len(doc_list), epochs=1)\n",
    "            duration = '%.1f' % elapsed()\n",
    "            \n",
    "        # Evaluate\n",
    "        eval_duration = ''\n",
    "        with elapsed_timer() as eval_elapsed:\n",
    "            err, err_count, test_count, predictor = error_rate_for_model(train_model, train_docs, test_docs)\n",
    "        eval_duration = '%.1f' % eval_elapsed()\n",
    "        best_indicator = ' '\n",
    "        if err <= best_error[name]:\n",
    "            best_error[name] = err\n",
    "            best_indicator = '*' \n",
    "        print(\"%s%f : %i passes : %s %ss %ss\" % (best_indicator, err, epoch + 1, name, duration, eval_duration))\n",
    "\n",
    "        if ((epoch + 1) % 5) == 0 or epoch == 0:\n",
    "            eval_duration = ''\n",
    "            with elapsed_timer() as eval_elapsed:\n",
    "                infer_err, err_count, test_count, predictor = error_rate_for_model(train_model, train_docs, test_docs, infer=True)\n",
    "            eval_duration = '%.1f' % eval_elapsed()\n",
    "            best_indicator = ' '\n",
    "            if infer_err < best_error[name + '_inferred']:\n",
    "                best_error[name + '_inferred'] = infer_err\n",
    "                best_indicator = '*'\n",
    "            print(\"%s%f : %i passes : %s %ss %ss\" % (best_indicator, infer_err, epoch + 1, name + '_inferred', duration, eval_duration))\n",
    "\n",
    "    print('Completed pass %i at alpha %f' % (epoch + 1, alpha))\n",
    "    alpha -= alpha_delta\n",
    "    \n",
    "print(\"END %s\" % str(datetime.datetime.now()))"
   ]
  },
  {
   "cell_type": "code",
   "execution_count": 24,
   "metadata": {
    "scrolled": true
   },
   "outputs": [
    {
     "name": "stdout",
     "output_type": "stream",
     "text": [
      "Err rate Model\n",
      "0.222400 Doc2Vec(dbow,d100,n5,mc2,s0.001,t8)_inferred\n",
      "0.233600 dbow+dmc\n",
      "0.234400 Doc2Vec(dm/m,d100,n5,w10,mc2,s0.001,t8)_inferred\n",
      "0.234640 dbow+dmm\n",
      "0.237600 Doc2Vec(dbow,d100,n5,mc2,s0.001,t8)\n",
      "0.248400 Doc2Vec(dm/m,d100,n5,w10,mc2,s0.001,t8)\n",
      "0.249600 dbow+dmm_inferred\n",
      "0.252000 dbow+dmc_inferred\n",
      "0.254000 Doc2Vec(dm/c,d100,n5,w5,mc2,s0.001,t8)\n",
      "0.271200 Doc2Vec(dm/c,d100,n5,w5,mc2,s0.001,t8)_inferred\n"
     ]
    }
   ],
   "source": [
    "# Print best error rates achieved\n",
    "print(\"Err rate Model\")\n",
    "for rate, name in sorted((rate, name) for name, rate in best_error.items()):\n",
    "    print(\"%f %s\" % (rate, name))\n"
   ]
  },
  {
   "cell_type": "code",
   "execution_count": 25,
   "metadata": {},
   "outputs": [
    {
     "name": "stdout",
     "output_type": "stream",
     "text": [
      "for doc 19145...\n",
      "Doc2Vec(dm/c,d100,n5,w5,mc2,s0.001,t8):\n",
      " [(6645, 0.7364850044250488), (24693, 0.6765921711921692), (17275, 0.674149751663208)]\n",
      "Doc2Vec(dbow,d100,n5,mc2,s0.001,t8):\n",
      " [(6645, 0.8889714479446411), (24069, 0.6364575624465942), (22132, 0.6157433986663818)]\n",
      "Doc2Vec(dm/m,d100,n5,w10,mc2,s0.001,t8):\n",
      " [(6645, 0.7635817527770996), (21852, 0.7499732375144958), (13736, 0.7415536642074585)]\n"
     ]
    }
   ],
   "source": [
    "doc_id = np.random.randint(simple_models[0].docvecs.count)  # Pick random doc; re-run cell for more examples\n",
    "print('for doc %d...' % doc_id)\n",
    "for model in simple_models:\n",
    "    inferred_docvec = model.infer_vector(alldocs[doc_id].words)\n",
    "    print('%s:\\n %s' % (model, model.docvecs.most_similar([inferred_docvec], topn=3)))"
   ]
  },
  {
   "cell_type": "code",
   "execution_count": 26,
   "metadata": {},
   "outputs": [
    {
     "name": "stdout",
     "output_type": "stream",
     "text": [
      "TARGET (22506): «starting from a lagrangian we perform the full constraint analysis of the hamiltonian for general relativity in the tetrad-connection formulation for an arbitrary value of the immirzi parameter and solve the second class constraints , presenting the theory with a hamiltonian composed of first class constraints which are the generators of the gauge symmetries of the action . in the time gauge we then recover barbero's formulation of gravity .»\n",
      "\n",
      "SIMILAR/DISSIMILAR DOCS PER MODEL Doc2Vec(dm/m,d100,n5,w10,mc2,s0.001,t8):\n",
      "\n",
      "MOST (17328, 0.7840209603309631): «for schwarzschild space-time , distributional expressions of energy-momentum densities and of scalar concomitants of the curvature tensors are examined for a class of coordinate systems which includes those of the schwarzschild and of kerr-schild types as special cases . the energy-momentum density $\\tilde t_\\mu^{\\nu} ( x ) $ of the gravitational source and the gravitational energy-momentum pseudo-tensor density $\\tilde t_\\mu^{\\nu}$ have the expressions $\\tilde t_\\mu^{\\nu} ( x ) =-mc^2\\delta_\\mu^0\\delta_0^{\\nu} \\delta^{ ( 3 ) }x ) $ and $\\tilde t_\\mu^{\\nu}=0$ , respectively . in expressions of the curvature squares for this class of coordinate systems , there are terms like $\\delta^{ ( 3 ) } ( x ) /r^3$ and $[\\delta^{ ( 3 ) } ( x ) }]^2$ , as well as other terms , which are singular at $x=0$ . it is pointed out that the well-known expression $r^{\\rho\\sigma\\mu\\nu} ( {} ) r_{\\rho\\sigma\\mu\\nu} ( {} ) $ $=48g^{2}m^{2}/c^{4}r^{6}$ is not correct , if we define $1/r^6 = \\lim_{\\epsilon\\to 0}1/ ( r^2+\\epsilon^2 ) ^3$ . }»\n",
      "\n",
      "MEDIAN (19601, 0.43077734112739563): «we consider quantum mechanical corrections to a homogeneous , isotropic and spatially flat geometry whose scale factor expands classically as a general power of the co-moving time . the effects of both gravitons and the scalar inflaton are computed at one loop using the manifestly causal formalism of schwinger with the feynman rules recently developed by iliopoulos {\\it et al . } we find no significant effect , in marked contrast with the result obtained by mukhanov {\\it et al . } for chaotic inflation based on a quadratic potential . by applying the canonical technique of mukhanov {\\it et al . } to the exponential potentials of power law inflation , we show that the two methods produce the same results , within the approximations employed , for these backgrounds . we therefore conclude that the shape of the inflaton potential can have an enormous impact on the one loop back-reaction .»\n",
      "\n",
      "LEAST (20272, -0.08986039459705353): «using a sigma model formulation of the field equations as on a two-dimensional manifold we provide the proof of a black hole uniqueness solution in n=4 , d=4 supergravity subject to certain boundary conditions . we considered the black hole solutions both in su ( 4 ) and so ( 4 ) versions of the underlying theory .»\n",
      "\n"
     ]
    }
   ],
   "source": [
    "\n",
    "import random\n",
    "\n",
    "doc_id = np.random.randint(simple_models[0].docvecs.count)  # pick random doc, re-run cell for more examples\n",
    "model = random.choice(simple_models)  # and a random model\n",
    "sims = model.docvecs.most_similar(doc_id, topn=model.docvecs.count)  # get *all* similar documents\n",
    "print(u'TARGET (%d): «%s»\\n' % (doc_id, ' '.join(alldocs[doc_id].words)))\n",
    "print(u'SIMILAR/DISSIMILAR DOCS PER MODEL %s:\\n' % model)\n",
    "for label, index in [('MOST', 0), ('MEDIAN', len(sims)//2), ('LEAST', len(sims) - 1)]:\n",
    "    print(u'%s %s: «%s»\\n' % (label, sims[index], ' '.join(alldocs[sims[index][0]].words)))\n",
    "\n"
   ]
  },
  {
   "cell_type": "code",
   "execution_count": 27,
   "metadata": {},
   "outputs": [
    {
     "name": "stdout",
     "output_type": "stream",
     "text": [
      "TARGET (8300): «recent observations of galactic black hole candidates ( bhcs ) suggest that those that are superluminal jet sources have more rapid black hole spin rates than otherwise normal bhcs . this provides observational support for models of relativistic jet formation that extract rotational energy of the central black hole . to investigate this mechanism , we have developed a new general relativistic magnetohydrodynamic code in kerr geometry . here we report on the first numerical simulation of the formation of a relativistic jet in a rapidly-rotating ( a=0 . 95 ) kerr black hole magnetosphere . we assume that the initial velocity of the disk is zero . we find that the maximum velocity of the jet reaches 0 . 93c ( lorentz factor , 2 . 7 ) and the terminal velocity of the jet is 0 . 85c ( lorentz factor , 1 . 9 ) . on the other hand , for a non-rotating ( a=0 ) schwarzschild black hole , the maximum outflow velocity is less than 0 . 6c for initial magnetospheric conditions similar to to those of the kerr black hole case . these numerical results show the importance of the rapidly rotating black hole for the relativistic jet formation .»\n",
      "\n",
      "SIMILAR/DISSIMILAR DOCS PER MODEL Doc2Vec(dbow,d100,n5,mc2,s0.001,t8):\n",
      "\n",
      "MOST (8298, 0.7001701593399048): «to investigate the formation mechanism of relativistic jets in active galactic nuclei and micro-quasars , we have developed a new general relativistic magnetohydrodynamic code in kerr geometry . here we report on the first numerical simulation of jet formation in a rapidly-rotating ( a=0 . 95 ) kerr black hole magnetosphere . we study cases in which the keplerian accretion disk is both co-rotating and counter-rotating with respect to the black hole rotation . in the co-rotating disk case , our results are almost the same as those in schwarzschild black hole cases : a gas pressure-driven jet is formed by a shock in the disk , and a weaker magnetically-driven jet is also generated outside the gas pressure-driven jet . on the other hand , in the counter-rotating disk case , a new powerful magnetically-driven jet is formed inside the gas pressure-driven jet . the newly found magnetically-driven jet in the latter case is accelerated by a strong magnetic field created by frame dragging in the ergosphere . through this process , the magnetic field extracts the energy of the black hole rotation .»\n",
      "\n",
      "MEDIAN (9094, 0.2728613317012787): «we extract all the invariants ( i . e . all the functions which do not depend on the choice of phase-space coordinates ) of the dynamics of two point-masses , at the third post-newtonian ( 3pn ) approximation of general relativity . we start by showing how a contact transformation can be used to reduce the 3pn higher-order hamiltonian derived by jaranowski and sch\\ \" afer to an ordinary hamiltonian . the dynamical invariants for general orbits ( considered in the center-of-mass frame ) are then extracted by computing the radial action variable $\\oint{p_r}dr$ as a function of energy and angular momentum . the important case of circular orbits is given special consideration . we discuss in detail the plausible ranges of values of the two quantities $\\oms$ , $\\omk$ which parametrize the existence of ambiguities in the regularization of some of the divergent integrals making up the hamiltonian . the physical applications of the invariant functions derived here ( e . g . to the determination of the location of the last stable circular orbit ) are left to subsequent work .»\n",
      "\n",
      "LEAST (5794, -0.05140630155801773): «quantization of the time symmetric system of interacting strings requires that gravity , just as electromagnetism in wheeler-feynman's time symmetric electro- dynamics , also be an \" adjunct field \" instead of an independent entity . the \" adjunct field \" emerges , at a scale large compared to that of the strings , as a \" statistic \" that summarizes how the string positions in the underlying space- time are \" compactified \" into those in minkowski space . we are able to show , without adding a scalar curvature term to the string action , that the \" adjunct gravitational field \" satisfies einstein's equation with no cosmological term .»\n",
      "\n"
     ]
    }
   ],
   "source": [
    "import random\n",
    "\n",
    "doc_id = np.random.randint(simple_models[0].docvecs.count)  # pick random doc, re-run cell for more examples\n",
    "model = random.choice(simple_models)  # and a random model\n",
    "sims = model.docvecs.most_similar(doc_id, topn=model.docvecs.count)  # get *all* similar documents\n",
    "print(u'TARGET (%d): «%s»\\n' % (doc_id, ' '.join(alldocs[doc_id].words)))\n",
    "print(u'SIMILAR/DISSIMILAR DOCS PER MODEL %s:\\n' % model)\n",
    "for label, index in [('MOST', 0), ('MEDIAN', len(sims)//2), ('LEAST', len(sims) - 1)]:\n",
    "    print(u'%s %s: «%s»\\n' % (label, sims[index], ' '.join(alldocs[sims[index][0]].words)))\n",
    "\n"
   ]
  },
  {
   "cell_type": "code",
   "execution_count": 28,
   "metadata": {},
   "outputs": [
    {
     "name": "stdout",
     "output_type": "stream",
     "text": [
      "TARGET (18881): «in recent work on black hole entropy in non-perturbative quantum gravity , an action for the black hole sector of the phase space is introduced and ( partially ) quantized . we give a number of observations on this and related works . in particular we show that ( i ) the entropy calculation applies without change to generally covariant theories having no black hole solutions , ( ii ) the phase space constraint used to select the black hole sector is not the apparent horizon equation , which is the natural phase space constraint separating trapped and untrapped regions on an initial data surface , and ( iii ) there appears to be at least one other phase space constraint which leads to the conclusion that the entropy associated with a bounding two-dimensional surface is proportional to its area .»\n",
      "\n",
      "SIMILAR/DISSIMILAR DOCS PER MODEL Doc2Vec(dm/c,d100,n5,w5,mc2,s0.001,t8):\n",
      "\n",
      "MOST (17928, 0.5639107823371887): «we study the extent to which d=11 supergravity can be deformed and show in two very different ways that , unlike lower d versions , it forbids an extension with cosmological constant . some speculations about other invariants are made , in connection with the possible counterterms of the theory .»\n",
      "\n",
      "MEDIAN (6743, -0.008834600448608398): «we describe impulsive gravitational pp-waves entirely in the distributional picture . applying colombeau's nonlinear framework of generalized functions we handle the formally ill-defined products of distributions which enter the geodesic as well as the geodesic deviation equation . using a universal regularization procedure we explicitly derive regularization independent distributional limits . in the special case of impulsive plane waves we compare our results with the particle motion derived from the continuous form of the metric .»\n",
      "\n",
      "LEAST (15869, -0.49527987837791443): «locating apparent horizons is not only important for a complete understanding of numerically generated spacetimes , but it may also be a crucial component of the technique for evolving black-hole spacetimes accurately . a scheme proposed by libson et al . , based on expanding the location of the apparent horizon in terms of symmetric trace-free tensors , seems very promising for use with three-dimensional numerical data sets . in this paper , we generalize this scheme and perform a number of code tests to fully calibrate its behavior in black-hole spacetimes similar to those we expect to encounter in solving the binary black-hole coalescence problem . an important aspect of the generalization is that we can compute the symmetric trace-free tensor expansion to any order . this enables us to determine how far we must carry the expansion to achieve results of a desired accuracy . to accomplish this generalization , we describe a new and very convenient set of recurrence relations which apply to symmetric trace-free tensors .»\n",
      "\n"
     ]
    }
   ],
   "source": [
    "import random\n",
    "\n",
    "doc_id = np.random.randint(simple_models[0].docvecs.count)  # pick random doc, re-run cell for more examples\n",
    "model = random.choice(simple_models)  # and a random model\n",
    "sims = model.docvecs.most_similar(doc_id, topn=model.docvecs.count)  # get *all* similar documents\n",
    "print(u'TARGET (%d): «%s»\\n' % (doc_id, ' '.join(alldocs[doc_id].words)))\n",
    "print(u'SIMILAR/DISSIMILAR DOCS PER MODEL %s:\\n' % model)\n",
    "for label, index in [('MOST', 0), ('MEDIAN', len(sims)//2), ('LEAST', len(sims) - 1)]:\n",
    "    print(u'%s %s: «%s»\\n' % (label, sims[index], ' '.join(alldocs[sims[index][0]].words)))\n",
    "\n"
   ]
  },
  {
   "cell_type": "code",
   "execution_count": null,
   "metadata": {},
   "outputs": [],
   "source": []
  },
  {
   "cell_type": "code",
   "execution_count": null,
   "metadata": {},
   "outputs": [],
   "source": []
  }
 ],
 "metadata": {
  "kernelspec": {
   "display_name": "Python 3",
   "language": "python",
   "name": "python3"
  },
  "language_info": {
   "codemirror_mode": {
    "name": "ipython",
    "version": 3
   },
   "file_extension": ".py",
   "mimetype": "text/x-python",
   "name": "python",
   "nbconvert_exporter": "python",
   "pygments_lexer": "ipython3",
   "version": "3.6.2"
  }
 },
 "nbformat": 4,
 "nbformat_minor": 2
}
